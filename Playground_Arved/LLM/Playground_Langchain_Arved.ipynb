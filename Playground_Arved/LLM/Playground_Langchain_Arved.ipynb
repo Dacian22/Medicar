{
 "cells": [
  {
   "cell_type": "markdown",
   "metadata": {},
   "source": [
    "https://python.langchain.com/docs/use_cases/graph/integrations/graph_networkx_qa#create-the-graph"
   ]
  },
  {
   "cell_type": "code",
   "execution_count": 14,
   "metadata": {},
   "outputs": [],
   "source": [
    "# import libraries\n",
    "from langchain.indexes import GraphIndexCreator\n",
    "from langchain.indexes.graph import NetworkxEntityGraph\n",
    "from langchain_community.llms import Ollama\n",
    "from langchain_openai import OpenAI\n",
    "from langchain.chains import GraphQAChain\n",
    "import networkx as nx\n",
    "import pandas as pd\n",
    "from dotenv import load_dotenv"
   ]
  },
  {
   "cell_type": "code",
   "execution_count": 15,
   "metadata": {},
   "outputs": [
    {
     "data": {
      "text/plain": [
       "True"
      ]
     },
     "execution_count": 15,
     "metadata": {},
     "output_type": "execute_result"
    }
   ],
   "source": [
    "load_dotenv()"
   ]
  },
  {
   "cell_type": "code",
   "execution_count": 16,
   "metadata": {},
   "outputs": [],
   "source": [
    "# read csv file and skip first row\n",
    "highway_type = pd.read_csv('edge_labels_highways.csv', header=None, skiprows=1,\n",
    "                 names=['edge', 'highway type'])\n",
    "# split the first column into two columns\n",
    "highway_type['edge'] = highway_type['edge'].apply(lambda x: eval(x))\n",
    "\n",
    "# Split the 'edge' column into two columns 'start' and 'end'\n",
    "highway_type[['startNode', 'endNode']] = highway_type['edge'].apply(pd.Series)\n",
    "# convert the values into strings\n",
    "highway_type['startNode'] = highway_type['startNode'].astype(str)\n",
    "highway_type['endNode'] = highway_type['endNode'].astype(str)\n",
    "# Drop the 'edge' column\n",
    "highway_type.drop('edge', axis=1, inplace=True)"
   ]
  },
  {
   "cell_type": "code",
   "execution_count": 17,
   "metadata": {},
   "outputs": [],
   "source": [
    "# create networkx graph based on csv files\n",
    "G = nx.read_edgelist(\"..\\\\csv\\\\edges_UH_Graph.csv\", delimiter=\",\", create_using=nx.DiGraph(), nodetype=str)\n",
    "# add labels to edges according to highway\n",
    "for u,v in G.edges():\n",
    "    if (u,v) in zip(highway_type['startNode'], highway_type['endNode']):\n",
    "        G[u][v]['relation'] = 'highway type: ' + str(highway_type['highway type'].loc[(highway_type['startNode'] == u) & (highway_type['endNode'] == v)].values[0])\n",
    "    else:\n",
    "        G[u][v]['relation'] = 'highway type: unknown'"
   ]
  },
  {
   "cell_type": "code",
   "execution_count": 18,
   "metadata": {},
   "outputs": [],
   "source": [
    "# write the graph to a GML file\n",
    "nx.write_gml(G, \"UH_Graph.gml\")"
   ]
  },
  {
   "cell_type": "code",
   "execution_count": 19,
   "metadata": {},
   "outputs": [],
   "source": [
    "# read the graph from the GML file\n",
    "G = nx.read_gml(\"UH_Graph.gml\")"
   ]
  },
  {
   "cell_type": "code",
   "execution_count": 20,
   "metadata": {},
   "outputs": [],
   "source": [
    "# load gml graph as NetworkxEntityGraph\n",
    "G = nx.read_gml(\"UH_Graph.gml\")\n",
    "G_NX = NetworkxEntityGraph(G)"
   ]
  },
  {
   "cell_type": "code",
   "execution_count": 21,
   "metadata": {},
   "outputs": [
    {
     "name": "stdout",
     "output_type": "stream",
     "text": [
      "Nodes: 221\n"
     ]
    }
   ],
   "source": [
    "# print amount of nodes\n",
    "print(\"Nodes:\", G_NX.get_number_of_nodes())"
   ]
  },
  {
   "cell_type": "code",
   "execution_count": 22,
   "metadata": {},
   "outputs": [],
   "source": [
    "# define the chain\n",
    "chain = GraphQAChain.from_llm(OpenAI(), graph = G_NX, verbose = True)"
   ]
  },
  {
   "cell_type": "code",
   "execution_count": 23,
   "metadata": {},
   "outputs": [],
   "source": [
    "node_1 = '31404364'\n",
    "node_2 = '313157654'"
   ]
  },
  {
   "cell_type": "code",
   "execution_count": 24,
   "metadata": {},
   "outputs": [],
   "source": [
    "prompt = 'Which is the highway type between node {node_1} and node {node_2} from the graph you received as input?'"
   ]
  },
  {
   "cell_type": "code",
   "execution_count": 25,
   "metadata": {},
   "outputs": [],
   "source": [
    "# chain.run(prompt)"
   ]
  },
  {
   "cell_type": "markdown",
   "metadata": {},
   "source": [
    "## Problem: This is created for Knowledge Graphs, not for our graph!!"
   ]
  }
 ],
 "metadata": {
  "kernelspec": {
   "display_name": "medicar",
   "language": "python",
   "name": "python3"
  },
  "language_info": {
   "codemirror_mode": {
    "name": "ipython",
    "version": 3
   },
   "file_extension": ".py",
   "mimetype": "text/x-python",
   "name": "python",
   "nbconvert_exporter": "python",
   "pygments_lexer": "ipython3",
   "version": "3.12.2"
  }
 },
 "nbformat": 4,
 "nbformat_minor": 2
}
