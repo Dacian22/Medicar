{
 "cells": [
  {
   "cell_type": "markdown",
   "metadata": {},
   "source": [
    "### 1) https://docs.smith.langchain.com/tracing/quick_start"
   ]
  },
  {
   "cell_type": "code",
   "execution_count": 9,
   "metadata": {},
   "outputs": [],
   "source": [
    "# import libraries\n",
    "from langchain_openai import ChatOpenAI\n",
    "from langchain_core.prompts import ChatPromptTemplate\n",
    "from langchain_core.output_parsers import StrOutputParser\n",
    "\n",
    "from dotenv import load_dotenv\n",
    "from langsmith import Client\n",
    "import pandas as pd"
   ]
  },
  {
   "cell_type": "code",
   "execution_count": 10,
   "metadata": {},
   "outputs": [
    {
     "data": {
      "text/plain": [
       "True"
      ]
     },
     "execution_count": 10,
     "metadata": {},
     "output_type": "execute_result"
    }
   ],
   "source": [
    "load_dotenv()"
   ]
  },
  {
   "cell_type": "code",
   "execution_count": 11,
   "metadata": {},
   "outputs": [],
   "source": [
    "# create the langsmith client to interact with the API\n",
    "client = Client()"
   ]
  },
  {
   "cell_type": "code",
   "execution_count": 21,
   "metadata": {},
   "outputs": [
    {
     "data": {
      "text/plain": [
       "'No.'"
      ]
     },
     "execution_count": 21,
     "metadata": {},
     "output_type": "execute_result"
    }
   ],
   "source": [
    "# prompt = ChatPromptTemplate.from_messages([\n",
    "#     (\"system\", \"You are a helpful assistant. Please respond to the user's request only based on the given context with Yes or No.\"),\n",
    "#     (\"user\", \"Question: {question}\\nContext: {context}\"),\n",
    "# ])\n",
    "# model = ChatOpenAI(model=\"gpt-3.5-turbo\")\n",
    "# output_parser = StrOutputParser()\n",
    "\n",
    "# chain = prompt | model | output_parser\n",
    "\n",
    "# question = \"Can you say if the edge can still be used?\"\n",
    "# context = \"On the edge a person fell on the ground.\"\n",
    "# chain.invoke({\"question\": question, \"context\": context})"
   ]
  },
  {
   "cell_type": "markdown",
   "metadata": {},
   "source": [
    "### 2) https://python.langchain.com/docs/langsmith/walkthrough"
   ]
  },
  {
   "cell_type": "code",
   "execution_count": 20,
   "metadata": {},
   "outputs": [],
   "source": [
    "# read the evaluation dataframe\n",
    "df = pd.read_csv('..\\\\..\\\\Playground_LLM\\\\EvaluationDatabase.csv', delimiter=';')\n",
    "input_keys = ['action']\n",
    "output_keys = ['edgeUsable']"
   ]
  },
  {
   "cell_type": "code",
   "execution_count": null,
   "metadata": {},
   "outputs": [],
   "source": [
    "# create dataset in langsmith\n",
    "# client.upload_dataframe(\n",
    "#     df = df,\n",
    "#     input_keys = input_keys,\n",
    "#     output_keys = output_keys,\n",
    "#     name = \"Evaluation Database\",\n",
    "#     description = \"A dataset to evaluate the model\",\n",
    "#     data_type = 'kv')"
   ]
  }
 ],
 "metadata": {
  "kernelspec": {
   "display_name": "medicar",
   "language": "python",
   "name": "python3"
  },
  "language_info": {
   "codemirror_mode": {
    "name": "ipython",
    "version": 3
   },
   "file_extension": ".py",
   "mimetype": "text/x-python",
   "name": "python",
   "nbconvert_exporter": "python",
   "pygments_lexer": "ipython3",
   "version": "3.12.2"
  }
 },
 "nbformat": 4,
 "nbformat_minor": 2
}
