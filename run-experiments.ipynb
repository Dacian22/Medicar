{
 "cells": [
  {
   "metadata": {
    "ExecuteTime": {
     "end_time": "2024-10-01T16:14:33.256497Z",
     "start_time": "2024-10-01T16:14:30.701056Z"
    }
   },
   "cell_type": "code",
   "source": [
    "import time\n",
    "\n",
    "import pandas as pd\n",
    "import dotenv\n",
    "import os\n",
    "import sys\n",
    "import datetime\n",
    "sys.path.append('./_01_Simulation/')\n",
    "\n",
    "import _01_Simulation.LLM_Edge_Usability\n",
    "import _01_Simulation.LLM_Dynamic_Weights"
   ],
   "id": "3d419cfad8ae5e35",
   "outputs": [],
   "execution_count": 1
  },
  {
   "metadata": {
    "ExecuteTime": {
     "end_time": "2024-10-01T16:14:33.286127Z",
     "start_time": "2024-10-01T16:14:33.258065Z"
    }
   },
   "cell_type": "code",
   "source": [
    "# load .env file\n",
    "dotenv.load_dotenv()"
   ],
   "id": "1f561e7e91c8d35",
   "outputs": [
    {
     "data": {
      "text/plain": [
       "True"
      ]
     },
     "execution_count": 2,
     "metadata": {},
     "output_type": "execute_result"
    }
   ],
   "execution_count": 2
  },
  {
   "metadata": {},
   "cell_type": "markdown",
   "source": "# 1. Edge usability",
   "id": "ad46b5e6f445a87"
  },
  {
   "metadata": {
    "ExecuteTime": {
     "end_time": "2024-09-25T13:36:31.879934Z",
     "start_time": "2024-09-25T13:36:31.877070Z"
    }
   },
   "cell_type": "code",
   "source": [
    "# Params (currently only considers openai models\n",
    "approaches = [\"zeroshot\", \"fewshot\"]"
   ],
   "id": "df76334181794a14",
   "outputs": [],
   "execution_count": 12
  },
  {
   "metadata": {
    "ExecuteTime": {
     "end_time": "2024-09-25T13:36:32.457698Z",
     "start_time": "2024-09-25T13:36:32.449854Z"
    }
   },
   "cell_type": "code",
   "source": [
    "# load evaluation csv\n",
    "df_evaluation = pd.read_csv(os.path.join(os.getenv('RESOURCES'), 'EvaluationDataset.csv'), sep=\";\")"
   ],
   "id": "42a0d76d145bb7da",
   "outputs": [],
   "execution_count": 13
  },
  {
   "metadata": {
    "ExecuteTime": {
     "end_time": "2024-09-25T13:36:34.052635Z",
     "start_time": "2024-09-25T13:36:34.046011Z"
    }
   },
   "cell_type": "code",
   "source": "df_evaluation.head()",
   "id": "ae7913f8d99a6a29",
   "outputs": [
    {
     "data": {
      "text/plain": [
       "                                              action  edgeUsable\n",
       "0                       A person fell on the ground.       False\n",
       "1  There is an unexpected construction on the usu...       False\n",
       "2                 Fallen branches from nearby trees.       False\n",
       "3              Street cleaning crew sweeping debris.       False\n",
       "4        The sidewalk is obstructed by a parked car.       False"
      ],
      "text/html": [
       "<div>\n",
       "<style scoped>\n",
       "    .dataframe tbody tr th:only-of-type {\n",
       "        vertical-align: middle;\n",
       "    }\n",
       "\n",
       "    .dataframe tbody tr th {\n",
       "        vertical-align: top;\n",
       "    }\n",
       "\n",
       "    .dataframe thead th {\n",
       "        text-align: right;\n",
       "    }\n",
       "</style>\n",
       "<table border=\"1\" class=\"dataframe\">\n",
       "  <thead>\n",
       "    <tr style=\"text-align: right;\">\n",
       "      <th></th>\n",
       "      <th>action</th>\n",
       "      <th>edgeUsable</th>\n",
       "    </tr>\n",
       "  </thead>\n",
       "  <tbody>\n",
       "    <tr>\n",
       "      <th>0</th>\n",
       "      <td>A person fell on the ground.</td>\n",
       "      <td>False</td>\n",
       "    </tr>\n",
       "    <tr>\n",
       "      <th>1</th>\n",
       "      <td>There is an unexpected construction on the usu...</td>\n",
       "      <td>False</td>\n",
       "    </tr>\n",
       "    <tr>\n",
       "      <th>2</th>\n",
       "      <td>Fallen branches from nearby trees.</td>\n",
       "      <td>False</td>\n",
       "    </tr>\n",
       "    <tr>\n",
       "      <th>3</th>\n",
       "      <td>Street cleaning crew sweeping debris.</td>\n",
       "      <td>False</td>\n",
       "    </tr>\n",
       "    <tr>\n",
       "      <th>4</th>\n",
       "      <td>The sidewalk is obstructed by a parked car.</td>\n",
       "      <td>False</td>\n",
       "    </tr>\n",
       "  </tbody>\n",
       "</table>\n",
       "</div>"
      ]
     },
     "execution_count": 14,
     "metadata": {},
     "output_type": "execute_result"
    }
   ],
   "execution_count": 14
  },
  {
   "metadata": {
    "ExecuteTime": {
     "end_time": "2024-09-25T13:36:36.339665Z",
     "start_time": "2024-09-25T13:36:36.336597Z"
    }
   },
   "cell_type": "code",
   "source": [
    "# TODO\n",
    "df_evaluation = df_evaluation.iloc[:10]"
   ],
   "id": "ef7371ab95fab406",
   "outputs": [],
   "execution_count": 15
  },
  {
   "metadata": {
    "ExecuteTime": {
     "end_time": "2024-09-25T13:37:05.477872Z",
     "start_time": "2024-09-25T13:36:37.497078Z"
    }
   },
   "cell_type": "code",
   "source": [
    "# Invoke GPT-3.5 to obtain the predictions for edge-usability\n",
    "\n",
    "for approach in approaches:\n",
    "    predictions = []\n",
    "    for index, row in df_evaluation.iterrows():\n",
    "        model_output = _01_Simulation.LLM_Edge_Usability.invoke_llm(row[\"action\"], model_type=\"openai\", approach=approach)\n",
    "        prediction = _01_Simulation.LLM_Edge_Usability.parse_response(model_output)\n",
    "        predictions.append(prediction)\n",
    "    \n",
    "    df_evaluation[\"prediction\"] = predictions\n",
    "    df_evaluation.to_csv(os.path.join(os.getenv('RESULTS'), f'eval-res-edge-usability-openai-{approach}-{datetime.datetime.now().isoformat()}.csv'), sep=\";\", index=False)"
   ],
   "id": "cbfa9e52b0bfa3c1",
   "outputs": [
    {
     "name": "stderr",
     "output_type": "stream",
     "text": [
      "/Users/paulkoenig/WebstormProjects/medicar/_01_Simulation/LLM_Edge_Usability.py:397: FutureWarning: Series.__getitem__ treating keys as positions is deprecated. In a future version, integer keys will always be treated as labels (consistent with DataFrame behavior). To access a value by position, use `ser.iloc[pos]`\n",
      "  edges_list = [(f'{row[0]}', f'{row[1]}') for _, row in df.iterrows()]\n",
      "/Users/paulkoenig/WebstormProjects/medicar/_01_Simulation/LLM_Edge_Usability.py:397: FutureWarning: Series.__getitem__ treating keys as positions is deprecated. In a future version, integer keys will always be treated as labels (consistent with DataFrame behavior). To access a value by position, use `ser.iloc[pos]`\n",
      "  edges_list = [(f'{row[0]}', f'{row[1]}') for _, row in df.iterrows()]\n",
      "/Users/paulkoenig/WebstormProjects/medicar/_01_Simulation/LLM_Edge_Usability.py:397: FutureWarning: Series.__getitem__ treating keys as positions is deprecated. In a future version, integer keys will always be treated as labels (consistent with DataFrame behavior). To access a value by position, use `ser.iloc[pos]`\n",
      "  edges_list = [(f'{row[0]}', f'{row[1]}') for _, row in df.iterrows()]\n",
      "/Users/paulkoenig/WebstormProjects/medicar/_01_Simulation/LLM_Edge_Usability.py:397: FutureWarning: Series.__getitem__ treating keys as positions is deprecated. In a future version, integer keys will always be treated as labels (consistent with DataFrame behavior). To access a value by position, use `ser.iloc[pos]`\n",
      "  edges_list = [(f'{row[0]}', f'{row[1]}') for _, row in df.iterrows()]\n",
      "/Users/paulkoenig/WebstormProjects/medicar/_01_Simulation/LLM_Edge_Usability.py:397: FutureWarning: Series.__getitem__ treating keys as positions is deprecated. In a future version, integer keys will always be treated as labels (consistent with DataFrame behavior). To access a value by position, use `ser.iloc[pos]`\n",
      "  edges_list = [(f'{row[0]}', f'{row[1]}') for _, row in df.iterrows()]\n",
      "/Users/paulkoenig/WebstormProjects/medicar/_01_Simulation/LLM_Edge_Usability.py:397: FutureWarning: Series.__getitem__ treating keys as positions is deprecated. In a future version, integer keys will always be treated as labels (consistent with DataFrame behavior). To access a value by position, use `ser.iloc[pos]`\n",
      "  edges_list = [(f'{row[0]}', f'{row[1]}') for _, row in df.iterrows()]\n",
      "/Users/paulkoenig/WebstormProjects/medicar/_01_Simulation/LLM_Edge_Usability.py:397: FutureWarning: Series.__getitem__ treating keys as positions is deprecated. In a future version, integer keys will always be treated as labels (consistent with DataFrame behavior). To access a value by position, use `ser.iloc[pos]`\n",
      "  edges_list = [(f'{row[0]}', f'{row[1]}') for _, row in df.iterrows()]\n",
      "/Users/paulkoenig/WebstormProjects/medicar/_01_Simulation/LLM_Edge_Usability.py:397: FutureWarning: Series.__getitem__ treating keys as positions is deprecated. In a future version, integer keys will always be treated as labels (consistent with DataFrame behavior). To access a value by position, use `ser.iloc[pos]`\n",
      "  edges_list = [(f'{row[0]}', f'{row[1]}') for _, row in df.iterrows()]\n",
      "/Users/paulkoenig/WebstormProjects/medicar/_01_Simulation/LLM_Edge_Usability.py:397: FutureWarning: Series.__getitem__ treating keys as positions is deprecated. In a future version, integer keys will always be treated as labels (consistent with DataFrame behavior). To access a value by position, use `ser.iloc[pos]`\n",
      "  edges_list = [(f'{row[0]}', f'{row[1]}') for _, row in df.iterrows()]\n",
      "/Users/paulkoenig/WebstormProjects/medicar/_01_Simulation/LLM_Edge_Usability.py:397: FutureWarning: Series.__getitem__ treating keys as positions is deprecated. In a future version, integer keys will always be treated as labels (consistent with DataFrame behavior). To access a value by position, use `ser.iloc[pos]`\n",
      "  edges_list = [(f'{row[0]}', f'{row[1]}') for _, row in df.iterrows()]\n",
      "/Users/paulkoenig/WebstormProjects/medicar/_01_Simulation/LLM_Edge_Usability.py:397: FutureWarning: Series.__getitem__ treating keys as positions is deprecated. In a future version, integer keys will always be treated as labels (consistent with DataFrame behavior). To access a value by position, use `ser.iloc[pos]`\n",
      "  edges_list = [(f'{row[0]}', f'{row[1]}') for _, row in df.iterrows()]\n",
      "/Users/paulkoenig/WebstormProjects/medicar/_01_Simulation/LLM_Edge_Usability.py:397: FutureWarning: Series.__getitem__ treating keys as positions is deprecated. In a future version, integer keys will always be treated as labels (consistent with DataFrame behavior). To access a value by position, use `ser.iloc[pos]`\n",
      "  edges_list = [(f'{row[0]}', f'{row[1]}') for _, row in df.iterrows()]\n",
      "/Users/paulkoenig/WebstormProjects/medicar/_01_Simulation/LLM_Edge_Usability.py:397: FutureWarning: Series.__getitem__ treating keys as positions is deprecated. In a future version, integer keys will always be treated as labels (consistent with DataFrame behavior). To access a value by position, use `ser.iloc[pos]`\n",
      "  edges_list = [(f'{row[0]}', f'{row[1]}') for _, row in df.iterrows()]\n",
      "/Users/paulkoenig/WebstormProjects/medicar/_01_Simulation/LLM_Edge_Usability.py:397: FutureWarning: Series.__getitem__ treating keys as positions is deprecated. In a future version, integer keys will always be treated as labels (consistent with DataFrame behavior). To access a value by position, use `ser.iloc[pos]`\n",
      "  edges_list = [(f'{row[0]}', f'{row[1]}') for _, row in df.iterrows()]\n",
      "/Users/paulkoenig/WebstormProjects/medicar/_01_Simulation/LLM_Edge_Usability.py:397: FutureWarning: Series.__getitem__ treating keys as positions is deprecated. In a future version, integer keys will always be treated as labels (consistent with DataFrame behavior). To access a value by position, use `ser.iloc[pos]`\n",
      "  edges_list = [(f'{row[0]}', f'{row[1]}') for _, row in df.iterrows()]\n",
      "/Users/paulkoenig/WebstormProjects/medicar/_01_Simulation/LLM_Edge_Usability.py:397: FutureWarning: Series.__getitem__ treating keys as positions is deprecated. In a future version, integer keys will always be treated as labels (consistent with DataFrame behavior). To access a value by position, use `ser.iloc[pos]`\n",
      "  edges_list = [(f'{row[0]}', f'{row[1]}') for _, row in df.iterrows()]\n",
      "/Users/paulkoenig/WebstormProjects/medicar/_01_Simulation/LLM_Edge_Usability.py:397: FutureWarning: Series.__getitem__ treating keys as positions is deprecated. In a future version, integer keys will always be treated as labels (consistent with DataFrame behavior). To access a value by position, use `ser.iloc[pos]`\n",
      "  edges_list = [(f'{row[0]}', f'{row[1]}') for _, row in df.iterrows()]\n",
      "/Users/paulkoenig/WebstormProjects/medicar/_01_Simulation/LLM_Edge_Usability.py:397: FutureWarning: Series.__getitem__ treating keys as positions is deprecated. In a future version, integer keys will always be treated as labels (consistent with DataFrame behavior). To access a value by position, use `ser.iloc[pos]`\n",
      "  edges_list = [(f'{row[0]}', f'{row[1]}') for _, row in df.iterrows()]\n",
      "/Users/paulkoenig/WebstormProjects/medicar/_01_Simulation/LLM_Edge_Usability.py:397: FutureWarning: Series.__getitem__ treating keys as positions is deprecated. In a future version, integer keys will always be treated as labels (consistent with DataFrame behavior). To access a value by position, use `ser.iloc[pos]`\n",
      "  edges_list = [(f'{row[0]}', f'{row[1]}') for _, row in df.iterrows()]\n",
      "/Users/paulkoenig/WebstormProjects/medicar/_01_Simulation/LLM_Edge_Usability.py:397: FutureWarning: Series.__getitem__ treating keys as positions is deprecated. In a future version, integer keys will always be treated as labels (consistent with DataFrame behavior). To access a value by position, use `ser.iloc[pos]`\n",
      "  edges_list = [(f'{row[0]}', f'{row[1]}') for _, row in df.iterrows()]\n"
     ]
    }
   ],
   "execution_count": 16
  },
  {
   "metadata": {},
   "cell_type": "markdown",
   "source": "# 2. Dynamic Edge Weights",
   "id": "d594d55fc6a6d1bf"
  },
  {
   "metadata": {
    "ExecuteTime": {
     "end_time": "2024-10-01T16:32:08.103362Z",
     "start_time": "2024-10-01T16:32:08.097255Z"
    }
   },
   "cell_type": "code",
   "source": [
    "# Params (currently only considers openai models\n",
    "approaches = [\"zeroshot\", \"fewshot\"]"
   ],
   "id": "908861a429177869",
   "outputs": [],
   "execution_count": 30
  },
  {
   "metadata": {
    "ExecuteTime": {
     "end_time": "2024-10-01T16:32:08.296788Z",
     "start_time": "2024-10-01T16:32:08.289492Z"
    }
   },
   "cell_type": "code",
   "source": [
    "# load evaluation csv\n",
    "df_evaluation = pd.read_csv(os.path.join(os.getenv('RESOURCES'), 'EvaluationDataset-dynamic-edge-weight.csv'), sep=\";\")"
   ],
   "id": "a69b7fc418cee727",
   "outputs": [],
   "execution_count": 31
  },
  {
   "metadata": {
    "ExecuteTime": {
     "end_time": "2024-10-01T16:32:08.427185Z",
     "start_time": "2024-10-01T16:32:08.421739Z"
    }
   },
   "cell_type": "code",
   "source": "df_evaluation.head()",
   "id": "e3094764c2e2a155",
   "outputs": [
    {
     "data": {
      "text/plain": [
       "                                              action  lengthDependency  \\\n",
       "0                       A person fell on the ground.             False   \n",
       "1  There is an unexpected construction on the usu...              True   \n",
       "2                 Fallen branches from nearby trees.             False   \n",
       "3              Street cleaning crew sweeping debris.             False   \n",
       "4        The sidewalk is obstructed by a parked car.             False   \n",
       "\n",
       "   LLMAnswer  \n",
       "0      False  \n",
       "1       True  \n",
       "2      False  \n",
       "3      False  \n",
       "4      False  "
      ],
      "text/html": [
       "<div>\n",
       "<style scoped>\n",
       "    .dataframe tbody tr th:only-of-type {\n",
       "        vertical-align: middle;\n",
       "    }\n",
       "\n",
       "    .dataframe tbody tr th {\n",
       "        vertical-align: top;\n",
       "    }\n",
       "\n",
       "    .dataframe thead th {\n",
       "        text-align: right;\n",
       "    }\n",
       "</style>\n",
       "<table border=\"1\" class=\"dataframe\">\n",
       "  <thead>\n",
       "    <tr style=\"text-align: right;\">\n",
       "      <th></th>\n",
       "      <th>action</th>\n",
       "      <th>lengthDependency</th>\n",
       "      <th>LLMAnswer</th>\n",
       "    </tr>\n",
       "  </thead>\n",
       "  <tbody>\n",
       "    <tr>\n",
       "      <th>0</th>\n",
       "      <td>A person fell on the ground.</td>\n",
       "      <td>False</td>\n",
       "      <td>False</td>\n",
       "    </tr>\n",
       "    <tr>\n",
       "      <th>1</th>\n",
       "      <td>There is an unexpected construction on the usu...</td>\n",
       "      <td>True</td>\n",
       "      <td>True</td>\n",
       "    </tr>\n",
       "    <tr>\n",
       "      <th>2</th>\n",
       "      <td>Fallen branches from nearby trees.</td>\n",
       "      <td>False</td>\n",
       "      <td>False</td>\n",
       "    </tr>\n",
       "    <tr>\n",
       "      <th>3</th>\n",
       "      <td>Street cleaning crew sweeping debris.</td>\n",
       "      <td>False</td>\n",
       "      <td>False</td>\n",
       "    </tr>\n",
       "    <tr>\n",
       "      <th>4</th>\n",
       "      <td>The sidewalk is obstructed by a parked car.</td>\n",
       "      <td>False</td>\n",
       "      <td>False</td>\n",
       "    </tr>\n",
       "  </tbody>\n",
       "</table>\n",
       "</div>"
      ]
     },
     "execution_count": 32,
     "metadata": {},
     "output_type": "execute_result"
    }
   ],
   "execution_count": 32
  },
  {
   "metadata": {
    "ExecuteTime": {
     "end_time": "2024-10-01T16:32:08.966051Z",
     "start_time": "2024-10-01T16:32:08.963649Z"
    }
   },
   "cell_type": "code",
   "source": [
    "# TODO\n",
    "df_evaluation = df_evaluation.iloc[:10]"
   ],
   "id": "ad5087da3ed3776",
   "outputs": [],
   "execution_count": 33
  },
  {
   "metadata": {
    "ExecuteTime": {
     "end_time": "2024-10-01T16:32:09.637154Z",
     "start_time": "2024-10-01T16:32:09.630982Z"
    }
   },
   "cell_type": "code",
   "source": "df_evaluation",
   "id": "53d5beb969070780",
   "outputs": [
    {
     "data": {
      "text/plain": [
       "                                              action  lengthDependency  \\\n",
       "0                       A person fell on the ground.             False   \n",
       "1  There is an unexpected construction on the usu...              True   \n",
       "2                 Fallen branches from nearby trees.             False   \n",
       "3              Street cleaning crew sweeping debris.             False   \n",
       "4        The sidewalk is obstructed by a parked car.             False   \n",
       "5                Heavy rain has flooded the pathway.              True   \n",
       "6  A large pothole has formed in the middle of th...             False   \n",
       "7      Traffic cones block the entrance to the path.              True   \n",
       "8      A fallen power line is lying across the path.             False   \n",
       "9  The pathway is covered in thick mud due to rec...              True   \n",
       "\n",
       "   LLMAnswer  \n",
       "0      False  \n",
       "1       True  \n",
       "2      False  \n",
       "3      False  \n",
       "4      False  \n",
       "5       True  \n",
       "6       True  \n",
       "7      False  \n",
       "8      False  \n",
       "9       True  "
      ],
      "text/html": [
       "<div>\n",
       "<style scoped>\n",
       "    .dataframe tbody tr th:only-of-type {\n",
       "        vertical-align: middle;\n",
       "    }\n",
       "\n",
       "    .dataframe tbody tr th {\n",
       "        vertical-align: top;\n",
       "    }\n",
       "\n",
       "    .dataframe thead th {\n",
       "        text-align: right;\n",
       "    }\n",
       "</style>\n",
       "<table border=\"1\" class=\"dataframe\">\n",
       "  <thead>\n",
       "    <tr style=\"text-align: right;\">\n",
       "      <th></th>\n",
       "      <th>action</th>\n",
       "      <th>lengthDependency</th>\n",
       "      <th>LLMAnswer</th>\n",
       "    </tr>\n",
       "  </thead>\n",
       "  <tbody>\n",
       "    <tr>\n",
       "      <th>0</th>\n",
       "      <td>A person fell on the ground.</td>\n",
       "      <td>False</td>\n",
       "      <td>False</td>\n",
       "    </tr>\n",
       "    <tr>\n",
       "      <th>1</th>\n",
       "      <td>There is an unexpected construction on the usu...</td>\n",
       "      <td>True</td>\n",
       "      <td>True</td>\n",
       "    </tr>\n",
       "    <tr>\n",
       "      <th>2</th>\n",
       "      <td>Fallen branches from nearby trees.</td>\n",
       "      <td>False</td>\n",
       "      <td>False</td>\n",
       "    </tr>\n",
       "    <tr>\n",
       "      <th>3</th>\n",
       "      <td>Street cleaning crew sweeping debris.</td>\n",
       "      <td>False</td>\n",
       "      <td>False</td>\n",
       "    </tr>\n",
       "    <tr>\n",
       "      <th>4</th>\n",
       "      <td>The sidewalk is obstructed by a parked car.</td>\n",
       "      <td>False</td>\n",
       "      <td>False</td>\n",
       "    </tr>\n",
       "    <tr>\n",
       "      <th>5</th>\n",
       "      <td>Heavy rain has flooded the pathway.</td>\n",
       "      <td>True</td>\n",
       "      <td>True</td>\n",
       "    </tr>\n",
       "    <tr>\n",
       "      <th>6</th>\n",
       "      <td>A large pothole has formed in the middle of th...</td>\n",
       "      <td>False</td>\n",
       "      <td>True</td>\n",
       "    </tr>\n",
       "    <tr>\n",
       "      <th>7</th>\n",
       "      <td>Traffic cones block the entrance to the path.</td>\n",
       "      <td>True</td>\n",
       "      <td>False</td>\n",
       "    </tr>\n",
       "    <tr>\n",
       "      <th>8</th>\n",
       "      <td>A fallen power line is lying across the path.</td>\n",
       "      <td>False</td>\n",
       "      <td>False</td>\n",
       "    </tr>\n",
       "    <tr>\n",
       "      <th>9</th>\n",
       "      <td>The pathway is covered in thick mud due to rec...</td>\n",
       "      <td>True</td>\n",
       "      <td>True</td>\n",
       "    </tr>\n",
       "  </tbody>\n",
       "</table>\n",
       "</div>"
      ]
     },
     "execution_count": 34,
     "metadata": {},
     "output_type": "execute_result"
    }
   ],
   "execution_count": 34
  },
  {
   "metadata": {
    "ExecuteTime": {
     "end_time": "2024-10-01T16:33:03.752729Z",
     "start_time": "2024-10-01T16:32:10.459399Z"
    }
   },
   "cell_type": "code",
   "source": [
    "# Invoke GPT-3.5 to obtain the predictions for dynamic-edge-weights\n",
    "\n",
    "for approach in approaches:\n",
    "    predictions = []\n",
    "    result_types = []\n",
    "    for index, row in df_evaluation.iterrows():\n",
    "        model_output, _, result_type = _01_Simulation.LLM_Dynamic_Weights.invoke_llm_chain(row[\"action\"], model_type=\"openai\", approach=approach)\n",
    "        prediction = _01_Simulation.LLM_Dynamic_Weights.parse_output_weights(model_output)\n",
    "        predictions.append(prediction)\n",
    "        result_types.append(result_type)\n",
    "    \n",
    "    df_evaluation.to_csv(os.path.join(os.getenv('RESULTS'), f'eval-res-dynamic-openai-{approach}-{datetime.datetime.now().isoformat()}.csv'), sep=\";\", index=False)"
   ],
   "id": "e47ea24722a02d8",
   "outputs": [
    {
     "name": "stderr",
     "output_type": "stream",
     "text": [
      "/Users/paulkoenig/WebstormProjects/medicar/_01_Simulation/LLM_Dynamic_Weights.py:752: FutureWarning: Series.__getitem__ treating keys as positions is deprecated. In a future version, integer keys will always be treated as labels (consistent with DataFrame behavior). To access a value by position, use `ser.iloc[pos]`\n",
      "  return edges_list\n"
     ]
    },
    {
     "name": "stdout",
     "output_type": "stream",
     "text": [
      "Affected for the whole length:  \n",
      "\n",
      "    Are follow up questions needed here: Yes.\n",
      "    Follow up: Would the event affect the accessibility of the whole edge?\n",
      "    Intermediate answer: No, the event would only affect the accessibility of the edge at the specific point where the person fell on the ground.\n",
      "    So the final answer is: The answer is False, the event doesn't affect the accessibility of the whole edge.\n",
      "Minutes\n"
     ]
    },
    {
     "name": "stderr",
     "output_type": "stream",
     "text": [
      "/Users/paulkoenig/WebstormProjects/medicar/_01_Simulation/LLM_Dynamic_Weights.py:752: FutureWarning: Series.__getitem__ treating keys as positions is deprecated. In a future version, integer keys will always be treated as labels (consistent with DataFrame behavior). To access a value by position, use `ser.iloc[pos]`\n",
      "  return edges_list\n"
     ]
    },
    {
     "name": "stdout",
     "output_type": "stream",
     "text": [
      "Affected for the whole length:  \n",
      "\n",
      "    Are follow up questions needed here: Yes.\n",
      "    Follow up: Would a vehicle be affected by the event for the whole length of the edge?\n",
      "    Intermediate answer: Yes, an unexpected construction on the usual path would affect the vehicle for the whole length of the edge.\n",
      "    So the final answer is: The answer is True, the event affects the whole edge.\n",
      "Factor\n"
     ]
    },
    {
     "name": "stderr",
     "output_type": "stream",
     "text": [
      "/Users/paulkoenig/WebstormProjects/medicar/_01_Simulation/LLM_Dynamic_Weights.py:752: FutureWarning: Series.__getitem__ treating keys as positions is deprecated. In a future version, integer keys will always be treated as labels (consistent with DataFrame behavior). To access a value by position, use `ser.iloc[pos]`\n",
      "  return edges_list\n"
     ]
    },
    {
     "name": "stdout",
     "output_type": "stream",
     "text": [
      "Affected for the whole length:   \n",
      "\n",
      "    Are follow up questions needed here: Yes.\n",
      "    Follow up: Would a vehicle be affected by the event for the whole length of the edge?\n",
      "    Intermediate answer: No, fallen branches from nearby trees would only affect the vehicle at the specific points where the branches are blocking the pathway.\n",
      "    So the final answer is: The answer is False, the event doesn't affect the whole edge.\n",
      "Minutes\n"
     ]
    },
    {
     "name": "stderr",
     "output_type": "stream",
     "text": [
      "/Users/paulkoenig/WebstormProjects/medicar/_01_Simulation/LLM_Dynamic_Weights.py:752: FutureWarning: Series.__getitem__ treating keys as positions is deprecated. In a future version, integer keys will always be treated as labels (consistent with DataFrame behavior). To access a value by position, use `ser.iloc[pos]`\n",
      "  return edges_list\n"
     ]
    },
    {
     "name": "stdout",
     "output_type": "stream",
     "text": [
      "Affected for the whole length:  \n",
      "\n",
      "    Are follow up questions needed here: Yes.\n",
      "    Follow up: Would a vehicle be affected by the event for the whole length of the edge?\n",
      "    Intermediate answer: No, the street cleaning crew sweeping debris would only affect the vehicle for a small portion of the edge where the debris is being swept.\n",
      "    So the final answer is: The answer is False, the event doesn't affect the whole edge.\n",
      "Minutes\n"
     ]
    },
    {
     "name": "stderr",
     "output_type": "stream",
     "text": [
      "/Users/paulkoenig/WebstormProjects/medicar/_01_Simulation/LLM_Dynamic_Weights.py:752: FutureWarning: Series.__getitem__ treating keys as positions is deprecated. In a future version, integer keys will always be treated as labels (consistent with DataFrame behavior). To access a value by position, use `ser.iloc[pos]`\n",
      "  return edges_list\n"
     ]
    },
    {
     "name": "stdout",
     "output_type": "stream",
     "text": [
      "Affected for the whole length:  \n",
      "\n",
      "    Are follow up questions needed here: Yes.\n",
      "    Follow up: Would a vehicle be affected by the event for the whole length of edge edge_A_B?\n",
      "    Intermediate answer: Yes, the sidewalk being obstructed by a parked car would affect the vehicle for the whole length of edge edge_A_B.\n",
      "    So the final answer is: The answer is True, the event affects the whole edge.\n",
      "Factor\n"
     ]
    },
    {
     "name": "stderr",
     "output_type": "stream",
     "text": [
      "/Users/paulkoenig/WebstormProjects/medicar/_01_Simulation/LLM_Dynamic_Weights.py:752: FutureWarning: Series.__getitem__ treating keys as positions is deprecated. In a future version, integer keys will always be treated as labels (consistent with DataFrame behavior). To access a value by position, use `ser.iloc[pos]`\n",
      "  return edges_list\n"
     ]
    },
    {
     "name": "stdout",
     "output_type": "stream",
     "text": [
      "Affected for the whole length:  \n",
      "\n",
      "    Are follow up questions needed here: Yes.\n",
      "    Follow up: Would a vehicle be affected by the event for the whole length of edge?\n",
      "    Intermediate answer: Yes, heavy rain flooding the pathway would affect the vehicle for the whole length of the edge.\n",
      "    So the final answer is: The answer is True, the event affects the whole edge.\n",
      "Factor\n"
     ]
    },
    {
     "name": "stderr",
     "output_type": "stream",
     "text": [
      "/Users/paulkoenig/WebstormProjects/medicar/_01_Simulation/LLM_Dynamic_Weights.py:752: FutureWarning: Series.__getitem__ treating keys as positions is deprecated. In a future version, integer keys will always be treated as labels (consistent with DataFrame behavior). To access a value by position, use `ser.iloc[pos]`\n",
      "  return edges_list\n"
     ]
    },
    {
     "name": "stdout",
     "output_type": "stream",
     "text": [
      "Affected for the whole length:  \n",
      "\n",
      "Are follow up questions needed here: Yes.\n",
      "    Follow up: Would a vehicle be affected by the event for the whole length of edge edge_N1_N6?\n",
      "    Intermediate answer: No, a large pothole in the middle of the path would only affect the vehicle at that specific point and not for the whole length of the edge.\n",
      "    So the final answer is: The answer is False, the event doesn't affect the whole edge.\n",
      "Minutes\n"
     ]
    },
    {
     "name": "stderr",
     "output_type": "stream",
     "text": [
      "/Users/paulkoenig/WebstormProjects/medicar/_01_Simulation/LLM_Dynamic_Weights.py:752: FutureWarning: Series.__getitem__ treating keys as positions is deprecated. In a future version, integer keys will always be treated as labels (consistent with DataFrame behavior). To access a value by position, use `ser.iloc[pos]`\n",
      "  return edges_list\n"
     ]
    },
    {
     "name": "stdout",
     "output_type": "stream",
     "text": [
      "Affected for the whole length:  \n",
      "\n",
      "    Are follow up questions needed here: No.\n",
      "    Final answer: The answer is False, the event doesn't affect the whole edge.\n",
      "Minutes\n"
     ]
    },
    {
     "name": "stderr",
     "output_type": "stream",
     "text": [
      "/Users/paulkoenig/WebstormProjects/medicar/_01_Simulation/LLM_Dynamic_Weights.py:752: FutureWarning: Series.__getitem__ treating keys as positions is deprecated. In a future version, integer keys will always be treated as labels (consistent with DataFrame behavior). To access a value by position, use `ser.iloc[pos]`\n",
      "  return edges_list\n"
     ]
    },
    {
     "name": "stdout",
     "output_type": "stream",
     "text": [
      "Affected for the whole length:  \n",
      "\n",
      "Are follow up questions needed here: Yes.\n",
      "Follow up: Would a vehicle be affected by the event for the whole length of edge edge_N2_N4?\n",
      "Intermediate answer: Yes, a power line lying across the path would affect the vehicle for the whole length of the edge edge_N2_N4.\n",
      "So the final answer is: The answer is True, the event affects the whole edge.\n",
      "Factor\n"
     ]
    },
    {
     "name": "stderr",
     "output_type": "stream",
     "text": [
      "/Users/paulkoenig/WebstormProjects/medicar/_01_Simulation/LLM_Dynamic_Weights.py:752: FutureWarning: Series.__getitem__ treating keys as positions is deprecated. In a future version, integer keys will always be treated as labels (consistent with DataFrame behavior). To access a value by position, use `ser.iloc[pos]`\n",
      "  return edges_list\n"
     ]
    },
    {
     "name": "stdout",
     "output_type": "stream",
     "text": [
      "Affected for the whole length:  \n",
      "\n",
      "    Are follow up questions needed here: Yes.\n",
      "    Follow up: Would a vehicle be affected by the event for the whole length of the edge?\n",
      "    Intermediate answer: Yes, the pathway being covered in thick mud due to recent rain would seriously affect a vehicle for the whole length of the edge.\n",
      "    So the final answer is: The answer is True, the event affects the whole edge.\n",
      "Factor\n"
     ]
    },
    {
     "name": "stderr",
     "output_type": "stream",
     "text": [
      "/Users/paulkoenig/WebstormProjects/medicar/_01_Simulation/LLM_Dynamic_Weights.py:752: FutureWarning: Series.__getitem__ treating keys as positions is deprecated. In a future version, integer keys will always be treated as labels (consistent with DataFrame behavior). To access a value by position, use `ser.iloc[pos]`\n",
      "  return edges_list\n"
     ]
    },
    {
     "name": "stdout",
     "output_type": "stream",
     "text": [
      "Affected for the whole length:  \n",
      "\n",
      "    Are follow up questions needed here: No, the question is not specific enough to determine if the event affects the whole edge or not.\n",
      "    Intermediate answer: Not enough information.\n",
      "    So the final answer is: Not enough information.\n",
      "Factor\n"
     ]
    },
    {
     "name": "stderr",
     "output_type": "stream",
     "text": [
      "/Users/paulkoenig/WebstormProjects/medicar/_01_Simulation/LLM_Dynamic_Weights.py:752: FutureWarning: Series.__getitem__ treating keys as positions is deprecated. In a future version, integer keys will always be treated as labels (consistent with DataFrame behavior). To access a value by position, use `ser.iloc[pos]`\n",
      "  return edges_list\n"
     ]
    },
    {
     "name": "stdout",
     "output_type": "stream",
     "text": [
      "Affected for the whole length:  \n",
      "\n",
      "Are follow up questions needed here: Yes.\n",
      "    Follow up: Would a vehicle be affected by the event for the whole length of edge edge_A_B?\n",
      "    Intermediate answer: Yes, the unexpected construction on the usual path would affect the vehicle for the whole length of edge edge_A_B.\n",
      "    So the final answer is: The answer is True, the event affects the whole edge.\n",
      "Factor\n"
     ]
    },
    {
     "name": "stderr",
     "output_type": "stream",
     "text": [
      "/Users/paulkoenig/WebstormProjects/medicar/_01_Simulation/LLM_Dynamic_Weights.py:752: FutureWarning: Series.__getitem__ treating keys as positions is deprecated. In a future version, integer keys will always be treated as labels (consistent with DataFrame behavior). To access a value by position, use `ser.iloc[pos]`\n",
      "  return edges_list\n"
     ]
    },
    {
     "name": "stdout",
     "output_type": "stream",
     "text": [
      "Affected for the whole length:  \n",
      "\n",
      "    Are follow up questions needed here: Yes.\n",
      "    Follow up: Would a vehicle be affected by the event for the whole length of the edge?\n",
      "    Intermediate answer: No, fallen branches from nearby trees would only affect the vehicle at specific points along the edge, not for the whole length.\n",
      "    So the final answer is: The answer is False, the event doesn't affect the whole edge.\n",
      "Minutes\n"
     ]
    },
    {
     "name": "stderr",
     "output_type": "stream",
     "text": [
      "/Users/paulkoenig/WebstormProjects/medicar/_01_Simulation/LLM_Dynamic_Weights.py:752: FutureWarning: Series.__getitem__ treating keys as positions is deprecated. In a future version, integer keys will always be treated as labels (consistent with DataFrame behavior). To access a value by position, use `ser.iloc[pos]`\n",
      "  return edges_list\n"
     ]
    },
    {
     "name": "stdout",
     "output_type": "stream",
     "text": [
      "Affected for the whole length:  \n",
      "\n",
      "Are follow up questions needed here: Yes.\n",
      "Follow up: Would a vehicle be affected by the event for the whole length of edge edge_A_B?\n",
      "Intermediate answer: No, street cleaning crews sweeping debris would not affect the vehicle for the whole length of the edge, only at the specific location where the debris is being cleared.\n",
      "So the final answer is: The answer is False, the event doesn't affect the whole edge.\n",
      "Minutes\n"
     ]
    },
    {
     "name": "stderr",
     "output_type": "stream",
     "text": [
      "/Users/paulkoenig/WebstormProjects/medicar/_01_Simulation/LLM_Dynamic_Weights.py:752: FutureWarning: Series.__getitem__ treating keys as positions is deprecated. In a future version, integer keys will always be treated as labels (consistent with DataFrame behavior). To access a value by position, use `ser.iloc[pos]`\n",
      "  return edges_list\n"
     ]
    },
    {
     "name": "stdout",
     "output_type": "stream",
     "text": [
      "Affected for the whole length:  \n",
      "\n",
      "    Are follow up questions needed here: Yes.\n",
      "    Follow up: Would a vehicle be affected by the event for the whole length of edge edge_N7_N8?\n",
      "    Intermediate answer: Yes, the parked car obstructing the sidewalk would affect the vehicle for the whole length of edge edge_N7_N8.\n",
      "    So the final answer is: The answer is True, the event affects the whole edge.\n",
      "Factor\n"
     ]
    },
    {
     "name": "stderr",
     "output_type": "stream",
     "text": [
      "/Users/paulkoenig/WebstormProjects/medicar/_01_Simulation/LLM_Dynamic_Weights.py:752: FutureWarning: Series.__getitem__ treating keys as positions is deprecated. In a future version, integer keys will always be treated as labels (consistent with DataFrame behavior). To access a value by position, use `ser.iloc[pos]`\n",
      "  return edges_list\n"
     ]
    },
    {
     "name": "stdout",
     "output_type": "stream",
     "text": [
      "Affected for the whole length:  \n",
      "\n",
      "    Are follow up questions needed here: Yes.\n",
      "    Follow up: Would a vehicle be affected by the event for the whole length of the pathway?\n",
      "    Intermediate answer: Yes, heavy rain causing flooding would affect the vehicle for the entire length of the pathway.\n",
      "    So the final answer is: The answer is True, the event affects the whole edge.\n",
      "Factor\n"
     ]
    },
    {
     "name": "stderr",
     "output_type": "stream",
     "text": [
      "/Users/paulkoenig/WebstormProjects/medicar/_01_Simulation/LLM_Dynamic_Weights.py:752: FutureWarning: Series.__getitem__ treating keys as positions is deprecated. In a future version, integer keys will always be treated as labels (consistent with DataFrame behavior). To access a value by position, use `ser.iloc[pos]`\n",
      "  return edges_list\n"
     ]
    },
    {
     "name": "stdout",
     "output_type": "stream",
     "text": [
      "Affected for the whole length:   \n",
      "\n",
      "    Are follow up questions needed here: Yes.\n",
      "    Follow up: Would a vehicle be affected by the event for the whole length of edge edge_N1_N3?\n",
      "    Intermediate answer: No, a large pothole in the middle of the path would not affect the vehicle for the whole length of the edge, only at the specific point where the pothole is located.\n",
      "    So the final answer is: The answer is False, the event doesn't affect the whole edge.\n",
      "Minutes\n"
     ]
    },
    {
     "name": "stderr",
     "output_type": "stream",
     "text": [
      "/Users/paulkoenig/WebstormProjects/medicar/_01_Simulation/LLM_Dynamic_Weights.py:752: FutureWarning: Series.__getitem__ treating keys as positions is deprecated. In a future version, integer keys will always be treated as labels (consistent with DataFrame behavior). To access a value by position, use `ser.iloc[pos]`\n",
      "  return edges_list\n"
     ]
    },
    {
     "name": "stdout",
     "output_type": "stream",
     "text": [
      "Affected for the whole length:  \n",
      "    Are follow up questions needed here: No.\n",
      "    Intermediate answer: Yes, traffic cones blocking the entrance to the path would affect the accessibility of the whole edge.\n",
      "    So the final answer is: The answer is True, the event affects the whole edge.\n",
      "Factor\n"
     ]
    },
    {
     "name": "stderr",
     "output_type": "stream",
     "text": [
      "/Users/paulkoenig/WebstormProjects/medicar/_01_Simulation/LLM_Dynamic_Weights.py:752: FutureWarning: Series.__getitem__ treating keys as positions is deprecated. In a future version, integer keys will always be treated as labels (consistent with DataFrame behavior). To access a value by position, use `ser.iloc[pos]`\n",
      "  return edges_list\n"
     ]
    },
    {
     "name": "stdout",
     "output_type": "stream",
     "text": [
      "Affected for the whole length:  \n",
      "\n",
      "Are follow up questions needed here: Yes.\n",
      "Follow up: Would a vehicle be affected by the event for the whole length of the edge?\n",
      "Intermediate answer: Yes, a fallen power line lying across the path would seriously affect a vehicle for the whole length of the edge.\n",
      "So the final answer is: The answer is True, the event affects the whole edge.\n",
      "Factor\n"
     ]
    },
    {
     "name": "stderr",
     "output_type": "stream",
     "text": [
      "/Users/paulkoenig/WebstormProjects/medicar/_01_Simulation/LLM_Dynamic_Weights.py:752: FutureWarning: Series.__getitem__ treating keys as positions is deprecated. In a future version, integer keys will always be treated as labels (consistent with DataFrame behavior). To access a value by position, use `ser.iloc[pos]`\n",
      "  return edges_list\n"
     ]
    },
    {
     "name": "stdout",
     "output_type": "stream",
     "text": [
      "Affected for the whole length:  \n",
      "\n",
      "    Are follow up questions needed here: Yes.\n",
      "    Follow up: Would a vehicle be affected by the event for the whole length of the pathway?\n",
      "    Intermediate answer: Yes, the pathway being covered in thick mud due to recent rain would seriously affect a vehicle for the whole length of the pathway.\n",
      "    So the final answer is: The answer is True, the event affects the whole edge.\n",
      "Factor\n"
     ]
    }
   ],
   "execution_count": 35
  }
 ],
 "metadata": {
  "kernelspec": {
   "display_name": "Python 3",
   "language": "python",
   "name": "python3"
  },
  "language_info": {
   "codemirror_mode": {
    "name": "ipython",
    "version": 2
   },
   "file_extension": ".py",
   "mimetype": "text/x-python",
   "name": "python",
   "nbconvert_exporter": "python",
   "pygments_lexer": "ipython2",
   "version": "2.7.6"
  }
 },
 "nbformat": 4,
 "nbformat_minor": 5
}
