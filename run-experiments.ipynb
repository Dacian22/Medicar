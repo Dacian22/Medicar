{
 "cells": [
  {
   "metadata": {
    "ExecuteTime": {
     "end_time": "2024-09-25T13:36:28.212887Z",
     "start_time": "2024-09-25T13:36:28.206430Z"
    }
   },
   "cell_type": "code",
   "source": [
    "import time\n",
    "\n",
    "import pandas as pd\n",
    "import dotenv\n",
    "import os\n",
    "import sys\n",
    "import datetime\n",
    "sys.path.append('./_01_Simulation/')\n",
    "\n",
    "import _01_Simulation.LLM_Edge_Usability"
   ],
   "id": "3d419cfad8ae5e35",
   "outputs": [],
   "execution_count": 10
  },
  {
   "metadata": {
    "ExecuteTime": {
     "end_time": "2024-09-25T13:36:28.760895Z",
     "start_time": "2024-09-25T13:36:28.755534Z"
    }
   },
   "cell_type": "code",
   "source": [
    "# load .env file\n",
    "dotenv.load_dotenv()"
   ],
   "id": "1f561e7e91c8d35",
   "outputs": [
    {
     "data": {
      "text/plain": [
       "True"
      ]
     },
     "execution_count": 11,
     "metadata": {},
     "output_type": "execute_result"
    }
   ],
   "execution_count": 11
  },
  {
   "metadata": {},
   "cell_type": "markdown",
   "source": "# 1. Edge usability",
   "id": "ad46b5e6f445a87"
  },
  {
   "metadata": {
    "ExecuteTime": {
     "end_time": "2024-09-25T13:36:31.879934Z",
     "start_time": "2024-09-25T13:36:31.877070Z"
    }
   },
   "cell_type": "code",
   "source": [
    "# Params (currently only considers openai models\n",
    "approaches = [\"zeroshot\", \"fewshot\"]"
   ],
   "id": "df76334181794a14",
   "outputs": [],
   "execution_count": 12
  },
  {
   "metadata": {
    "ExecuteTime": {
     "end_time": "2024-09-25T13:36:32.457698Z",
     "start_time": "2024-09-25T13:36:32.449854Z"
    }
   },
   "cell_type": "code",
   "source": [
    "# load evaluation csv\n",
    "df_evaluation = pd.read_csv(os.path.join(os.getenv('RESOURCES'), 'EvaluationDataset.csv'), sep=\";\")"
   ],
   "id": "42a0d76d145bb7da",
   "outputs": [],
   "execution_count": 13
  },
  {
   "metadata": {
    "ExecuteTime": {
     "end_time": "2024-09-25T13:36:34.052635Z",
     "start_time": "2024-09-25T13:36:34.046011Z"
    }
   },
   "cell_type": "code",
   "source": "df_evaluation.head()",
   "id": "ae7913f8d99a6a29",
   "outputs": [
    {
     "data": {
      "text/plain": [
       "                                              action  edgeUsable\n",
       "0                       A person fell on the ground.       False\n",
       "1  There is an unexpected construction on the usu...       False\n",
       "2                 Fallen branches from nearby trees.       False\n",
       "3              Street cleaning crew sweeping debris.       False\n",
       "4        The sidewalk is obstructed by a parked car.       False"
      ],
      "text/html": [
       "<div>\n",
       "<style scoped>\n",
       "    .dataframe tbody tr th:only-of-type {\n",
       "        vertical-align: middle;\n",
       "    }\n",
       "\n",
       "    .dataframe tbody tr th {\n",
       "        vertical-align: top;\n",
       "    }\n",
       "\n",
       "    .dataframe thead th {\n",
       "        text-align: right;\n",
       "    }\n",
       "</style>\n",
       "<table border=\"1\" class=\"dataframe\">\n",
       "  <thead>\n",
       "    <tr style=\"text-align: right;\">\n",
       "      <th></th>\n",
       "      <th>action</th>\n",
       "      <th>edgeUsable</th>\n",
       "    </tr>\n",
       "  </thead>\n",
       "  <tbody>\n",
       "    <tr>\n",
       "      <th>0</th>\n",
       "      <td>A person fell on the ground.</td>\n",
       "      <td>False</td>\n",
       "    </tr>\n",
       "    <tr>\n",
       "      <th>1</th>\n",
       "      <td>There is an unexpected construction on the usu...</td>\n",
       "      <td>False</td>\n",
       "    </tr>\n",
       "    <tr>\n",
       "      <th>2</th>\n",
       "      <td>Fallen branches from nearby trees.</td>\n",
       "      <td>False</td>\n",
       "    </tr>\n",
       "    <tr>\n",
       "      <th>3</th>\n",
       "      <td>Street cleaning crew sweeping debris.</td>\n",
       "      <td>False</td>\n",
       "    </tr>\n",
       "    <tr>\n",
       "      <th>4</th>\n",
       "      <td>The sidewalk is obstructed by a parked car.</td>\n",
       "      <td>False</td>\n",
       "    </tr>\n",
       "  </tbody>\n",
       "</table>\n",
       "</div>"
      ]
     },
     "execution_count": 14,
     "metadata": {},
     "output_type": "execute_result"
    }
   ],
   "execution_count": 14
  },
  {
   "metadata": {
    "ExecuteTime": {
     "end_time": "2024-09-25T13:36:36.339665Z",
     "start_time": "2024-09-25T13:36:36.336597Z"
    }
   },
   "cell_type": "code",
   "source": [
    "# TODO\n",
    "df_evaluation = df_evaluation.iloc[:10]"
   ],
   "id": "ef7371ab95fab406",
   "outputs": [],
   "execution_count": 15
  },
  {
   "metadata": {
    "ExecuteTime": {
     "end_time": "2024-09-25T13:37:05.477872Z",
     "start_time": "2024-09-25T13:36:37.497078Z"
    }
   },
   "cell_type": "code",
   "source": [
    "# Invoke GPT-3.5 to obtain the predictions for edge-usability\n",
    "\n",
    "for approach in approaches:\n",
    "    predictions = []\n",
    "    for index, row in df_evaluation.iterrows():\n",
    "        model_output = _01_Simulation.LLM_Edge_Usability.invoke_llm(row[\"action\"], model_type=\"openai\", approach=approach)\n",
    "        prediction = _01_Simulation.LLM_Edge_Usability.parse_response(model_output)\n",
    "        predictions.append(prediction)\n",
    "    \n",
    "    df_evaluation[\"prediction\"] = predictions\n",
    "    df_evaluation.to_csv(os.path.join(os.getenv('RESULTS'), f'eval-res-edge-usability-openai-{approach}-{datetime.datetime.now().isoformat()}.csv'), sep=\";\", index=False)"
   ],
   "id": "cbfa9e52b0bfa3c1",
   "outputs": [
    {
     "name": "stderr",
     "output_type": "stream",
     "text": [
      "/Users/paulkoenig/WebstormProjects/medicar/_01_Simulation/LLM_Edge_Usability.py:397: FutureWarning: Series.__getitem__ treating keys as positions is deprecated. In a future version, integer keys will always be treated as labels (consistent with DataFrame behavior). To access a value by position, use `ser.iloc[pos]`\n",
      "  edges_list = [(f'{row[0]}', f'{row[1]}') for _, row in df.iterrows()]\n",
      "/Users/paulkoenig/WebstormProjects/medicar/_01_Simulation/LLM_Edge_Usability.py:397: FutureWarning: Series.__getitem__ treating keys as positions is deprecated. In a future version, integer keys will always be treated as labels (consistent with DataFrame behavior). To access a value by position, use `ser.iloc[pos]`\n",
      "  edges_list = [(f'{row[0]}', f'{row[1]}') for _, row in df.iterrows()]\n",
      "/Users/paulkoenig/WebstormProjects/medicar/_01_Simulation/LLM_Edge_Usability.py:397: FutureWarning: Series.__getitem__ treating keys as positions is deprecated. In a future version, integer keys will always be treated as labels (consistent with DataFrame behavior). To access a value by position, use `ser.iloc[pos]`\n",
      "  edges_list = [(f'{row[0]}', f'{row[1]}') for _, row in df.iterrows()]\n",
      "/Users/paulkoenig/WebstormProjects/medicar/_01_Simulation/LLM_Edge_Usability.py:397: FutureWarning: Series.__getitem__ treating keys as positions is deprecated. In a future version, integer keys will always be treated as labels (consistent with DataFrame behavior). To access a value by position, use `ser.iloc[pos]`\n",
      "  edges_list = [(f'{row[0]}', f'{row[1]}') for _, row in df.iterrows()]\n",
      "/Users/paulkoenig/WebstormProjects/medicar/_01_Simulation/LLM_Edge_Usability.py:397: FutureWarning: Series.__getitem__ treating keys as positions is deprecated. In a future version, integer keys will always be treated as labels (consistent with DataFrame behavior). To access a value by position, use `ser.iloc[pos]`\n",
      "  edges_list = [(f'{row[0]}', f'{row[1]}') for _, row in df.iterrows()]\n",
      "/Users/paulkoenig/WebstormProjects/medicar/_01_Simulation/LLM_Edge_Usability.py:397: FutureWarning: Series.__getitem__ treating keys as positions is deprecated. In a future version, integer keys will always be treated as labels (consistent with DataFrame behavior). To access a value by position, use `ser.iloc[pos]`\n",
      "  edges_list = [(f'{row[0]}', f'{row[1]}') for _, row in df.iterrows()]\n",
      "/Users/paulkoenig/WebstormProjects/medicar/_01_Simulation/LLM_Edge_Usability.py:397: FutureWarning: Series.__getitem__ treating keys as positions is deprecated. In a future version, integer keys will always be treated as labels (consistent with DataFrame behavior). To access a value by position, use `ser.iloc[pos]`\n",
      "  edges_list = [(f'{row[0]}', f'{row[1]}') for _, row in df.iterrows()]\n",
      "/Users/paulkoenig/WebstormProjects/medicar/_01_Simulation/LLM_Edge_Usability.py:397: FutureWarning: Series.__getitem__ treating keys as positions is deprecated. In a future version, integer keys will always be treated as labels (consistent with DataFrame behavior). To access a value by position, use `ser.iloc[pos]`\n",
      "  edges_list = [(f'{row[0]}', f'{row[1]}') for _, row in df.iterrows()]\n",
      "/Users/paulkoenig/WebstormProjects/medicar/_01_Simulation/LLM_Edge_Usability.py:397: FutureWarning: Series.__getitem__ treating keys as positions is deprecated. In a future version, integer keys will always be treated as labels (consistent with DataFrame behavior). To access a value by position, use `ser.iloc[pos]`\n",
      "  edges_list = [(f'{row[0]}', f'{row[1]}') for _, row in df.iterrows()]\n",
      "/Users/paulkoenig/WebstormProjects/medicar/_01_Simulation/LLM_Edge_Usability.py:397: FutureWarning: Series.__getitem__ treating keys as positions is deprecated. In a future version, integer keys will always be treated as labels (consistent with DataFrame behavior). To access a value by position, use `ser.iloc[pos]`\n",
      "  edges_list = [(f'{row[0]}', f'{row[1]}') for _, row in df.iterrows()]\n",
      "/Users/paulkoenig/WebstormProjects/medicar/_01_Simulation/LLM_Edge_Usability.py:397: FutureWarning: Series.__getitem__ treating keys as positions is deprecated. In a future version, integer keys will always be treated as labels (consistent with DataFrame behavior). To access a value by position, use `ser.iloc[pos]`\n",
      "  edges_list = [(f'{row[0]}', f'{row[1]}') for _, row in df.iterrows()]\n",
      "/Users/paulkoenig/WebstormProjects/medicar/_01_Simulation/LLM_Edge_Usability.py:397: FutureWarning: Series.__getitem__ treating keys as positions is deprecated. In a future version, integer keys will always be treated as labels (consistent with DataFrame behavior). To access a value by position, use `ser.iloc[pos]`\n",
      "  edges_list = [(f'{row[0]}', f'{row[1]}') for _, row in df.iterrows()]\n",
      "/Users/paulkoenig/WebstormProjects/medicar/_01_Simulation/LLM_Edge_Usability.py:397: FutureWarning: Series.__getitem__ treating keys as positions is deprecated. In a future version, integer keys will always be treated as labels (consistent with DataFrame behavior). To access a value by position, use `ser.iloc[pos]`\n",
      "  edges_list = [(f'{row[0]}', f'{row[1]}') for _, row in df.iterrows()]\n",
      "/Users/paulkoenig/WebstormProjects/medicar/_01_Simulation/LLM_Edge_Usability.py:397: FutureWarning: Series.__getitem__ treating keys as positions is deprecated. In a future version, integer keys will always be treated as labels (consistent with DataFrame behavior). To access a value by position, use `ser.iloc[pos]`\n",
      "  edges_list = [(f'{row[0]}', f'{row[1]}') for _, row in df.iterrows()]\n",
      "/Users/paulkoenig/WebstormProjects/medicar/_01_Simulation/LLM_Edge_Usability.py:397: FutureWarning: Series.__getitem__ treating keys as positions is deprecated. In a future version, integer keys will always be treated as labels (consistent with DataFrame behavior). To access a value by position, use `ser.iloc[pos]`\n",
      "  edges_list = [(f'{row[0]}', f'{row[1]}') for _, row in df.iterrows()]\n",
      "/Users/paulkoenig/WebstormProjects/medicar/_01_Simulation/LLM_Edge_Usability.py:397: FutureWarning: Series.__getitem__ treating keys as positions is deprecated. In a future version, integer keys will always be treated as labels (consistent with DataFrame behavior). To access a value by position, use `ser.iloc[pos]`\n",
      "  edges_list = [(f'{row[0]}', f'{row[1]}') for _, row in df.iterrows()]\n",
      "/Users/paulkoenig/WebstormProjects/medicar/_01_Simulation/LLM_Edge_Usability.py:397: FutureWarning: Series.__getitem__ treating keys as positions is deprecated. In a future version, integer keys will always be treated as labels (consistent with DataFrame behavior). To access a value by position, use `ser.iloc[pos]`\n",
      "  edges_list = [(f'{row[0]}', f'{row[1]}') for _, row in df.iterrows()]\n",
      "/Users/paulkoenig/WebstormProjects/medicar/_01_Simulation/LLM_Edge_Usability.py:397: FutureWarning: Series.__getitem__ treating keys as positions is deprecated. In a future version, integer keys will always be treated as labels (consistent with DataFrame behavior). To access a value by position, use `ser.iloc[pos]`\n",
      "  edges_list = [(f'{row[0]}', f'{row[1]}') for _, row in df.iterrows()]\n",
      "/Users/paulkoenig/WebstormProjects/medicar/_01_Simulation/LLM_Edge_Usability.py:397: FutureWarning: Series.__getitem__ treating keys as positions is deprecated. In a future version, integer keys will always be treated as labels (consistent with DataFrame behavior). To access a value by position, use `ser.iloc[pos]`\n",
      "  edges_list = [(f'{row[0]}', f'{row[1]}') for _, row in df.iterrows()]\n",
      "/Users/paulkoenig/WebstormProjects/medicar/_01_Simulation/LLM_Edge_Usability.py:397: FutureWarning: Series.__getitem__ treating keys as positions is deprecated. In a future version, integer keys will always be treated as labels (consistent with DataFrame behavior). To access a value by position, use `ser.iloc[pos]`\n",
      "  edges_list = [(f'{row[0]}', f'{row[1]}') for _, row in df.iterrows()]\n"
     ]
    }
   ],
   "execution_count": 16
  }
 ],
 "metadata": {
  "kernelspec": {
   "display_name": "Python 3",
   "language": "python",
   "name": "python3"
  },
  "language_info": {
   "codemirror_mode": {
    "name": "ipython",
    "version": 2
   },
   "file_extension": ".py",
   "mimetype": "text/x-python",
   "name": "python",
   "nbconvert_exporter": "python",
   "pygments_lexer": "ipython2",
   "version": "2.7.6"
  }
 },
 "nbformat": 4,
 "nbformat_minor": 5
}
