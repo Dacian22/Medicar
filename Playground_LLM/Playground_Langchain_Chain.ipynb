{
 "cells": [
  {
   "cell_type": "code",
   "execution_count": 313,
   "id": "initial_id",
   "metadata": {
    "ExecuteTime": {
     "end_time": "2024-03-15T10:17:11.511356Z",
     "start_time": "2024-03-15T10:17:10.822992Z"
    },
    "collapsed": true
   },
   "outputs": [],
   "source": [
    "from langchain.indexes import GraphIndexCreator\n",
    "# from langchain_openai import OpenAI\n",
    "from langchain_community.llms import Ollama\n",
    "\n",
    "import networkx as nx\n",
    "\n",
    "\n",
    "from dotenv import load_dotenv\n",
    "\n",
    "from langchain_core.output_parsers import StrOutputParser\n",
    "from langchain_core.prompts import ChatPromptTemplate\n",
    "\n",
    "from operator import itemgetter\n",
    "\n",
    "from langchain_community.graphs.networkx_graph import NetworkxEntityGraph\n",
    "from langchain_community.graphs.networkx_graph import KnowledgeTriple\n",
    "\n",
    "from langchain_core.runnables import RunnableLambda, RunnablePassthrough"
   ]
  },
  {
   "cell_type": "code",
   "execution_count": 314,
   "id": "d18b246ab8ef790f",
   "metadata": {
    "ExecuteTime": {
     "end_time": "2024-03-15T10:17:21.574438Z",
     "start_time": "2024-03-15T10:17:21.569291Z"
    },
    "collapsed": false
   },
   "outputs": [
    {
     "data": {
      "text/plain": [
       "True"
      ]
     },
     "execution_count": 314,
     "metadata": {},
     "output_type": "execute_result"
    }
   ],
   "source": [
    "load_dotenv()"
   ]
  },
  {
   "cell_type": "code",
   "execution_count": 315,
   "id": "38bad20e058b5536",
   "metadata": {
    "ExecuteTime": {
     "end_time": "2024-03-15T10:17:21.706047Z",
     "start_time": "2024-03-15T10:17:21.703793Z"
    },
    "collapsed": false
   },
   "outputs": [],
   "source": [
    "model = Ollama(model=\"llama2\")"
   ]
  },
  {
   "cell_type": "code",
   "execution_count": 316,
   "id": "147b966214b84426",
   "metadata": {
    "ExecuteTime": {
     "end_time": "2024-03-15T10:17:21.832474Z",
     "start_time": "2024-03-15T10:17:21.830336Z"
    },
    "collapsed": false
   },
   "outputs": [],
   "source": [
    "output_parser = StrOutputParser()"
   ]
  },
  {
   "cell_type": "code",
   "execution_count": 317,
   "id": "c72c6a19f27a32be",
   "metadata": {
    "ExecuteTime": {
     "end_time": "2024-03-15T10:17:22.070338Z",
     "start_time": "2024-03-15T10:17:22.068265Z"
    },
    "collapsed": false
   },
   "outputs": [],
   "source": [
    "# read graph as entity graph\n",
    "G = NetworkxEntityGraph()"
   ]
  },
  {
   "cell_type": "code",
   "execution_count": 318,
   "id": "13193937a869928d",
   "metadata": {
    "ExecuteTime": {
     "end_time": "2024-03-15T10:17:22.330596Z",
     "start_time": "2024-03-15T10:17:22.327479Z"
    },
    "collapsed": false
   },
   "outputs": [],
   "source": [
    "G.add_triple(KnowledgeTriple('Charging Station', 'connects to', 'N1'))\n",
    "G.add_triple(KnowledgeTriple('N1', 'connects to', 'Mensa'))\n",
    "G.add_triple(KnowledgeTriple('N1', 'connects to', 'N2'))\n",
    "G.add_triple(KnowledgeTriple('Mensa', 'connects to', 'N3'))\n",
    "G.add_triple(KnowledgeTriple('N2', 'connects to', 'N3'))\n",
    "G.add_triple(KnowledgeTriple('N2', 'connects to', 'Blood Storage'))\n",
    "G.add_triple(KnowledgeTriple('N2', 'connects to', 'N4'))\n",
    "G.add_triple(KnowledgeTriple('N3', 'connects to', 'N4'))\n",
    "G.add_triple(KnowledgeTriple('N3', 'connects to', 'Waste Disposal'))"
   ]
  },
  {
   "cell_type": "code",
   "execution_count": 319,
   "id": "4912947261acdb15",
   "metadata": {
    "ExecuteTime": {
     "end_time": "2024-03-15T10:22:32.558733Z",
     "start_time": "2024-03-15T10:22:32.553822Z"
    },
    "collapsed": false
   },
   "outputs": [
    {
     "data": {
      "text/plain": [
       "[('Charging Station', 'N1'),\n",
       " ('N1', 'Mensa'),\n",
       " ('N1', 'N2'),\n",
       " ('Mensa', 'N3'),\n",
       " ('N2', 'N3'),\n",
       " ('N2', 'Blood Storage'),\n",
       " ('N2', 'N4'),\n",
       " ('N3', 'N4'),\n",
       " ('N3', 'Waste Disposal')]"
      ]
     },
     "execution_count": 319,
     "metadata": {},
     "output_type": "execute_result"
    }
   ],
   "source": [
    "[(triple[0], triple[1]) for triple in G.get_triples()]\n"
   ]
  },
  {
   "cell_type": "code",
   "execution_count": 320,
   "id": "aa032f4688e17fd",
   "metadata": {
    "ExecuteTime": {
     "end_time": "2024-03-15T10:24:10.994004Z",
     "start_time": "2024-03-15T10:24:10.989906Z"
    },
    "collapsed": false
   },
   "outputs": [],
   "source": [
    "template = f\"Answer the question based only on the following context: We have a directed graph. It contains these edges: {[(triple[0], triple[1]) for triple in G.get_triples()]} \\n Question: {{question}}\""
   ]
  },
  {
   "cell_type": "code",
   "execution_count": 321,
   "id": "82d298f7e092d983",
   "metadata": {
    "ExecuteTime": {
     "end_time": "2024-03-15T10:24:11.148978Z",
     "start_time": "2024-03-15T10:24:11.146502Z"
    },
    "collapsed": false
   },
   "outputs": [],
   "source": [
    "#prompt = ChatPromptTemplate.from_template(template)"
   ]
  },
  {
   "cell_type": "code",
   "execution_count": 322,
   "id": "13d9a11728ff2842",
   "metadata": {
    "ExecuteTime": {
     "end_time": "2024-03-15T10:24:11.272063Z",
     "start_time": "2024-03-15T10:24:11.269385Z"
    },
    "collapsed": false
   },
   "outputs": [],
   "source": [
    "# create chain\n",
    "#chain = ({\"question\": RunnablePassthrough()}\n",
    "#        | prompt\n",
    "#        | model\n",
    "#        | StrOutputParser()\n",
    "#)"
   ]
  },
  {
   "cell_type": "code",
   "execution_count": 323,
   "id": "58898707fb4317e",
   "metadata": {
    "ExecuteTime": {
     "end_time": "2024-03-15T10:24:26.931927Z",
     "start_time": "2024-03-15T10:24:14.804484Z"
    },
    "collapsed": false
   },
   "outputs": [],
   "source": [
    "#chain.invoke(\"What are the options to get from Charging Station to Waste Disposal? Can you list the routes?\")"
   ]
  },
  {
   "cell_type": "code",
   "execution_count": 324,
   "id": "8e84623580835a79",
   "metadata": {
    "ExecuteTime": {
     "end_time": "2024-03-15T10:25:22.891044Z",
     "start_time": "2024-03-15T10:25:04.382878Z"
    },
    "collapsed": false
   },
   "outputs": [],
   "source": [
    "#chain.invoke(\"Assume that node N2 is not available any more. Could you update the list of edges, and provide only that list in this format \\{(\\'Edge1\\':\\'ConnectingEdge1\\'),(\\'Edge2\\':\\'ConnectingEdge2\\')...\\}?\")\n",
    "#chain.invoke(\"Assume that node N2 is not available any more and so it has no more connections make sure N2 doesn't appear anymore. Could you update the list of edges, use this format: {(\\'Edge1\\',\\'ConnectingEdge1\\'),(\\'Edge2\\',\\'ConnectingEdge2\\')...\\}?\")\n"
   ]
  },
  {
   "cell_type": "code",
   "execution_count": 327,
   "id": "c249c429",
   "metadata": {},
   "outputs": [
    {
     "name": "stdout",
     "output_type": "stream",
     "text": [
      "[('Charging Station', 'N1'), ('N1', 'Mensa'), ('N1', 'N2'), ('Mensa', 'N3'), ('N2', 'N3'), ('N2', 'Blood Storage'), ('N2', 'N4'), ('N3', 'N4'), ('N3', 'Waste Disposal')]\n",
      " Node 'N2' is not accesible anymore. Could you provide me only with the edges that have to be removed, as a comma separated value list of tuples like (Node1,Node2)?\n",
      "Certainly! Since node 'N2' is no longer accessible, we need to remove the edges that connect to it. Here are the edges that need to be removed:\n",
      "\n",
      "((N1, N2), (Mensa, N2), (N2, Blood Storage), (N2, Waste Disposal))\n",
      "\n",
      "So, the remaining edges in the list after removing the inaccessible edges are:\n",
      "\n",
      "([('Charging Station', 'N1'), ('N1', 'Mensa'), ('Mensa', 'N3'), ('N3', 'Waste Disposal')])\n",
      "List of removed edges: ['((N1, N2), (Mensa, N2), (N2, Blood Storage), (N2, Waste Disposal))', \"([('Charging Station', 'N1'), ('N1', 'Mensa'), ('Mensa', 'N3'), ('N3', 'Waste Disposal')])\"]\n",
      "['((N1, N2), (Mensa, N2), (N2, Blood Storage), (N2, Waste Disposal))', \"([('Charging Station', 'N1'), ('N1', 'Mensa'), ('Mensa', 'N3'), ('N3', 'Waste Disposal')])\"]\n",
      "2\n",
      "((N1, N2), (Mensa, N2), (N2, Blood Storage), (N2, Waste Disposal))\n",
      "([('Charging Station', 'N1'), ('N1', 'Mensa'), ('Mensa', 'N3'), ('N3', 'Waste Disposal')])\n",
      "['((N1, N2)', ' (Mensa, N2)', ' (N2, Blood Storage)', ' (N2, Waste Disposal))']\n",
      "4\n"
     ]
    }
   ],
   "source": [
    "from langchain.prompts import PromptTemplate\n",
    "from langchain import LLMChain\n",
    "from langchain.chains import SimpleSequentialChain\n",
    "from langchain.chains import LLMCheckerChain\n",
    "\n",
    "template = f\"Answer the question based only on the following context: We have a directed graph. It contains only these edges: {[(triple[0], triple[1]) for triple in G.get_triples()]} and you and have to act like inaccesible nodes and all edges containing that node don't exist, you can't add new edges or update existing edges \\n Question: {{question}}\"\n",
    "template_new=f\"You are a master graph modeler, you have to remove edges from an edge list that contain inaccesible nodes and it is crucial make sure that the other valid edges remain in the list. We have a directed graph. It contains exclusively these edges: {[(triple[0], triple[1]) for triple in G.get_triples()]} \\n Question: {{question}}\"\n",
    "#prompt_template = PromptTemplate(input_variables=[\"question\"], template=template)\n",
    "prompt_template = PromptTemplate(input_variables=[\"question\"], template=template_new)\n",
    "\n",
    "new_graph=LLMChain(prompt=prompt_template,llm=model)\n",
    "#new_graph2=LLMCheckerChain(prompt=prompt_template,llm=model)\n",
    "\n",
    "route_template=\"{edges}, What are the routes to get from Charging Station to Waste Disposal given the new list of edges? List the routes step by step, as comma separated values\"\n",
    "prompt_route=PromptTemplate(input_variables=[\"edges\"],template=route_template)\n",
    "new_route=LLMChain(prompt=prompt_route,llm=model)\n",
    "#new_route2=LLMCheckerChain(prompt=prompt_route,llm=model)\n",
    "\n",
    "\n",
    "print([(triple[0], triple[1]) for triple in G.get_triples()])\n",
    "\n",
    "#ssc= SimpleSequentialChain(chains=[new_graph,new_route],verbose=True)\n",
    "#ssc= SimpleSequentialChain(chains=[new_graph,new_route],verbose=True)\n",
    "Node='N2'\n",
    "question=\" Node \"+\"'\"+ str(Node) +\"'\"+\" is not accesible anymore. Could you provide me only with the edges that have to be removed, as a comma separated value list of tuples like (Node1,Node2)?\"\n",
    "print(question)\n",
    "#new_graph.run(\"You are a master graph modeler, you have to remove edges from an edge list that contain an inaccesible node. We have a directed graph. It contains exclusively these edges: \"+ str([(triple[0], triple[1]) for triple in G.get_triples()]) + \" Node 'N2' is not accesible anymore. Could you, without telling me the remaining edges, provide me only with the edges that have to be removed, as a comma separated value list of tuples like (Node1,Node2)?\")\n",
    "#####new_graph.run(\" Node 'N2' is not accesible anymore. Could you provide me only with the edges that have to be removed, as a comma separated value list of tuples like (Node1,Node2)?\")\n",
    "answer=new_graph.run(question)\n",
    "#new_graph.run(\"We have a directed graph. It contains exclusively these edges: \" + str([(triple[0], triple[1]) for triple in G.get_triples()]) +\"Given that 'N2' is not accesible anymore. Could you provide me with the edges that should be removed, as comma separated values like this [(Node1,Node2),...]?\")\n",
    "\n",
    "#ssc.run(\"Given that 'N2' is not accesible anymore. Could you provide me with the edges that should be removed, as comma separated values?\")\n",
    "import re\n",
    "print(answer)\n",
    "pattern = r\"\\('remov.*?:.*?\\n*([^\\n']+)'\\)\"\n",
    "pattern2 = r\"remov.*?:.*?([^\\n]+)\"\n",
    "pattern3 = r\"\\(([^\\)]*)\\)\"\n",
    "\n",
    "\n",
    "# Find all matches in the text\n",
    "removed_edges = re.findall(pattern2, answer,re.DOTALL)\n",
    "\n",
    "print(\"List of removed edges:\", removed_edges)\n",
    "print(removed_edges)\n",
    "print(len(removed_edges))\n",
    "for item in removed_edges:\n",
    "    print(item)\n",
    "edges_list = re.split(r\",(?![^()]*\\))\", removed_edges[0])\n",
    "print(edges_list)\n",
    "print(len(edges_list))\n",
    "#print(removed_edges.split(','))\n",
    "\n",
    "#checker_chain=LLMCheckerChain.from_llm(llm=model,verbose=True)\n",
    "#checker_chain.run(\"You are a master graph modeler, you have to remove edges from an edge list that contain inaccesible nodes. We have a directed graph. It contains exclusively these edges: \" +str([(triple[0], triple[1]) for triple in G.get_triples()]) + \"Given that 'N2' is not accesible anymore. Please provide the edges that should be removed from the edge list as comma separated value like this [(X,Y),...]? Use the format: Final List:\")\n",
    "\n",
    "#checker_chain.run(\"You are a master graph modeler, you have to remove edges from an edge list that contain inaccesible nodes. We have a directed graph. It contains exclusively these edges: \"+ str([(triple[0], triple[1]) for triple in G.get_triples()]) +\"Given that 'N2' is not accesible anymore. Could you provide me with the edges that should be removed, as comma separated values like this [(Node1,Node2),...]?\")\n",
    "#ssc.run(\"What are the options to get from Charging Station to Waste Disposal? Can you list the routes step by step: Node1->Node2...\")\n",
    "#str([(triple[0], triple[1]) for triple in G.get_triples()])+\n",
    "\n",
    "#chain.invoke(\"Assume that node N2 is not available any more. Could you update the list of routes from Charging Station to Waste Disposal : {(\\'Edge1\\':\\'ConnectingEdge1\\'),(\\'Edge2\\':\\'ConnectingEdge2\\')...\\}?\")"
   ]
  },
  {
   "cell_type": "code",
   "execution_count": 326,
   "id": "afa9c7e6",
   "metadata": {},
   "outputs": [
    {
     "name": "stdout",
     "output_type": "stream",
     "text": [
      "\n",
      "\n",
      "\u001b[1m> Entering new SimpleSequentialChain chain...\u001b[0m\n"
     ]
    },
    {
     "ename": "ValueError",
     "evalue": "Invalid format specifier ''ConnectingEdge1'),('Edge2':'ConnectingEdge2')...\\' for object of type 'str'",
     "output_type": "error",
     "traceback": [
      "\u001b[1;31m---------------------------------------------------------------------------\u001b[0m",
      "\u001b[1;31mValueError\u001b[0m                                Traceback (most recent call last)",
      "Cell \u001b[1;32mIn[326], line 16\u001b[0m\n\u001b[0;32m     14\u001b[0m new_route\u001b[38;5;241m=\u001b[39mLLMChain(prompt\u001b[38;5;241m=\u001b[39mChatPromptTemplate\u001b[38;5;241m.\u001b[39mfrom_template(\u001b[38;5;124m\"\u001b[39m\u001b[38;5;132;01m{edges}\u001b[39;00m\u001b[38;5;124m,Could you update the list of routes from Charging Station to Waste Disposal based on the new edges given\u001b[39m\u001b[38;5;124m\"\u001b[39m),llm\u001b[38;5;241m=\u001b[39mmodel)\n\u001b[0;32m     15\u001b[0m sschain \u001b[38;5;241m=\u001b[39m SimpleSequentialChain(chains\u001b[38;5;241m=\u001b[39m[new_graph,new_route],verbose\u001b[38;5;241m=\u001b[39m\u001b[38;5;28;01mTrue\u001b[39;00m)\n\u001b[1;32m---> 16\u001b[0m \u001b[38;5;28mprint\u001b[39m(\u001b[43msschain\u001b[49m\u001b[38;5;241;43m.\u001b[39;49m\u001b[43minvoke\u001b[49m\u001b[43m(\u001b[49m\u001b[38;5;124;43m'\u001b[39;49m\u001b[38;5;124;43m'\u001b[39;49m\u001b[43m)\u001b[49m)\n",
      "File \u001b[1;32m~\\AppData\\Local\\Packages\\PythonSoftwareFoundation.Python.3.11_qbz5n2kfra8p0\\LocalCache\\local-packages\\Python311\\site-packages\\langchain\\chains\\base.py:163\u001b[0m, in \u001b[0;36mChain.invoke\u001b[1;34m(self, input, config, **kwargs)\u001b[0m\n\u001b[0;32m    161\u001b[0m \u001b[38;5;28;01mexcept\u001b[39;00m \u001b[38;5;167;01mBaseException\u001b[39;00m \u001b[38;5;28;01mas\u001b[39;00m e:\n\u001b[0;32m    162\u001b[0m     run_manager\u001b[38;5;241m.\u001b[39mon_chain_error(e)\n\u001b[1;32m--> 163\u001b[0m     \u001b[38;5;28;01mraise\u001b[39;00m e\n\u001b[0;32m    164\u001b[0m run_manager\u001b[38;5;241m.\u001b[39mon_chain_end(outputs)\n\u001b[0;32m    166\u001b[0m \u001b[38;5;28;01mif\u001b[39;00m include_run_info:\n",
      "File \u001b[1;32m~\\AppData\\Local\\Packages\\PythonSoftwareFoundation.Python.3.11_qbz5n2kfra8p0\\LocalCache\\local-packages\\Python311\\site-packages\\langchain\\chains\\base.py:153\u001b[0m, in \u001b[0;36mChain.invoke\u001b[1;34m(self, input, config, **kwargs)\u001b[0m\n\u001b[0;32m    150\u001b[0m \u001b[38;5;28;01mtry\u001b[39;00m:\n\u001b[0;32m    151\u001b[0m     \u001b[38;5;28mself\u001b[39m\u001b[38;5;241m.\u001b[39m_validate_inputs(inputs)\n\u001b[0;32m    152\u001b[0m     outputs \u001b[38;5;241m=\u001b[39m (\n\u001b[1;32m--> 153\u001b[0m         \u001b[38;5;28;43mself\u001b[39;49m\u001b[38;5;241;43m.\u001b[39;49m\u001b[43m_call\u001b[49m\u001b[43m(\u001b[49m\u001b[43minputs\u001b[49m\u001b[43m,\u001b[49m\u001b[43m \u001b[49m\u001b[43mrun_manager\u001b[49m\u001b[38;5;241;43m=\u001b[39;49m\u001b[43mrun_manager\u001b[49m\u001b[43m)\u001b[49m\n\u001b[0;32m    154\u001b[0m         \u001b[38;5;28;01mif\u001b[39;00m new_arg_supported\n\u001b[0;32m    155\u001b[0m         \u001b[38;5;28;01melse\u001b[39;00m \u001b[38;5;28mself\u001b[39m\u001b[38;5;241m.\u001b[39m_call(inputs)\n\u001b[0;32m    156\u001b[0m     )\n\u001b[0;32m    158\u001b[0m     final_outputs: Dict[\u001b[38;5;28mstr\u001b[39m, Any] \u001b[38;5;241m=\u001b[39m \u001b[38;5;28mself\u001b[39m\u001b[38;5;241m.\u001b[39mprep_outputs(\n\u001b[0;32m    159\u001b[0m         inputs, outputs, return_only_outputs\n\u001b[0;32m    160\u001b[0m     )\n\u001b[0;32m    161\u001b[0m \u001b[38;5;28;01mexcept\u001b[39;00m \u001b[38;5;167;01mBaseException\u001b[39;00m \u001b[38;5;28;01mas\u001b[39;00m e:\n",
      "File \u001b[1;32m~\\AppData\\Local\\Packages\\PythonSoftwareFoundation.Python.3.11_qbz5n2kfra8p0\\LocalCache\\local-packages\\Python311\\site-packages\\langchain\\chains\\sequential.py:180\u001b[0m, in \u001b[0;36mSimpleSequentialChain._call\u001b[1;34m(self, inputs, run_manager)\u001b[0m\n\u001b[0;32m    178\u001b[0m color_mapping \u001b[38;5;241m=\u001b[39m get_color_mapping([\u001b[38;5;28mstr\u001b[39m(i) \u001b[38;5;28;01mfor\u001b[39;00m i \u001b[38;5;129;01min\u001b[39;00m \u001b[38;5;28mrange\u001b[39m(\u001b[38;5;28mlen\u001b[39m(\u001b[38;5;28mself\u001b[39m\u001b[38;5;241m.\u001b[39mchains))])\n\u001b[0;32m    179\u001b[0m \u001b[38;5;28;01mfor\u001b[39;00m i, chain \u001b[38;5;129;01min\u001b[39;00m \u001b[38;5;28menumerate\u001b[39m(\u001b[38;5;28mself\u001b[39m\u001b[38;5;241m.\u001b[39mchains):\n\u001b[1;32m--> 180\u001b[0m     _input \u001b[38;5;241m=\u001b[39m \u001b[43mchain\u001b[49m\u001b[38;5;241;43m.\u001b[39;49m\u001b[43mrun\u001b[49m\u001b[43m(\u001b[49m\u001b[43m_input\u001b[49m\u001b[43m,\u001b[49m\u001b[43m \u001b[49m\u001b[43mcallbacks\u001b[49m\u001b[38;5;241;43m=\u001b[39;49m\u001b[43m_run_manager\u001b[49m\u001b[38;5;241;43m.\u001b[39;49m\u001b[43mget_child\u001b[49m\u001b[43m(\u001b[49m\u001b[38;5;124;43mf\u001b[39;49m\u001b[38;5;124;43m\"\u001b[39;49m\u001b[38;5;124;43mstep_\u001b[39;49m\u001b[38;5;132;43;01m{\u001b[39;49;00m\u001b[43mi\u001b[49m\u001b[38;5;241;43m+\u001b[39;49m\u001b[38;5;241;43m1\u001b[39;49m\u001b[38;5;132;43;01m}\u001b[39;49;00m\u001b[38;5;124;43m\"\u001b[39;49m\u001b[43m)\u001b[49m\u001b[43m)\u001b[49m\n\u001b[0;32m    181\u001b[0m     \u001b[38;5;28;01mif\u001b[39;00m \u001b[38;5;28mself\u001b[39m\u001b[38;5;241m.\u001b[39mstrip_outputs:\n\u001b[0;32m    182\u001b[0m         _input \u001b[38;5;241m=\u001b[39m _input\u001b[38;5;241m.\u001b[39mstrip()\n",
      "File \u001b[1;32m~\\AppData\\Local\\Packages\\PythonSoftwareFoundation.Python.3.11_qbz5n2kfra8p0\\LocalCache\\local-packages\\Python311\\site-packages\\langchain_core\\_api\\deprecation.py:145\u001b[0m, in \u001b[0;36mdeprecated.<locals>.deprecate.<locals>.warning_emitting_wrapper\u001b[1;34m(*args, **kwargs)\u001b[0m\n\u001b[0;32m    143\u001b[0m     warned \u001b[38;5;241m=\u001b[39m \u001b[38;5;28;01mTrue\u001b[39;00m\n\u001b[0;32m    144\u001b[0m     emit_warning()\n\u001b[1;32m--> 145\u001b[0m \u001b[38;5;28;01mreturn\u001b[39;00m \u001b[43mwrapped\u001b[49m\u001b[43m(\u001b[49m\u001b[38;5;241;43m*\u001b[39;49m\u001b[43margs\u001b[49m\u001b[43m,\u001b[49m\u001b[43m \u001b[49m\u001b[38;5;241;43m*\u001b[39;49m\u001b[38;5;241;43m*\u001b[39;49m\u001b[43mkwargs\u001b[49m\u001b[43m)\u001b[49m\n",
      "File \u001b[1;32m~\\AppData\\Local\\Packages\\PythonSoftwareFoundation.Python.3.11_qbz5n2kfra8p0\\LocalCache\\local-packages\\Python311\\site-packages\\langchain\\chains\\base.py:545\u001b[0m, in \u001b[0;36mChain.run\u001b[1;34m(self, callbacks, tags, metadata, *args, **kwargs)\u001b[0m\n\u001b[0;32m    543\u001b[0m     \u001b[38;5;28;01mif\u001b[39;00m \u001b[38;5;28mlen\u001b[39m(args) \u001b[38;5;241m!=\u001b[39m \u001b[38;5;241m1\u001b[39m:\n\u001b[0;32m    544\u001b[0m         \u001b[38;5;28;01mraise\u001b[39;00m \u001b[38;5;167;01mValueError\u001b[39;00m(\u001b[38;5;124m\"\u001b[39m\u001b[38;5;124m`run` supports only one positional argument.\u001b[39m\u001b[38;5;124m\"\u001b[39m)\n\u001b[1;32m--> 545\u001b[0m     \u001b[38;5;28;01mreturn\u001b[39;00m \u001b[38;5;28;43mself\u001b[39;49m\u001b[43m(\u001b[49m\u001b[43margs\u001b[49m\u001b[43m[\u001b[49m\u001b[38;5;241;43m0\u001b[39;49m\u001b[43m]\u001b[49m\u001b[43m,\u001b[49m\u001b[43m \u001b[49m\u001b[43mcallbacks\u001b[49m\u001b[38;5;241;43m=\u001b[39;49m\u001b[43mcallbacks\u001b[49m\u001b[43m,\u001b[49m\u001b[43m \u001b[49m\u001b[43mtags\u001b[49m\u001b[38;5;241;43m=\u001b[39;49m\u001b[43mtags\u001b[49m\u001b[43m,\u001b[49m\u001b[43m \u001b[49m\u001b[43mmetadata\u001b[49m\u001b[38;5;241;43m=\u001b[39;49m\u001b[43mmetadata\u001b[49m\u001b[43m)\u001b[49m[\n\u001b[0;32m    546\u001b[0m         _output_key\n\u001b[0;32m    547\u001b[0m     ]\n\u001b[0;32m    549\u001b[0m \u001b[38;5;28;01mif\u001b[39;00m kwargs \u001b[38;5;129;01mand\u001b[39;00m \u001b[38;5;129;01mnot\u001b[39;00m args:\n\u001b[0;32m    550\u001b[0m     \u001b[38;5;28;01mreturn\u001b[39;00m \u001b[38;5;28mself\u001b[39m(kwargs, callbacks\u001b[38;5;241m=\u001b[39mcallbacks, tags\u001b[38;5;241m=\u001b[39mtags, metadata\u001b[38;5;241m=\u001b[39mmetadata)[\n\u001b[0;32m    551\u001b[0m         _output_key\n\u001b[0;32m    552\u001b[0m     ]\n",
      "File \u001b[1;32m~\\AppData\\Local\\Packages\\PythonSoftwareFoundation.Python.3.11_qbz5n2kfra8p0\\LocalCache\\local-packages\\Python311\\site-packages\\langchain_core\\_api\\deprecation.py:145\u001b[0m, in \u001b[0;36mdeprecated.<locals>.deprecate.<locals>.warning_emitting_wrapper\u001b[1;34m(*args, **kwargs)\u001b[0m\n\u001b[0;32m    143\u001b[0m     warned \u001b[38;5;241m=\u001b[39m \u001b[38;5;28;01mTrue\u001b[39;00m\n\u001b[0;32m    144\u001b[0m     emit_warning()\n\u001b[1;32m--> 145\u001b[0m \u001b[38;5;28;01mreturn\u001b[39;00m \u001b[43mwrapped\u001b[49m\u001b[43m(\u001b[49m\u001b[38;5;241;43m*\u001b[39;49m\u001b[43margs\u001b[49m\u001b[43m,\u001b[49m\u001b[43m \u001b[49m\u001b[38;5;241;43m*\u001b[39;49m\u001b[38;5;241;43m*\u001b[39;49m\u001b[43mkwargs\u001b[49m\u001b[43m)\u001b[49m\n",
      "File \u001b[1;32m~\\AppData\\Local\\Packages\\PythonSoftwareFoundation.Python.3.11_qbz5n2kfra8p0\\LocalCache\\local-packages\\Python311\\site-packages\\langchain\\chains\\base.py:378\u001b[0m, in \u001b[0;36mChain.__call__\u001b[1;34m(self, inputs, return_only_outputs, callbacks, tags, metadata, run_name, include_run_info)\u001b[0m\n\u001b[0;32m    346\u001b[0m \u001b[38;5;250m\u001b[39m\u001b[38;5;124;03m\"\"\"Execute the chain.\u001b[39;00m\n\u001b[0;32m    347\u001b[0m \n\u001b[0;32m    348\u001b[0m \u001b[38;5;124;03mArgs:\u001b[39;00m\n\u001b[1;32m   (...)\u001b[0m\n\u001b[0;32m    369\u001b[0m \u001b[38;5;124;03m        `Chain.output_keys`.\u001b[39;00m\n\u001b[0;32m    370\u001b[0m \u001b[38;5;124;03m\"\"\"\u001b[39;00m\n\u001b[0;32m    371\u001b[0m config \u001b[38;5;241m=\u001b[39m {\n\u001b[0;32m    372\u001b[0m     \u001b[38;5;124m\"\u001b[39m\u001b[38;5;124mcallbacks\u001b[39m\u001b[38;5;124m\"\u001b[39m: callbacks,\n\u001b[0;32m    373\u001b[0m     \u001b[38;5;124m\"\u001b[39m\u001b[38;5;124mtags\u001b[39m\u001b[38;5;124m\"\u001b[39m: tags,\n\u001b[0;32m    374\u001b[0m     \u001b[38;5;124m\"\u001b[39m\u001b[38;5;124mmetadata\u001b[39m\u001b[38;5;124m\"\u001b[39m: metadata,\n\u001b[0;32m    375\u001b[0m     \u001b[38;5;124m\"\u001b[39m\u001b[38;5;124mrun_name\u001b[39m\u001b[38;5;124m\"\u001b[39m: run_name,\n\u001b[0;32m    376\u001b[0m }\n\u001b[1;32m--> 378\u001b[0m \u001b[38;5;28;01mreturn\u001b[39;00m \u001b[38;5;28;43mself\u001b[39;49m\u001b[38;5;241;43m.\u001b[39;49m\u001b[43minvoke\u001b[49m\u001b[43m(\u001b[49m\n\u001b[0;32m    379\u001b[0m \u001b[43m    \u001b[49m\u001b[43minputs\u001b[49m\u001b[43m,\u001b[49m\n\u001b[0;32m    380\u001b[0m \u001b[43m    \u001b[49m\u001b[43mcast\u001b[49m\u001b[43m(\u001b[49m\u001b[43mRunnableConfig\u001b[49m\u001b[43m,\u001b[49m\u001b[43m \u001b[49m\u001b[43m{\u001b[49m\u001b[43mk\u001b[49m\u001b[43m:\u001b[49m\u001b[43m \u001b[49m\u001b[43mv\u001b[49m\u001b[43m \u001b[49m\u001b[38;5;28;43;01mfor\u001b[39;49;00m\u001b[43m \u001b[49m\u001b[43mk\u001b[49m\u001b[43m,\u001b[49m\u001b[43m \u001b[49m\u001b[43mv\u001b[49m\u001b[43m \u001b[49m\u001b[38;5;129;43;01min\u001b[39;49;00m\u001b[43m \u001b[49m\u001b[43mconfig\u001b[49m\u001b[38;5;241;43m.\u001b[39;49m\u001b[43mitems\u001b[49m\u001b[43m(\u001b[49m\u001b[43m)\u001b[49m\u001b[43m \u001b[49m\u001b[38;5;28;43;01mif\u001b[39;49;00m\u001b[43m \u001b[49m\u001b[43mv\u001b[49m\u001b[43m \u001b[49m\u001b[38;5;129;43;01mis\u001b[39;49;00m\u001b[43m \u001b[49m\u001b[38;5;129;43;01mnot\u001b[39;49;00m\u001b[43m \u001b[49m\u001b[38;5;28;43;01mNone\u001b[39;49;00m\u001b[43m}\u001b[49m\u001b[43m)\u001b[49m\u001b[43m,\u001b[49m\n\u001b[0;32m    381\u001b[0m \u001b[43m    \u001b[49m\u001b[43mreturn_only_outputs\u001b[49m\u001b[38;5;241;43m=\u001b[39;49m\u001b[43mreturn_only_outputs\u001b[49m\u001b[43m,\u001b[49m\n\u001b[0;32m    382\u001b[0m \u001b[43m    \u001b[49m\u001b[43minclude_run_info\u001b[49m\u001b[38;5;241;43m=\u001b[39;49m\u001b[43minclude_run_info\u001b[49m\u001b[43m,\u001b[49m\n\u001b[0;32m    383\u001b[0m \u001b[43m\u001b[49m\u001b[43m)\u001b[49m\n",
      "File \u001b[1;32m~\\AppData\\Local\\Packages\\PythonSoftwareFoundation.Python.3.11_qbz5n2kfra8p0\\LocalCache\\local-packages\\Python311\\site-packages\\langchain\\chains\\base.py:163\u001b[0m, in \u001b[0;36mChain.invoke\u001b[1;34m(self, input, config, **kwargs)\u001b[0m\n\u001b[0;32m    161\u001b[0m \u001b[38;5;28;01mexcept\u001b[39;00m \u001b[38;5;167;01mBaseException\u001b[39;00m \u001b[38;5;28;01mas\u001b[39;00m e:\n\u001b[0;32m    162\u001b[0m     run_manager\u001b[38;5;241m.\u001b[39mon_chain_error(e)\n\u001b[1;32m--> 163\u001b[0m     \u001b[38;5;28;01mraise\u001b[39;00m e\n\u001b[0;32m    164\u001b[0m run_manager\u001b[38;5;241m.\u001b[39mon_chain_end(outputs)\n\u001b[0;32m    166\u001b[0m \u001b[38;5;28;01mif\u001b[39;00m include_run_info:\n",
      "File \u001b[1;32m~\\AppData\\Local\\Packages\\PythonSoftwareFoundation.Python.3.11_qbz5n2kfra8p0\\LocalCache\\local-packages\\Python311\\site-packages\\langchain\\chains\\base.py:153\u001b[0m, in \u001b[0;36mChain.invoke\u001b[1;34m(self, input, config, **kwargs)\u001b[0m\n\u001b[0;32m    150\u001b[0m \u001b[38;5;28;01mtry\u001b[39;00m:\n\u001b[0;32m    151\u001b[0m     \u001b[38;5;28mself\u001b[39m\u001b[38;5;241m.\u001b[39m_validate_inputs(inputs)\n\u001b[0;32m    152\u001b[0m     outputs \u001b[38;5;241m=\u001b[39m (\n\u001b[1;32m--> 153\u001b[0m         \u001b[38;5;28;43mself\u001b[39;49m\u001b[38;5;241;43m.\u001b[39;49m\u001b[43m_call\u001b[49m\u001b[43m(\u001b[49m\u001b[43minputs\u001b[49m\u001b[43m,\u001b[49m\u001b[43m \u001b[49m\u001b[43mrun_manager\u001b[49m\u001b[38;5;241;43m=\u001b[39;49m\u001b[43mrun_manager\u001b[49m\u001b[43m)\u001b[49m\n\u001b[0;32m    154\u001b[0m         \u001b[38;5;28;01mif\u001b[39;00m new_arg_supported\n\u001b[0;32m    155\u001b[0m         \u001b[38;5;28;01melse\u001b[39;00m \u001b[38;5;28mself\u001b[39m\u001b[38;5;241m.\u001b[39m_call(inputs)\n\u001b[0;32m    156\u001b[0m     )\n\u001b[0;32m    158\u001b[0m     final_outputs: Dict[\u001b[38;5;28mstr\u001b[39m, Any] \u001b[38;5;241m=\u001b[39m \u001b[38;5;28mself\u001b[39m\u001b[38;5;241m.\u001b[39mprep_outputs(\n\u001b[0;32m    159\u001b[0m         inputs, outputs, return_only_outputs\n\u001b[0;32m    160\u001b[0m     )\n\u001b[0;32m    161\u001b[0m \u001b[38;5;28;01mexcept\u001b[39;00m \u001b[38;5;167;01mBaseException\u001b[39;00m \u001b[38;5;28;01mas\u001b[39;00m e:\n",
      "File \u001b[1;32m~\\AppData\\Local\\Packages\\PythonSoftwareFoundation.Python.3.11_qbz5n2kfra8p0\\LocalCache\\local-packages\\Python311\\site-packages\\langchain\\chains\\llm.py:103\u001b[0m, in \u001b[0;36mLLMChain._call\u001b[1;34m(self, inputs, run_manager)\u001b[0m\n\u001b[0;32m     98\u001b[0m \u001b[38;5;28;01mdef\u001b[39;00m \u001b[38;5;21m_call\u001b[39m(\n\u001b[0;32m     99\u001b[0m     \u001b[38;5;28mself\u001b[39m,\n\u001b[0;32m    100\u001b[0m     inputs: Dict[\u001b[38;5;28mstr\u001b[39m, Any],\n\u001b[0;32m    101\u001b[0m     run_manager: Optional[CallbackManagerForChainRun] \u001b[38;5;241m=\u001b[39m \u001b[38;5;28;01mNone\u001b[39;00m,\n\u001b[0;32m    102\u001b[0m ) \u001b[38;5;241m-\u001b[39m\u001b[38;5;241m>\u001b[39m Dict[\u001b[38;5;28mstr\u001b[39m, \u001b[38;5;28mstr\u001b[39m]:\n\u001b[1;32m--> 103\u001b[0m     response \u001b[38;5;241m=\u001b[39m \u001b[38;5;28;43mself\u001b[39;49m\u001b[38;5;241;43m.\u001b[39;49m\u001b[43mgenerate\u001b[49m\u001b[43m(\u001b[49m\u001b[43m[\u001b[49m\u001b[43minputs\u001b[49m\u001b[43m]\u001b[49m\u001b[43m,\u001b[49m\u001b[43m \u001b[49m\u001b[43mrun_manager\u001b[49m\u001b[38;5;241;43m=\u001b[39;49m\u001b[43mrun_manager\u001b[49m\u001b[43m)\u001b[49m\n\u001b[0;32m    104\u001b[0m     \u001b[38;5;28;01mreturn\u001b[39;00m \u001b[38;5;28mself\u001b[39m\u001b[38;5;241m.\u001b[39mcreate_outputs(response)[\u001b[38;5;241m0\u001b[39m]\n",
      "File \u001b[1;32m~\\AppData\\Local\\Packages\\PythonSoftwareFoundation.Python.3.11_qbz5n2kfra8p0\\LocalCache\\local-packages\\Python311\\site-packages\\langchain\\chains\\llm.py:112\u001b[0m, in \u001b[0;36mLLMChain.generate\u001b[1;34m(self, input_list, run_manager)\u001b[0m\n\u001b[0;32m    106\u001b[0m \u001b[38;5;28;01mdef\u001b[39;00m \u001b[38;5;21mgenerate\u001b[39m(\n\u001b[0;32m    107\u001b[0m     \u001b[38;5;28mself\u001b[39m,\n\u001b[0;32m    108\u001b[0m     input_list: List[Dict[\u001b[38;5;28mstr\u001b[39m, Any]],\n\u001b[0;32m    109\u001b[0m     run_manager: Optional[CallbackManagerForChainRun] \u001b[38;5;241m=\u001b[39m \u001b[38;5;28;01mNone\u001b[39;00m,\n\u001b[0;32m    110\u001b[0m ) \u001b[38;5;241m-\u001b[39m\u001b[38;5;241m>\u001b[39m LLMResult:\n\u001b[0;32m    111\u001b[0m \u001b[38;5;250m    \u001b[39m\u001b[38;5;124;03m\"\"\"Generate LLM result from inputs.\"\"\"\u001b[39;00m\n\u001b[1;32m--> 112\u001b[0m     prompts, stop \u001b[38;5;241m=\u001b[39m \u001b[38;5;28;43mself\u001b[39;49m\u001b[38;5;241;43m.\u001b[39;49m\u001b[43mprep_prompts\u001b[49m\u001b[43m(\u001b[49m\u001b[43minput_list\u001b[49m\u001b[43m,\u001b[49m\u001b[43m \u001b[49m\u001b[43mrun_manager\u001b[49m\u001b[38;5;241;43m=\u001b[39;49m\u001b[43mrun_manager\u001b[49m\u001b[43m)\u001b[49m\n\u001b[0;32m    113\u001b[0m     callbacks \u001b[38;5;241m=\u001b[39m run_manager\u001b[38;5;241m.\u001b[39mget_child() \u001b[38;5;28;01mif\u001b[39;00m run_manager \u001b[38;5;28;01melse\u001b[39;00m \u001b[38;5;28;01mNone\u001b[39;00m\n\u001b[0;32m    114\u001b[0m     \u001b[38;5;28;01mif\u001b[39;00m \u001b[38;5;28misinstance\u001b[39m(\u001b[38;5;28mself\u001b[39m\u001b[38;5;241m.\u001b[39mllm, BaseLanguageModel):\n",
      "File \u001b[1;32m~\\AppData\\Local\\Packages\\PythonSoftwareFoundation.Python.3.11_qbz5n2kfra8p0\\LocalCache\\local-packages\\Python311\\site-packages\\langchain\\chains\\llm.py:174\u001b[0m, in \u001b[0;36mLLMChain.prep_prompts\u001b[1;34m(self, input_list, run_manager)\u001b[0m\n\u001b[0;32m    172\u001b[0m \u001b[38;5;28;01mfor\u001b[39;00m inputs \u001b[38;5;129;01min\u001b[39;00m input_list:\n\u001b[0;32m    173\u001b[0m     selected_inputs \u001b[38;5;241m=\u001b[39m {k: inputs[k] \u001b[38;5;28;01mfor\u001b[39;00m k \u001b[38;5;129;01min\u001b[39;00m \u001b[38;5;28mself\u001b[39m\u001b[38;5;241m.\u001b[39mprompt\u001b[38;5;241m.\u001b[39minput_variables}\n\u001b[1;32m--> 174\u001b[0m     prompt \u001b[38;5;241m=\u001b[39m \u001b[38;5;28;43mself\u001b[39;49m\u001b[38;5;241;43m.\u001b[39;49m\u001b[43mprompt\u001b[49m\u001b[38;5;241;43m.\u001b[39;49m\u001b[43mformat_prompt\u001b[49m\u001b[43m(\u001b[49m\u001b[38;5;241;43m*\u001b[39;49m\u001b[38;5;241;43m*\u001b[39;49m\u001b[43mselected_inputs\u001b[49m\u001b[43m)\u001b[49m\n\u001b[0;32m    175\u001b[0m     _colored_text \u001b[38;5;241m=\u001b[39m get_colored_text(prompt\u001b[38;5;241m.\u001b[39mto_string(), \u001b[38;5;124m\"\u001b[39m\u001b[38;5;124mgreen\u001b[39m\u001b[38;5;124m\"\u001b[39m)\n\u001b[0;32m    176\u001b[0m     _text \u001b[38;5;241m=\u001b[39m \u001b[38;5;124m\"\u001b[39m\u001b[38;5;124mPrompt after formatting:\u001b[39m\u001b[38;5;130;01m\\n\u001b[39;00m\u001b[38;5;124m\"\u001b[39m \u001b[38;5;241m+\u001b[39m _colored_text\n",
      "File \u001b[1;32m~\\AppData\\Local\\Packages\\PythonSoftwareFoundation.Python.3.11_qbz5n2kfra8p0\\LocalCache\\local-packages\\Python311\\site-packages\\langchain_core\\prompts\\chat.py:535\u001b[0m, in \u001b[0;36mBaseChatPromptTemplate.format_prompt\u001b[1;34m(self, **kwargs)\u001b[0m\n\u001b[0;32m    526\u001b[0m \u001b[38;5;28;01mdef\u001b[39;00m \u001b[38;5;21mformat_prompt\u001b[39m(\u001b[38;5;28mself\u001b[39m, \u001b[38;5;241m*\u001b[39m\u001b[38;5;241m*\u001b[39mkwargs: Any) \u001b[38;5;241m-\u001b[39m\u001b[38;5;241m>\u001b[39m PromptValue:\n\u001b[0;32m    527\u001b[0m \u001b[38;5;250m    \u001b[39m\u001b[38;5;124;03m\"\"\"\u001b[39;00m\n\u001b[0;32m    528\u001b[0m \u001b[38;5;124;03m    Format prompt. Should return a PromptValue.\u001b[39;00m\n\u001b[0;32m    529\u001b[0m \u001b[38;5;124;03m    Args:\u001b[39;00m\n\u001b[1;32m   (...)\u001b[0m\n\u001b[0;32m    533\u001b[0m \u001b[38;5;124;03m        PromptValue.\u001b[39;00m\n\u001b[0;32m    534\u001b[0m \u001b[38;5;124;03m    \"\"\"\u001b[39;00m\n\u001b[1;32m--> 535\u001b[0m     messages \u001b[38;5;241m=\u001b[39m \u001b[38;5;28;43mself\u001b[39;49m\u001b[38;5;241;43m.\u001b[39;49m\u001b[43mformat_messages\u001b[49m\u001b[43m(\u001b[49m\u001b[38;5;241;43m*\u001b[39;49m\u001b[38;5;241;43m*\u001b[39;49m\u001b[43mkwargs\u001b[49m\u001b[43m)\u001b[49m\n\u001b[0;32m    536\u001b[0m     \u001b[38;5;28;01mreturn\u001b[39;00m ChatPromptValue(messages\u001b[38;5;241m=\u001b[39mmessages)\n",
      "File \u001b[1;32m~\\AppData\\Local\\Packages\\PythonSoftwareFoundation.Python.3.11_qbz5n2kfra8p0\\LocalCache\\local-packages\\Python311\\site-packages\\langchain_core\\prompts\\chat.py:797\u001b[0m, in \u001b[0;36mChatPromptTemplate.format_messages\u001b[1;34m(self, **kwargs)\u001b[0m\n\u001b[0;32m    793\u001b[0m     result\u001b[38;5;241m.\u001b[39mextend([message_template])\n\u001b[0;32m    794\u001b[0m \u001b[38;5;28;01melif\u001b[39;00m \u001b[38;5;28misinstance\u001b[39m(\n\u001b[0;32m    795\u001b[0m     message_template, (BaseMessagePromptTemplate, BaseChatPromptTemplate)\n\u001b[0;32m    796\u001b[0m ):\n\u001b[1;32m--> 797\u001b[0m     message \u001b[38;5;241m=\u001b[39m \u001b[43mmessage_template\u001b[49m\u001b[38;5;241;43m.\u001b[39;49m\u001b[43mformat_messages\u001b[49m\u001b[43m(\u001b[49m\u001b[38;5;241;43m*\u001b[39;49m\u001b[38;5;241;43m*\u001b[39;49m\u001b[43mkwargs\u001b[49m\u001b[43m)\u001b[49m\n\u001b[0;32m    798\u001b[0m     result\u001b[38;5;241m.\u001b[39mextend(message)\n\u001b[0;32m    799\u001b[0m \u001b[38;5;28;01melse\u001b[39;00m:\n",
      "File \u001b[1;32m~\\AppData\\Local\\Packages\\PythonSoftwareFoundation.Python.3.11_qbz5n2kfra8p0\\LocalCache\\local-packages\\Python311\\site-packages\\langchain_core\\prompts\\chat.py:421\u001b[0m, in \u001b[0;36m_StringImageMessagePromptTemplate.format_messages\u001b[1;34m(self, **kwargs)\u001b[0m\n\u001b[0;32m    412\u001b[0m \u001b[38;5;28;01mdef\u001b[39;00m \u001b[38;5;21mformat_messages\u001b[39m(\u001b[38;5;28mself\u001b[39m, \u001b[38;5;241m*\u001b[39m\u001b[38;5;241m*\u001b[39mkwargs: Any) \u001b[38;5;241m-\u001b[39m\u001b[38;5;241m>\u001b[39m List[BaseMessage]:\n\u001b[0;32m    413\u001b[0m \u001b[38;5;250m    \u001b[39m\u001b[38;5;124;03m\"\"\"Format messages from kwargs.\u001b[39;00m\n\u001b[0;32m    414\u001b[0m \n\u001b[0;32m    415\u001b[0m \u001b[38;5;124;03m    Args:\u001b[39;00m\n\u001b[1;32m   (...)\u001b[0m\n\u001b[0;32m    419\u001b[0m \u001b[38;5;124;03m        List of BaseMessages.\u001b[39;00m\n\u001b[0;32m    420\u001b[0m \u001b[38;5;124;03m    \"\"\"\u001b[39;00m\n\u001b[1;32m--> 421\u001b[0m     \u001b[38;5;28;01mreturn\u001b[39;00m [\u001b[38;5;28;43mself\u001b[39;49m\u001b[38;5;241;43m.\u001b[39;49m\u001b[43mformat\u001b[49m\u001b[43m(\u001b[49m\u001b[38;5;241;43m*\u001b[39;49m\u001b[38;5;241;43m*\u001b[39;49m\u001b[43mkwargs\u001b[49m\u001b[43m)\u001b[49m]\n",
      "File \u001b[1;32m~\\AppData\\Local\\Packages\\PythonSoftwareFoundation.Python.3.11_qbz5n2kfra8p0\\LocalCache\\local-packages\\Python311\\site-packages\\langchain_core\\prompts\\chat.py:445\u001b[0m, in \u001b[0;36m_StringImageMessagePromptTemplate.format\u001b[1;34m(self, **kwargs)\u001b[0m\n\u001b[0;32m    436\u001b[0m \u001b[38;5;250m\u001b[39m\u001b[38;5;124;03m\"\"\"Format the prompt template.\u001b[39;00m\n\u001b[0;32m    437\u001b[0m \n\u001b[0;32m    438\u001b[0m \u001b[38;5;124;03mArgs:\u001b[39;00m\n\u001b[1;32m   (...)\u001b[0m\n\u001b[0;32m    442\u001b[0m \u001b[38;5;124;03m    Formatted message.\u001b[39;00m\n\u001b[0;32m    443\u001b[0m \u001b[38;5;124;03m\"\"\"\u001b[39;00m\n\u001b[0;32m    444\u001b[0m \u001b[38;5;28;01mif\u001b[39;00m \u001b[38;5;28misinstance\u001b[39m(\u001b[38;5;28mself\u001b[39m\u001b[38;5;241m.\u001b[39mprompt, StringPromptTemplate):\n\u001b[1;32m--> 445\u001b[0m     text \u001b[38;5;241m=\u001b[39m \u001b[38;5;28;43mself\u001b[39;49m\u001b[38;5;241;43m.\u001b[39;49m\u001b[43mprompt\u001b[49m\u001b[38;5;241;43m.\u001b[39;49m\u001b[43mformat\u001b[49m\u001b[43m(\u001b[49m\u001b[38;5;241;43m*\u001b[39;49m\u001b[38;5;241;43m*\u001b[39;49m\u001b[43mkwargs\u001b[49m\u001b[43m)\u001b[49m\n\u001b[0;32m    446\u001b[0m     \u001b[38;5;28;01mreturn\u001b[39;00m \u001b[38;5;28mself\u001b[39m\u001b[38;5;241m.\u001b[39m_msg_class(\n\u001b[0;32m    447\u001b[0m         content\u001b[38;5;241m=\u001b[39mtext, additional_kwargs\u001b[38;5;241m=\u001b[39m\u001b[38;5;28mself\u001b[39m\u001b[38;5;241m.\u001b[39madditional_kwargs\n\u001b[0;32m    448\u001b[0m     )\n\u001b[0;32m    449\u001b[0m \u001b[38;5;28;01melse\u001b[39;00m:\n",
      "File \u001b[1;32m~\\AppData\\Local\\Packages\\PythonSoftwareFoundation.Python.3.11_qbz5n2kfra8p0\\LocalCache\\local-packages\\Python311\\site-packages\\langchain_core\\prompts\\prompt.py:132\u001b[0m, in \u001b[0;36mPromptTemplate.format\u001b[1;34m(self, **kwargs)\u001b[0m\n\u001b[0;32m    117\u001b[0m \u001b[38;5;250m\u001b[39m\u001b[38;5;124;03m\"\"\"Format the prompt with the inputs.\u001b[39;00m\n\u001b[0;32m    118\u001b[0m \n\u001b[0;32m    119\u001b[0m \u001b[38;5;124;03mArgs:\u001b[39;00m\n\u001b[1;32m   (...)\u001b[0m\n\u001b[0;32m    129\u001b[0m \u001b[38;5;124;03m        prompt.format(variable1=\"foo\")\u001b[39;00m\n\u001b[0;32m    130\u001b[0m \u001b[38;5;124;03m\"\"\"\u001b[39;00m\n\u001b[0;32m    131\u001b[0m kwargs \u001b[38;5;241m=\u001b[39m \u001b[38;5;28mself\u001b[39m\u001b[38;5;241m.\u001b[39m_merge_partial_and_user_variables(\u001b[38;5;241m*\u001b[39m\u001b[38;5;241m*\u001b[39mkwargs)\n\u001b[1;32m--> 132\u001b[0m \u001b[38;5;28;01mreturn\u001b[39;00m \u001b[43mDEFAULT_FORMATTER_MAPPING\u001b[49m\u001b[43m[\u001b[49m\u001b[38;5;28;43mself\u001b[39;49m\u001b[38;5;241;43m.\u001b[39;49m\u001b[43mtemplate_format\u001b[49m\u001b[43m]\u001b[49m\u001b[43m(\u001b[49m\u001b[38;5;28;43mself\u001b[39;49m\u001b[38;5;241;43m.\u001b[39;49m\u001b[43mtemplate\u001b[49m\u001b[43m,\u001b[49m\u001b[43m \u001b[49m\u001b[38;5;241;43m*\u001b[39;49m\u001b[38;5;241;43m*\u001b[39;49m\u001b[43mkwargs\u001b[49m\u001b[43m)\u001b[49m\n",
      "File \u001b[1;32mC:\\Program Files\\WindowsApps\\PythonSoftwareFoundation.Python.3.11_3.11.2288.0_x64__qbz5n2kfra8p0\\Lib\\string.py:190\u001b[0m, in \u001b[0;36mFormatter.format\u001b[1;34m(self, format_string, *args, **kwargs)\u001b[0m\n\u001b[0;32m    189\u001b[0m \u001b[38;5;28;01mdef\u001b[39;00m \u001b[38;5;21mformat\u001b[39m(\u001b[38;5;28mself\u001b[39m, format_string, \u001b[38;5;241m/\u001b[39m, \u001b[38;5;241m*\u001b[39margs, \u001b[38;5;241m*\u001b[39m\u001b[38;5;241m*\u001b[39mkwargs):\n\u001b[1;32m--> 190\u001b[0m     \u001b[38;5;28;01mreturn\u001b[39;00m \u001b[38;5;28;43mself\u001b[39;49m\u001b[38;5;241;43m.\u001b[39;49m\u001b[43mvformat\u001b[49m\u001b[43m(\u001b[49m\u001b[43mformat_string\u001b[49m\u001b[43m,\u001b[49m\u001b[43m \u001b[49m\u001b[43margs\u001b[49m\u001b[43m,\u001b[49m\u001b[43m \u001b[49m\u001b[43mkwargs\u001b[49m\u001b[43m)\u001b[49m\n",
      "File \u001b[1;32m~\\AppData\\Local\\Packages\\PythonSoftwareFoundation.Python.3.11_qbz5n2kfra8p0\\LocalCache\\local-packages\\Python311\\site-packages\\langchain_core\\utils\\formatting.py:18\u001b[0m, in \u001b[0;36mStrictFormatter.vformat\u001b[1;34m(self, format_string, args, kwargs)\u001b[0m\n\u001b[0;32m     13\u001b[0m \u001b[38;5;28;01mif\u001b[39;00m \u001b[38;5;28mlen\u001b[39m(args) \u001b[38;5;241m>\u001b[39m \u001b[38;5;241m0\u001b[39m:\n\u001b[0;32m     14\u001b[0m     \u001b[38;5;28;01mraise\u001b[39;00m \u001b[38;5;167;01mValueError\u001b[39;00m(\n\u001b[0;32m     15\u001b[0m         \u001b[38;5;124m\"\u001b[39m\u001b[38;5;124mNo arguments should be provided, \u001b[39m\u001b[38;5;124m\"\u001b[39m\n\u001b[0;32m     16\u001b[0m         \u001b[38;5;124m\"\u001b[39m\u001b[38;5;124meverything should be passed as keyword arguments.\u001b[39m\u001b[38;5;124m\"\u001b[39m\n\u001b[0;32m     17\u001b[0m     )\n\u001b[1;32m---> 18\u001b[0m \u001b[38;5;28;01mreturn\u001b[39;00m \u001b[38;5;28;43msuper\u001b[39;49m\u001b[43m(\u001b[49m\u001b[43m)\u001b[49m\u001b[38;5;241;43m.\u001b[39;49m\u001b[43mvformat\u001b[49m\u001b[43m(\u001b[49m\u001b[43mformat_string\u001b[49m\u001b[43m,\u001b[49m\u001b[43m \u001b[49m\u001b[43margs\u001b[49m\u001b[43m,\u001b[49m\u001b[43m \u001b[49m\u001b[43mkwargs\u001b[49m\u001b[43m)\u001b[49m\n",
      "File \u001b[1;32mC:\\Program Files\\WindowsApps\\PythonSoftwareFoundation.Python.3.11_3.11.2288.0_x64__qbz5n2kfra8p0\\Lib\\string.py:194\u001b[0m, in \u001b[0;36mFormatter.vformat\u001b[1;34m(self, format_string, args, kwargs)\u001b[0m\n\u001b[0;32m    192\u001b[0m \u001b[38;5;28;01mdef\u001b[39;00m \u001b[38;5;21mvformat\u001b[39m(\u001b[38;5;28mself\u001b[39m, format_string, args, kwargs):\n\u001b[0;32m    193\u001b[0m     used_args \u001b[38;5;241m=\u001b[39m \u001b[38;5;28mset\u001b[39m()\n\u001b[1;32m--> 194\u001b[0m     result, _ \u001b[38;5;241m=\u001b[39m \u001b[38;5;28;43mself\u001b[39;49m\u001b[38;5;241;43m.\u001b[39;49m\u001b[43m_vformat\u001b[49m\u001b[43m(\u001b[49m\u001b[43mformat_string\u001b[49m\u001b[43m,\u001b[49m\u001b[43m \u001b[49m\u001b[43margs\u001b[49m\u001b[43m,\u001b[49m\u001b[43m \u001b[49m\u001b[43mkwargs\u001b[49m\u001b[43m,\u001b[49m\u001b[43m \u001b[49m\u001b[43mused_args\u001b[49m\u001b[43m,\u001b[49m\u001b[43m \u001b[49m\u001b[38;5;241;43m2\u001b[39;49m\u001b[43m)\u001b[49m\n\u001b[0;32m    195\u001b[0m     \u001b[38;5;28mself\u001b[39m\u001b[38;5;241m.\u001b[39mcheck_unused_args(used_args, args, kwargs)\n\u001b[0;32m    196\u001b[0m     \u001b[38;5;28;01mreturn\u001b[39;00m result\n",
      "File \u001b[1;32mC:\\Program Files\\WindowsApps\\PythonSoftwareFoundation.Python.3.11_3.11.2288.0_x64__qbz5n2kfra8p0\\Lib\\string.py:247\u001b[0m, in \u001b[0;36mFormatter._vformat\u001b[1;34m(self, format_string, args, kwargs, used_args, recursion_depth, auto_arg_index)\u001b[0m\n\u001b[0;32m    241\u001b[0m         format_spec, auto_arg_index \u001b[38;5;241m=\u001b[39m \u001b[38;5;28mself\u001b[39m\u001b[38;5;241m.\u001b[39m_vformat(\n\u001b[0;32m    242\u001b[0m             format_spec, args, kwargs,\n\u001b[0;32m    243\u001b[0m             used_args, recursion_depth\u001b[38;5;241m-\u001b[39m\u001b[38;5;241m1\u001b[39m,\n\u001b[0;32m    244\u001b[0m             auto_arg_index\u001b[38;5;241m=\u001b[39mauto_arg_index)\n\u001b[0;32m    246\u001b[0m         \u001b[38;5;66;03m# format the object and append to the result\u001b[39;00m\n\u001b[1;32m--> 247\u001b[0m         result\u001b[38;5;241m.\u001b[39mappend(\u001b[38;5;28;43mself\u001b[39;49m\u001b[38;5;241;43m.\u001b[39;49m\u001b[43mformat_field\u001b[49m\u001b[43m(\u001b[49m\u001b[43mobj\u001b[49m\u001b[43m,\u001b[49m\u001b[43m \u001b[49m\u001b[43mformat_spec\u001b[49m\u001b[43m)\u001b[49m)\n\u001b[0;32m    249\u001b[0m \u001b[38;5;28;01mreturn\u001b[39;00m \u001b[38;5;124m'\u001b[39m\u001b[38;5;124m'\u001b[39m\u001b[38;5;241m.\u001b[39mjoin(result), auto_arg_index\n",
      "File \u001b[1;32mC:\\Program Files\\WindowsApps\\PythonSoftwareFoundation.Python.3.11_3.11.2288.0_x64__qbz5n2kfra8p0\\Lib\\string.py:264\u001b[0m, in \u001b[0;36mFormatter.format_field\u001b[1;34m(self, value, format_spec)\u001b[0m\n\u001b[0;32m    263\u001b[0m \u001b[38;5;28;01mdef\u001b[39;00m \u001b[38;5;21mformat_field\u001b[39m(\u001b[38;5;28mself\u001b[39m, value, format_spec):\n\u001b[1;32m--> 264\u001b[0m     \u001b[38;5;28;01mreturn\u001b[39;00m \u001b[38;5;28mformat\u001b[39m(value, format_spec)\n",
      "\u001b[1;31mValueError\u001b[0m: Invalid format specifier ''ConnectingEdge1'),('Edge2':'ConnectingEdge2')...\\' for object of type 'str'"
     ]
    }
   ],
   "source": [
    "# create chain\n",
    "from langchain import LLMChain\n",
    "from langchain.chains import SimpleSequentialChain\n",
    "\n",
    "# create chain\n",
    "chain = ({\"question\": RunnablePassthrough()}\n",
    "        | prompt\n",
    "        | model\n",
    "        | StrOutputParser()\n",
    ")\n",
    "\n",
    "prompt\n",
    "new_graph=LLMChain(prompt=ChatPromptTemplate.from_template(\"Assume that node N2 is not available any more. Could you update the list of edges, use this format: {(\\'Edge1\\':\\'ConnectingEdge1\\'),(\\'Edge2\\':\\'ConnectingEdge2\\')...\\}?\"),llm=model)\n",
    "new_route=LLMChain(prompt=ChatPromptTemplate.from_template(\"{edges},Could you update the list of routes from Charging Station to Waste Disposal based on the new edges given\"),llm=model)\n",
    "sschain = SimpleSequentialChain(chains=[new_graph,new_route],verbose=True)\n",
    "print(sschain.invoke(''))"
   ]
  },
  {
   "cell_type": "code",
   "execution_count": null,
   "metadata": {},
   "outputs": [],
   "source": [
    "\n",
    "route_template=\"{edges},What are the options to get from Charging Station to Waste Disposal? Can you list the routes step by step: Node1->Node2...?\"\n",
    "prompt_route=PromptTemplate(input_variables=[\"edges\"],template=route_template)\n",
    "no_input_route=LLMChain(prompt=prompt_route,llm=model)\n",
    "\n",
    "template_n2=\"{edges}, Assume that node N2 is not available any more. Update the given list of edges given \"\n",
    "prompt_template = PromptTemplate(input_variables=[\"edges\"], template=template_n2)\n",
    "remove_n2=LLMChain(prompt=prompt_template,llm=model)"
   ]
  },
  {
   "cell_type": "code",
   "execution_count": null,
   "id": "5b783d44",
   "metadata": {},
   "outputs": [
    {
     "name": "stdout",
     "output_type": "stream",
     "text": [
      "[('31404364', '7120224687'), ('31404364', '313157654'), ('31404364', '7112240026'), ('31404364', '7120224692'), ('7120224687', '7112240050'), ('7112240050', '7112240049'), ('7112240049', '7123481411'), ('7123481411', '313157656'), ('313157656', '313157659'), ('313157659', '31404365'), ('31404365', '1280377626'), ('1280377626', '313157654'), ('313157654', '7112240047'), ('313157654', '1213060725'), ('7112240047', '7112240051'), ('7112240051', '1280377624'), ('1280377624', '31404366'), ('31404366', '31404367'), ('31404367', '31404363'), ('31404367', '7120224688'), ('31451750', '313316730'), ('31451750', '7273047832'), ('31451750', '245411481'), ('313316730', '245411483'), ('245411483', '245004114'), ('245411483', '245411480'), ('245411483', '245411472'), ('245004114', '245004115'), ('245004114', '245411482'), ('245004114', '245411472'), ('245004115', '313158259'), ('245004120', '7112240058'), ('7112240058', '7037192308'), ('7037192308', '7037192307'), ('7037192308', '7112240052'), ('7037192307', '7112240055'), ('7112240055', '245004124'), ('7112240055', '245411453'), ('245004124', '7037104959'), ('7112240052', '7112240056'), ('7112240056', '245411454'), ('245411454', '7115662747'), ('245411454', '7115662749'), ('1215519795', '7365617927'), ('7365617927', '7365570458'), ('8214469912', '245411470'), ('8214469912', '8214388994'), ('245411470', '6820696987'), ('6820696987', '245411471'), ('245411471', '245411482'), ('245411482', '7113033361'), ('245411472', '7108628060'), ('245411472', '245411491'), ('7108628060', '31451751'), ('31451751', '7108628061'), ('31451751', '7047823175'), ('31451751', '245411475'), ('31451751', '7405091582'), ('7108628061', '245411474'), ('245411474', '245411475'), ('245411475', '7273047832'), ('245411478', '7113033361'), ('245411478', '7113033359'), ('245411478', '7108628066'), ('7113033358', '7113033359'), ('7113033359', '245411480'), ('7113033359', '245411477'), ('245411480', '7108628067'), ('245411480', '245411481'), ('245411491', '7405091582'), ('245411491', '7038604367'), ('3818064923', '8942685447'), ('3818064923', '7115643743'), ('3818064923', '11544125966'), ('8942685447', '6902231372'), ('6902231372', '245411508'), ('245411508', '245411509'), ('245411509', '1280377647'), ('1280377647', '11544125966'), ('1280377647', '7118241037'), ('313158259', '245411469'), ('245411469', '245411497'), ('245411469', '245411468'), ('245411469', '8214388994'), ('245411497', '245411464'), ('245411497', '245411468'), ('245411464', '6568643644'), ('245411464', '245411466'), ('245411464', '7365570458'), ('6568643644', '245004117'), ('245004117', '1280377578'), ('1886411780', '2127917117'), ('1886411780', '2127917119'), ('2127917117', '2127917115'), ('2127917115', '2127917119'), ('2127917119', '2895270996'), ('7112240026', '6568643642'), ('6568643642', '1280377578'), ('1280377578', '1832648471'), ('7120192445', '7120192452'), ('7120192452', '7120192451'), ('245411481', '245411477'), ('7108628066', '7113033360'), ('7113033360', '3350449614'), ('3350449614', '7108628067'), ('31404361', '8156274360'), ('8156274360', '7535556147'), ('7535556147', '31404360'), ('31404360', '31404358'), ('245411466', '7047823176'), ('245411466', '245411467'), ('245411466', '2127917103'), ('7120224688', '7120224692'), ('31404358', '7055172851'), ('31404358', '8243547362'), ('1832648471', '245004119'), ('1832648471', '6185709507'), ('245004119', '6568643640'), ('245004119', '6568643641'), ('6568643640', '31451759'), ('7295582557', '2127917116'), ('7295582557', '249261827'), ('2127917116', '2068264822'), ('2068264822', '2521125582'), ('2521125582', '7195144048'), ('2521125582', '7235284139'), ('249261827', '7295582555'), ('7295582555', '249261828'), ('2127917103', '7118282039'), ('2127917103', '31451760'), ('2127917103', '10163996199'), ('7118282039', '7118282038'), ('7118282038', '7118282037'), ('7118282037', '245411459'), ('245411459', '6568643641'), ('1215519141', '2127917109'), ('2127917109', '2895270995'), ('2895270995', '2127917122'), ('2127917122', '7295582554'), ('7295582554', '2127917121'), ('2127917121', '2895270996'), ('2895270996', '2895270994'), ('7235284138', '2521125579'), ('7235284138', '7235284139'), ('2521125579', '2521125578'), ('2521125579', '7348644894'), ('2521125578', '2521125580'), ('2521125580', '2521125577'), ('2521125580', '7365570478'), ('7365570478', '6885197123'), ('6885197123', '6885197122'), ('31451760', '7115662750'), ('7115662750', '7115662745'), ('7115662745', '7115662751'), ('7115662751', '7115662753'), ('7115662753', '7115662747'), ('7115662749', '7038604369'), ('7115662749', '7115662742'), ('7038604369', '10163996200'), ('10163996200', '7047823178'), ('7038604367', '7038604368'), ('7038604367', '9581745330'), ('7038604368', '7405091583'), ('7038604368', '245411468'), ('7405091583', '245411467'), ('7231416959', '7231416958'), ('7231416958', '2097831389'), ('2097831389', '1215520055'), ('1215520055', '3350449606'), ('3350449606', '245004113'), ('7188265399', '7115643743'), ('7188265399', '7273039872'), ('7115643743', '7047993553'), ('7115643743', '7047993552'), ('7120192451', '7124910516'), ('7365570458', '388528852'), ('7370325769', '6885197122'), ('6885197122', '6885197121'), ('6885197122', '6885197124'), ('6885197124', '2545781195'), ('2545781195', '2545781197'), ('2545781197', '2545781199'), ('7118241037', '7037104960'), ('7037104960', '7037104962'), ('9581745330', '8496758349'), ('245411468', '245411467'), ('7047823177', '7047823178'), ('7047823177', '7112443020'), ('7047823178', '10163996199'), ('245411453', '7112240054'), ('7112240054', '7115662742'), ('7055172864', '7389038049'), ('7389038049', '7389038048'), ('7389038048', '7055172860'), ('7124910516', '7273039872'), ('7273039872', '7273039873'), ('7273039870', '7273039869'), ('7273039868', '7273039871'), ('7273039875', '7273039874'), ('7273039874', '7273039873'), ('7348644894', '7348644895'), ('4444214002', '7348644895'), ('8243547362', '11057563466'), ('11057563466', '8243547361'), ('8243547361', '8243547360'), ('8243547360', '7055172854'), ('1280377636', '8496758349'), ('245004098', '11356944168'), ('11356944168', '11356944167'), ('11356944167', '11356944166'), ('11356944166', '11356944165'), ('11356944165', '11356944164'), ('11356944164', '11356944163'), ('11356944163', '11356944162'), ('11356944162', '7108797192'), ('2926060005', '798211795'), ('798211795', '11543896362'), ('11543896362', '11543896360'), ('11543896360', '11543896361'), ('3344424273', '798211898'), ('798211898', '11547122783'), ('11547122783', '11547122786'), ('11547122786', '11547122785'), ('11547122785', '11547122784'), ('11547122784', '11550971364'), ('11547122784', '11550971363'), ('11550971363', '11550971362'), ('11550971362', '11550971361'), ('11550971361', '11550971360')]\n",
      "[('31404364', '7120224687'), ('31404364', '313157654'), ('31404364', '7112240026'), ('31404364', '7120224692'), ('7120224687', '7112240050'), ('7112240050', '7112240049'), ('7112240049', '7123481411'), ('7123481411', '313157656'), ('313157656', '313157659'), ('313157659', '31404365'), ('31404365', '1280377626'), ('1280377626', '313157654'), ('313157654', '7112240047'), ('313157654', '1213060725'), ('7112240047', '7112240051'), ('7112240051', '1280377624'), ('1280377624', '31404366'), ('31404366', '31404367'), ('31404367', '31404363'), ('31404367', '7120224688'), ('31451750', '313316730'), ('31451750', '7273047832'), ('31451750', '245411481'), ('313316730', '245411483'), ('245411483', '245004114'), ('245411483', '245411480'), ('245411483', '245411472'), ('245004114', '245004115'), ('245004114', '245411482'), ('245004114', '245411472'), ('245004115', '313158259'), ('245004120', '7112240058'), ('7112240058', '7037192308'), ('7037192308', '7037192307'), ('7037192308', '7112240052'), ('7037192307', '7112240055'), ('7112240055', '245004124'), ('7112240055', '245411453'), ('245004124', '7037104959'), ('7112240052', '7112240056'), ('7112240056', '245411454'), ('245411454', '7115662747'), ('245411454', '7115662749'), ('1215519795', '7365617927'), ('7365617927', '7365570458'), ('8214469912', '245411470'), ('8214469912', '8214388994'), ('245411470', '6820696987'), ('6820696987', '245411471'), ('245411471', '245411482'), ('245411482', '7113033361'), ('245411472', '7108628060'), ('245411472', '245411491'), ('7108628060', '31451751'), ('31451751', '7108628061'), ('31451751', '7047823175'), ('31451751', '245411475'), ('31451751', '7405091582'), ('7108628061', '245411474'), ('245411474', '245411475'), ('245411475', '7273047832'), ('245411478', '7113033361'), ('245411478', '7113033359'), ('245411478', '7108628066'), ('7113033358', '7113033359'), ('7113033359', '245411480'), ('7113033359', '245411477'), ('245411480', '7108628067'), ('245411480', '245411481'), ('245411491', '7405091582'), ('245411491', '7038604367'), ('3818064923', '8942685447'), ('3818064923', '7115643743'), ('3818064923', '11544125966'), ('8942685447', '6902231372'), ('6902231372', '245411508'), ('245411508', '245411509'), ('245411509', '1280377647'), ('1280377647', '11544125966'), ('1280377647', '7118241037'), ('313158259', '245411469'), ('245411469', '245411497'), ('245411469', '245411468'), ('245411469', '8214388994'), ('245411497', '245411464'), ('245411497', '245411468'), ('245411464', '6568643644'), ('245411464', '245411466'), ('245411464', '7365570458'), ('6568643644', '245004117'), ('245004117', '1280377578'), ('1886411780', '2127917117'), ('1886411780', '2127917119'), ('2127917117', '2127917115'), ('2127917115', '2127917119'), ('2127917119', '2895270996'), ('7112240026', '6568643642'), ('6568643642', '1280377578'), ('1280377578', '1832648471'), ('7120192445', '7120192452'), ('7120192452', '7120192451'), ('245411481', '245411477'), ('7108628066', '7113033360'), ('7113033360', '3350449614'), ('3350449614', '7108628067'), ('31404361', '8156274360'), ('8156274360', '7535556147'), ('7535556147', '31404360'), ('31404360', '31404358'), ('245411466', '7047823176'), ('245411466', '245411467'), ('245411466', '2127917103'), ('7120224688', '7120224692'), ('31404358', '7055172851'), ('31404358', '8243547362'), ('1832648471', '245004119'), ('1832648471', '6185709507'), ('245004119', '6568643640'), ('245004119', '6568643641'), ('6568643640', '31451759'), ('7295582557', '2127917116'), ('7295582557', '249261827'), ('2127917116', '2068264822'), ('2068264822', '2521125582'), ('2521125582', '7195144048'), ('2521125582', '7235284139'), ('249261827', '7295582555'), ('7295582555', '249261828'), ('2127917103', '7118282039'), ('2127917103', '31451760'), ('2127917103', '10163996199'), ('7118282039', '7118282038'), ('7118282038', '7118282037'), ('7118282037', '245411459'), ('245411459', '6568643641'), ('1215519141', '2127917109'), ('2127917109', '2895270995'), ('2895270995', '2127917122'), ('2127917122', '7295582554'), ('7295582554', '2127917121'), ('2127917121', '2895270996'), ('2895270996', '2895270994'), ('7235284138', '2521125579'), ('7235284138', '7235284139'), ('2521125579', '2521125578'), ('2521125579', '7348644894'), ('2521125578', '2521125580'), ('2521125580', '2521125577'), ('2521125580', '7365570478'), ('7365570478', '6885197123'), ('6885197123', '6885197122'), ('31451760', '7115662750'), ('7115662750', '7115662745'), ('7115662745', '7115662751'), ('7115662751', '7115662753'), ('7115662753', '7115662747'), ('7115662749', '7038604369'), ('7115662749', '7115662742'), ('7038604369', '10163996200'), ('10163996200', '7047823178'), ('7038604367', '7038604368'), ('7038604367', '9581745330'), ('7038604368', '7405091583'), ('7038604368', '245411468'), ('7405091583', '245411467'), ('7231416959', '7231416958'), ('7231416958', '2097831389'), ('2097831389', '1215520055'), ('1215520055', '3350449606'), ('3350449606', '245004113'), ('7188265399', '7115643743'), ('7188265399', '7273039872'), ('7115643743', '7047993553'), ('7115643743', '7047993552'), ('7120192451', '7124910516'), ('7365570458', '388528852'), ('7370325769', '6885197122'), ('6885197122', '6885197121'), ('6885197122', '6885197124'), ('6885197124', '2545781195'), ('2545781195', '2545781197'), ('2545781197', '2545781199'), ('7118241037', '7037104960'), ('7037104960', '7037104962'), ('9581745330', '8496758349'), ('245411468', '245411467'), ('7047823177', '7047823178'), ('7047823177', '7112443020'), ('7047823178', '10163996199'), ('245411453', '7112240054'), ('7112240054', '7115662742'), ('7055172864', '7389038049'), ('7389038049', '7389038048'), ('7389038048', '7055172860'), ('7124910516', '7273039872'), ('7273039872', '7273039873'), ('7273039870', '7273039869'), ('7273039868', '7273039871'), ('7273039875', '7273039874'), ('7273039874', '7273039873'), ('7348644894', '7348644895'), ('4444214002', '7348644895'), ('8243547362', '11057563466'), ('11057563466', '8243547361'), ('8243547361', '8243547360'), ('8243547360', '7055172854'), ('1280377636', '8496758349'), ('245004098', '11356944168'), ('11356944168', '11356944167'), ('11356944167', '11356944166'), ('11356944166', '11356944165'), ('11356944165', '11356944164'), ('11356944164', '11356944163'), ('11356944163', '11356944162'), ('11356944162', '7108797192'), ('2926060005', '798211795'), ('798211795', '11543896362'), ('11543896362', '11543896360'), ('11543896360', '11543896361'), ('3344424273', '798211898'), ('798211898', '11547122783'), ('11547122783', '11547122786'), ('11547122786', '11547122785'), ('11547122785', '11547122784'), ('11547122784', '11550971364'), ('11547122784', '11550971363'), ('11550971363', '11550971362'), ('11550971362', '11550971361'), ('11550971361', '11550971360')]\n"
     ]
    },
    {
     "name": "stderr",
     "output_type": "stream",
     "text": [
      "C:\\Users\\User\\AppData\\Local\\Temp\\ipykernel_6668\\1776594052.py:6: FutureWarning: Series.__getitem__ treating keys as positions is deprecated. In a future version, integer keys will always be treated as labels (consistent with DataFrame behavior). To access a value by position, use `ser.iloc[pos]`\n",
      "  edges_list = [(f'{row[0]}', f'{row[1]}') for _, row in df.iterrows()]\n"
     ]
    }
   ],
   "source": [
    "import pandas as pd\n",
    "\n",
    "df = pd.read_csv('../Playground_Arved/edges_UH_Graph.csv')\n",
    "\n",
    "# Transform DataFrame into list of tuples\n",
    "edges_list = [(f'{row[0]}', f'{row[1]}') for _, row in df.iterrows()]\n",
    "\n",
    "print(edges_list)\n",
    "\n",
    "print([tuple for tuple in edges_list])"
   ]
  }
 ],
 "metadata": {
  "kernelspec": {
   "display_name": "Python 3",
   "language": "python",
   "name": "python3"
  },
  "language_info": {
   "codemirror_mode": {
    "name": "ipython",
    "version": 3
   },
   "file_extension": ".py",
   "mimetype": "text/x-python",
   "name": "python",
   "nbconvert_exporter": "python",
   "pygments_lexer": "ipython3",
   "version": "3.11.8"
  }
 },
 "nbformat": 4,
 "nbformat_minor": 5
}
