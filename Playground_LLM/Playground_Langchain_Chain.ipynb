{
 "cells": [
  {
   "cell_type": "code",
   "execution_count": 1,
   "id": "initial_id",
   "metadata": {
    "collapsed": true,
    "ExecuteTime": {
     "end_time": "2024-03-15T10:17:11.511356Z",
     "start_time": "2024-03-15T10:17:10.822992Z"
    }
   },
   "outputs": [],
   "source": [
    "from langchain.indexes import GraphIndexCreator\n",
    "# from langchain_openai import OpenAI\n",
    "from langchain_community.llms import Ollama\n",
    "\n",
    "import networkx as nx\n",
    "\n",
    "\n",
    "from dotenv import load_dotenv\n",
    "\n",
    "from langchain_core.output_parsers import StrOutputParser\n",
    "from langchain_core.prompts import ChatPromptTemplate\n",
    "\n",
    "from operator import itemgetter\n",
    "\n",
    "from langchain_community.graphs.networkx_graph import NetworkxEntityGraph\n",
    "from langchain_community.graphs.networkx_graph import KnowledgeTriple\n",
    "\n",
    "from langchain_core.runnables import RunnableLambda, RunnablePassthrough"
   ]
  },
  {
   "cell_type": "code",
   "outputs": [
    {
     "data": {
      "text/plain": "True"
     },
     "execution_count": 5,
     "metadata": {},
     "output_type": "execute_result"
    }
   ],
   "source": [
    "load_dotenv()"
   ],
   "metadata": {
    "collapsed": false,
    "ExecuteTime": {
     "end_time": "2024-03-15T10:17:21.574438Z",
     "start_time": "2024-03-15T10:17:21.569291Z"
    }
   },
   "id": "d18b246ab8ef790f",
   "execution_count": 5
  },
  {
   "cell_type": "code",
   "outputs": [],
   "source": [
    "model = Ollama(model=\"llama2\")"
   ],
   "metadata": {
    "collapsed": false,
    "ExecuteTime": {
     "end_time": "2024-03-15T10:17:21.706047Z",
     "start_time": "2024-03-15T10:17:21.703793Z"
    }
   },
   "id": "38bad20e058b5536",
   "execution_count": 6
  },
  {
   "cell_type": "code",
   "outputs": [],
   "source": [
    "output_parser = StrOutputParser()"
   ],
   "metadata": {
    "collapsed": false,
    "ExecuteTime": {
     "end_time": "2024-03-15T10:17:21.832474Z",
     "start_time": "2024-03-15T10:17:21.830336Z"
    }
   },
   "id": "147b966214b84426",
   "execution_count": 7
  },
  {
   "cell_type": "code",
   "outputs": [],
   "source": [
    "# read graph as entity graph\n",
    "G = NetworkxEntityGraph()"
   ],
   "metadata": {
    "collapsed": false,
    "ExecuteTime": {
     "end_time": "2024-03-15T10:17:22.070338Z",
     "start_time": "2024-03-15T10:17:22.068265Z"
    }
   },
   "id": "c72c6a19f27a32be",
   "execution_count": 8
  },
  {
   "cell_type": "code",
   "outputs": [],
   "source": [
    "G.add_triple(KnowledgeTriple('Charging Station', 'connects to', 'N1'))\n",
    "G.add_triple(KnowledgeTriple('N1', 'connects to', 'Mensa'))\n",
    "G.add_triple(KnowledgeTriple('N1', 'connects to', 'N2'))\n",
    "G.add_triple(KnowledgeTriple('Mensa', 'connects to', 'N3'))\n",
    "G.add_triple(KnowledgeTriple('N2', 'connects to', 'N3'))\n",
    "G.add_triple(KnowledgeTriple('N2', 'connects to', 'Blood Storage'))\n",
    "G.add_triple(KnowledgeTriple('N2', 'connects to', 'N4'))\n",
    "G.add_triple(KnowledgeTriple('N3', 'connects to', 'N4'))\n",
    "G.add_triple(KnowledgeTriple('N3', 'connects to', 'Waste Disposal'))"
   ],
   "metadata": {
    "collapsed": false,
    "ExecuteTime": {
     "end_time": "2024-03-15T10:17:22.330596Z",
     "start_time": "2024-03-15T10:17:22.327479Z"
    }
   },
   "id": "13193937a869928d",
   "execution_count": 9
  },
  {
   "cell_type": "code",
   "outputs": [
    {
     "data": {
      "text/plain": "[('Charging Station', 'N1'),\n ('N1', 'Mensa'),\n ('N1', 'N2'),\n ('Mensa', 'N3'),\n ('N2', 'N3'),\n ('N2', 'Blood Storage'),\n ('N2', 'N4'),\n ('N3', 'N4'),\n ('N3', 'Waste Disposal')]"
     },
     "execution_count": 21,
     "metadata": {},
     "output_type": "execute_result"
    }
   ],
   "source": [
    "[(triple[0], triple[1]) for triple in G.get_triples()]\n"
   ],
   "metadata": {
    "collapsed": false,
    "ExecuteTime": {
     "end_time": "2024-03-15T10:22:32.558733Z",
     "start_time": "2024-03-15T10:22:32.553822Z"
    }
   },
   "id": "4912947261acdb15",
   "execution_count": 21
  },
  {
   "cell_type": "code",
   "outputs": [],
   "source": [
    "template = f\"Answer the question based only on the following context: We have a directed graph. It contains these edges: {[(triple[0], triple[1]) for triple in G.get_triples()]} \\n Question: {{question}}\""
   ],
   "metadata": {
    "collapsed": false,
    "ExecuteTime": {
     "end_time": "2024-03-15T10:24:10.994004Z",
     "start_time": "2024-03-15T10:24:10.989906Z"
    }
   },
   "id": "aa032f4688e17fd",
   "execution_count": 26
  },
  {
   "cell_type": "code",
   "outputs": [],
   "source": [
    "prompt = ChatPromptTemplate.from_template(template)"
   ],
   "metadata": {
    "collapsed": false,
    "ExecuteTime": {
     "end_time": "2024-03-15T10:24:11.148978Z",
     "start_time": "2024-03-15T10:24:11.146502Z"
    }
   },
   "id": "82d298f7e092d983",
   "execution_count": 27
  },
  {
   "cell_type": "code",
   "outputs": [],
   "source": [
    "# create chain\n",
    "chain = ({\"question\": RunnablePassthrough()}\n",
    "        | prompt\n",
    "        | model\n",
    "        | StrOutputParser()\n",
    ")"
   ],
   "metadata": {
    "collapsed": false,
    "ExecuteTime": {
     "end_time": "2024-03-15T10:24:11.272063Z",
     "start_time": "2024-03-15T10:24:11.269385Z"
    }
   },
   "id": "13d9a11728ff2842",
   "execution_count": 28
  },
  {
   "cell_type": "code",
   "outputs": [
    {
     "data": {
      "text/plain": "'\\nGiven the provided graph, there are two possible routes to get from Charging Station to Waste Disposal:\\n\\n1. N1 -> Mensa -> N2 -> Blood Storage -> Waste Disposal\\n2. N1 -> N2 -> Blood Storage -> Waste Disposal\\n\\nSo, the options to get from Charging Station to Waste Disposal are:\\n\\n* Go through Mensa and then take the path from Blood Storage to Waste Disposal.\\n* Go directly from Charging Station to Blood Storage and then take the path from Blood Storage to Waste Disposal.'"
     },
     "execution_count": 29,
     "metadata": {},
     "output_type": "execute_result"
    }
   ],
   "source": [
    "chain.invoke(\"What are the options to get from Charging Station to Waste Disposal? Can you list the routs?\")"
   ],
   "metadata": {
    "collapsed": false,
    "ExecuteTime": {
     "end_time": "2024-03-15T10:24:26.931927Z",
     "start_time": "2024-03-15T10:24:14.804484Z"
    }
   },
   "id": "58898707fb4317e",
   "execution_count": 29
  },
  {
   "cell_type": "code",
   "outputs": [
    {
     "data": {
      "text/plain": "\"\\nOf course! If node N2 is no longer available, we can update the list of edges as follows:\\n\\n* The edge ('Charging Station', 'N1') remains unchanged.\\n* The edge ('N1', 'Mensa') remains unchanged.\\n* The edge ('N1', 'N2') is removed.\\n* The edge ('Mensa', 'N3') remains unchanged.\\n* The edge ('N2', 'Blood Storage') becomes an edge between node N1 and node Blood Storage.\\n* The edge ('N2', 'Waste Disposal') becomes an edge between node N1 and node Waste Disposal.\\n\\nSo, the updated list of edges would be:\\n\\n* ('Charging Station', 'N1')\\n* ('N1', 'Mensa')\\n* ('Mensa', 'N3')\\n* ('Blood Storage', 'N1')\\n* ('Waste Disposal', 'N1')\""
     },
     "execution_count": 30,
     "metadata": {},
     "output_type": "execute_result"
    }
   ],
   "source": [
    "chain.invoke(\"Assume that node N2 is not available any more. Could you update the list of edges?\")"
   ],
   "metadata": {
    "collapsed": false,
    "ExecuteTime": {
     "end_time": "2024-03-15T10:25:22.891044Z",
     "start_time": "2024-03-15T10:25:04.382878Z"
    }
   },
   "id": "8e84623580835a79",
   "execution_count": 30
  }
 ],
 "metadata": {
  "kernelspec": {
   "display_name": "Python 3",
   "language": "python",
   "name": "python3"
  },
  "language_info": {
   "codemirror_mode": {
    "name": "ipython",
    "version": 2
   },
   "file_extension": ".py",
   "mimetype": "text/x-python",
   "name": "python",
   "nbconvert_exporter": "python",
   "pygments_lexer": "ipython2",
   "version": "2.7.6"
  }
 },
 "nbformat": 4,
 "nbformat_minor": 5
}
