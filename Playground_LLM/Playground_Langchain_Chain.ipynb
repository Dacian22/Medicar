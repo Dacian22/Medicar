{
 "cells": [
  {
   "cell_type": "code",
   "execution_count": 1,
   "id": "initial_id",
   "metadata": {
    "collapsed": true,
    "ExecuteTime": {
     "end_time": "2024-03-15T10:17:11.511356Z",
     "start_time": "2024-03-15T10:17:10.822992Z"
    }
   },
   "outputs": [],
   "source": [
    "from langchain.indexes import GraphIndexCreator\n",
    "# from langchain_openai import OpenAI\n",
    "from langchain_community.llms import Ollama\n",
    "\n",
    "import networkx as nx\n",
    "\n",
    "\n",
    "from dotenv import load_dotenv\n",
    "\n",
    "from langchain_core.output_parsers import StrOutputParser\n",
    "from langchain_core.prompts import ChatPromptTemplate\n",
    "\n",
    "from operator import itemgetter\n",
    "\n",
    "from langchain_community.graphs.networkx_graph import NetworkxEntityGraph\n",
    "from langchain_community.graphs.networkx_graph import KnowledgeTriple\n",
    "\n",
    "from langchain_core.runnables import RunnableLambda, RunnablePassthrough"
   ]
  },
  {
   "cell_type": "code",
   "outputs": [
    {
     "data": {
      "text/plain": "True"
     },
     "execution_count": 5,
     "metadata": {},
     "output_type": "execute_result"
    }
   ],
   "source": [
    "load_dotenv()"
   ],
   "metadata": {
    "collapsed": false,
    "ExecuteTime": {
     "end_time": "2024-03-15T10:17:21.574438Z",
     "start_time": "2024-03-15T10:17:21.569291Z"
    }
   },
   "id": "d18b246ab8ef790f",
   "execution_count": 5
  },
  {
   "cell_type": "code",
   "outputs": [],
   "source": [
    "model = Ollama(model=\"llama2\")"
   ],
   "metadata": {
    "collapsed": false,
    "ExecuteTime": {
     "end_time": "2024-03-15T10:17:21.706047Z",
     "start_time": "2024-03-15T10:17:21.703793Z"
    }
   },
   "id": "38bad20e058b5536",
   "execution_count": 6
  },
  {
   "cell_type": "code",
   "outputs": [],
   "source": [
    "output_parser = StrOutputParser()"
   ],
   "metadata": {
    "collapsed": false,
    "ExecuteTime": {
     "end_time": "2024-03-15T10:17:21.832474Z",
     "start_time": "2024-03-15T10:17:21.830336Z"
    }
   },
   "id": "147b966214b84426",
   "execution_count": 7
  },
  {
   "cell_type": "code",
   "outputs": [],
   "source": [
    "# read graph as entity graph\n",
    "G = NetworkxEntityGraph()"
   ],
   "metadata": {
    "collapsed": false,
    "ExecuteTime": {
     "end_time": "2024-03-15T10:17:22.070338Z",
     "start_time": "2024-03-15T10:17:22.068265Z"
    }
   },
   "id": "c72c6a19f27a32be",
   "execution_count": 8
  },
  {
   "cell_type": "code",
   "outputs": [],
   "source": [
    "G.add_triple(KnowledgeTriple('Charging Station', 'connects to', 'N1'))\n",
    "G.add_triple(KnowledgeTriple('N1', 'connects to', 'Mensa'))\n",
    "G.add_triple(KnowledgeTriple('N1', 'connects to', 'N2'))\n",
    "G.add_triple(KnowledgeTriple('Mensa', 'connects to', 'N3'))\n",
    "G.add_triple(KnowledgeTriple('N2', 'connects to', 'N3'))\n",
    "G.add_triple(KnowledgeTriple('N2', 'connects to', 'Blood Storage'))\n",
    "G.add_triple(KnowledgeTriple('N2', 'connects to', 'N4'))\n",
    "G.add_triple(KnowledgeTriple('N3', 'connects to', 'N4'))\n",
    "G.add_triple(KnowledgeTriple('N3', 'connects to', 'Waste Disposal'))"
   ],
   "metadata": {
    "collapsed": false,
    "ExecuteTime": {
     "end_time": "2024-03-15T10:17:22.330596Z",
     "start_time": "2024-03-15T10:17:22.327479Z"
    }
   },
   "id": "13193937a869928d",
   "execution_count": 9
  },
  {
   "cell_type": "code",
   "outputs": [],
   "source": [
    "template = f\"Answer the question based only on the following context: {G.get_triples()} \\n Question: {{question}}\""
   ],
   "metadata": {
    "collapsed": false,
    "ExecuteTime": {
     "end_time": "2024-03-15T10:17:22.691149Z",
     "start_time": "2024-03-15T10:17:22.689248Z"
    }
   },
   "id": "aa032f4688e17fd",
   "execution_count": 10
  },
  {
   "cell_type": "code",
   "outputs": [],
   "source": [
    "prompt = ChatPromptTemplate.from_template(template)"
   ],
   "metadata": {
    "collapsed": false,
    "ExecuteTime": {
     "end_time": "2024-03-15T10:17:23.135439Z",
     "start_time": "2024-03-15T10:17:23.133173Z"
    }
   },
   "id": "82d298f7e092d983",
   "execution_count": 11
  },
  {
   "cell_type": "code",
   "outputs": [],
   "source": [
    "# create chain\n",
    "chain = ({\"question\": RunnablePassthrough()}\n",
    "        | prompt\n",
    "        | model\n",
    "        | StrOutputParser()\n",
    ")"
   ],
   "metadata": {
    "collapsed": false,
    "ExecuteTime": {
     "end_time": "2024-03-15T10:17:23.494950Z",
     "start_time": "2024-03-15T10:17:23.491674Z"
    }
   },
   "id": "13d9a11728ff2842",
   "execution_count": 12
  },
  {
   "cell_type": "code",
   "outputs": [
    {
     "data": {
      "text/plain": "' Based on the context provided, the Charging Station connects to Mensa.'"
     },
     "execution_count": 14,
     "metadata": {},
     "output_type": "execute_result"
    }
   ],
   "source": [
    "chain.invoke(\"To which location does the Charging Station connect to?\")"
   ],
   "metadata": {
    "collapsed": false,
    "ExecuteTime": {
     "end_time": "2024-03-15T10:17:49.215084Z",
     "start_time": "2024-03-15T10:17:47.494419Z"
    }
   },
   "id": "58898707fb4317e",
   "execution_count": 14
  },
  {
   "cell_type": "code",
   "outputs": [],
   "source": [],
   "metadata": {
    "collapsed": false
   },
   "id": "d509f13c3d243e9"
  }
 ],
 "metadata": {
  "kernelspec": {
   "display_name": "Python 3",
   "language": "python",
   "name": "python3"
  },
  "language_info": {
   "codemirror_mode": {
    "name": "ipython",
    "version": 2
   },
   "file_extension": ".py",
   "mimetype": "text/x-python",
   "name": "python",
   "nbconvert_exporter": "python",
   "pygments_lexer": "ipython2",
   "version": "2.7.6"
  }
 },
 "nbformat": 4,
 "nbformat_minor": 5
}
