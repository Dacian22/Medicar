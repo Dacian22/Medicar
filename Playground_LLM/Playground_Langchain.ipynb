{
 "cells": [
  {
   "cell_type": "code",
   "execution_count": 1,
   "id": "initial_id",
   "metadata": {
    "collapsed": true,
    "ExecuteTime": {
     "end_time": "2024-03-15T08:53:48.282613Z",
     "start_time": "2024-03-15T08:53:47.518477Z"
    }
   },
   "outputs": [],
   "source": [
    "from langchain.indexes import GraphIndexCreator\n",
    "# from langchain_openai import OpenAI\n",
    "from langchain_community.llms import Ollama\n",
    "\n",
    "import networkx as nx\n",
    "\n",
    "from langchain.chains import GraphQAChain\n",
    "\n",
    "from dotenv import load_dotenv\n",
    "\n",
    "from langchain_community.graphs.networkx_graph import NetworkxEntityGraph\n"
   ]
  },
  {
   "cell_type": "code",
   "outputs": [
    {
     "data": {
      "text/plain": "True"
     },
     "execution_count": 2,
     "metadata": {},
     "output_type": "execute_result"
    }
   ],
   "source": [
    "load_dotenv()"
   ],
   "metadata": {
    "collapsed": false,
    "ExecuteTime": {
     "end_time": "2024-03-15T08:53:52.109984Z",
     "start_time": "2024-03-15T08:53:52.102560Z"
    }
   },
   "id": "d18b246ab8ef790f",
   "execution_count": 2
  },
  {
   "cell_type": "code",
   "outputs": [],
   "source": [
    "llm = Ollama(model=\"llama2\")"
   ],
   "metadata": {
    "collapsed": false,
    "ExecuteTime": {
     "end_time": "2024-03-15T08:53:52.637942Z",
     "start_time": "2024-03-15T08:53:52.633577Z"
    }
   },
   "id": "38bad20e058b5536",
   "execution_count": 3
  },
  {
   "cell_type": "code",
   "outputs": [],
   "source": [
    "# create graph\n",
    "G = nx.DiGraph()"
   ],
   "metadata": {
    "collapsed": false,
    "ExecuteTime": {
     "end_time": "2024-03-15T08:53:53.655424Z",
     "start_time": "2024-03-15T08:53:53.652124Z"
    }
   },
   "id": "218d372facb9c695",
   "execution_count": 4
  },
  {
   "cell_type": "code",
   "outputs": [],
   "source": [
    "# add nodes\n",
    "G.add_nodes_from(['Charging Station', 'Mensa', 'Blood Storage', 'Waste Disposal',\n",
    "                  'N1', 'N2', 'N3', 'N4'])\n",
    "# add edges\n",
    "G.add_edges_from([('Charging Station', 'N1'), ('N1', 'Mensa'), ('N1', 'N2'), ('Mensa', 'N3'),\n",
    "                  ('N2', 'N3'), ('N2', 'Blood Storage'), ('N2', 'N4'), ('N3', 'N4'),\n",
    "                  ('N3','Waste Disposal')])"
   ],
   "metadata": {
    "collapsed": false,
    "ExecuteTime": {
     "end_time": "2024-03-15T08:53:54.700342Z",
     "start_time": "2024-03-15T08:53:54.696560Z"
    }
   },
   "id": "cf9e885d7d40d685",
   "execution_count": 5
  },
  {
   "cell_type": "code",
   "outputs": [],
   "source": [
    "# write graph to gml file\n",
    "# nx.write_gml(G, 'tmp.gml')"
   ],
   "metadata": {
    "collapsed": false,
    "ExecuteTime": {
     "end_time": "2024-03-15T08:53:55.323334Z",
     "start_time": "2024-03-15T08:53:55.321124Z"
    }
   },
   "id": "7a8ad6aa132982a3",
   "execution_count": 6
  },
  {
   "cell_type": "code",
   "outputs": [],
   "source": [
    "# read graph as entity graph\n",
    "# G = NetworkxEntityGraph.from_gml('tmp.gml')"
   ],
   "metadata": {
    "collapsed": false,
    "ExecuteTime": {
     "end_time": "2024-03-15T08:53:56.179064Z",
     "start_time": "2024-03-15T08:53:56.176271Z"
    }
   },
   "id": "f0e70d55725b8e11",
   "execution_count": 7
  },
  {
   "cell_type": "code",
   "outputs": [],
   "source": [
    "# create index\n",
    "index_creator = GraphIndexCreator(llm=llm, verbose=True)"
   ],
   "metadata": {
    "collapsed": false,
    "ExecuteTime": {
     "end_time": "2024-03-15T08:53:57.924569Z",
     "start_time": "2024-03-15T08:53:57.921586Z"
    }
   },
   "id": "aad2e7239106c67",
   "execution_count": 8
  },
  {
   "cell_type": "code",
   "outputs": [],
   "source": [
    "nx_dict = nx.to_dict_of_dicts(G)"
   ],
   "metadata": {
    "collapsed": false,
    "ExecuteTime": {
     "end_time": "2024-03-15T08:53:59.258666Z",
     "start_time": "2024-03-15T08:53:59.255427Z"
    }
   },
   "id": "8a0ec12909680e2e",
   "execution_count": 9
  },
  {
   "cell_type": "code",
   "outputs": [
    {
     "data": {
      "text/plain": "{'Charging Station': {'N1': {}},\n 'Mensa': {'N3': {}},\n 'Blood Storage': {},\n 'Waste Disposal': {},\n 'N1': {'Mensa': {}, 'N2': {}},\n 'N2': {'N3': {}, 'Blood Storage': {}, 'N4': {}},\n 'N3': {'N4': {}, 'Waste Disposal': {}},\n 'N4': {}}"
     },
     "execution_count": 10,
     "metadata": {},
     "output_type": "execute_result"
    }
   ],
   "source": [
    "nx_dict"
   ],
   "metadata": {
    "collapsed": false,
    "ExecuteTime": {
     "end_time": "2024-03-15T08:54:03.688012Z",
     "start_time": "2024-03-15T08:54:03.684803Z"
    }
   },
   "id": "fc0ec9c22919df0e",
   "execution_count": 10
  },
  {
   "cell_type": "code",
   "outputs": [],
   "source": [
    "graph = index_creator.from_text(nx_dict)"
   ],
   "metadata": {
    "collapsed": false,
    "ExecuteTime": {
     "end_time": "2024-03-15T08:54:36.521194Z",
     "start_time": "2024-03-15T08:54:14.062506Z"
    }
   },
   "id": "6a6021866a928988",
   "execution_count": 12
  },
  {
   "cell_type": "code",
   "outputs": [],
   "source": [
    "chain = GraphQAChain.from_llm(llm, graph=graph, verbose=True)"
   ],
   "metadata": {
    "collapsed": false,
    "ExecuteTime": {
     "end_time": "2024-03-15T08:54:47.898880Z",
     "start_time": "2024-03-15T08:54:47.896338Z"
    }
   },
   "id": "98dc2ea3cee0506e",
   "execution_count": 13
  },
  {
   "cell_type": "code",
   "outputs": [
    {
     "name": "stderr",
     "output_type": "stream",
     "text": [
      "/Users/paulkoenig/miniconda3/envs/medicar/lib/python3.11/site-packages/langchain_core/_api/deprecation.py:117: LangChainDeprecationWarning: The function `run` was deprecated in LangChain 0.1.0 and will be removed in 0.2.0. Use invoke instead.\n",
      "  warn_deprecated(\n"
     ]
    },
    {
     "name": "stdout",
     "output_type": "stream",
     "text": [
      "\n",
      "\n",
      "\u001B[1m> Entering new GraphQAChain chain...\u001B[0m\n",
      "Entities Extracted:\n",
      "\u001B[32;1m\u001B[1;3mCertainly! Here are the entities extracted from the given text:\n",
      "\n",
      "* Langchain (mentioned 2 times)\n",
      "* UX (mentioned once)\n",
      "* Sam (mentioned once)\n",
      "* Charging Station (mentioned once)\n",
      "\n",
      "So, the output is: Langchain, Sam, Charging Station.\u001B[0m\n",
      "Full Context:\n",
      "\u001B[32;1m\u001B[1;3m\u001B[0m\n",
      "\n",
      "\u001B[1m> Finished chain.\u001B[0m\n"
     ]
    },
    {
     "data": {
      "text/plain": "'Sure! Here are some knowledge triplets that could help answer the question \"What is a Charging Station?\"\\n\\n1. Charging Station = Place where Electric Vehicles (EVs) can be charged.\\n2. EVs = Electric vehicles, such as cars, buses, and motorcycles.\\n3. Charging = The process of replenishing the energy of an EV\\'s battery using a charging station or other means.\\n\\nBased on these triplets, we can infer that a Charging Station is a place where Electric Vehicles can be charged, typically by plugging into a power source.'"
     },
     "execution_count": 14,
     "metadata": {},
     "output_type": "execute_result"
    }
   ],
   "source": [
    "chain.run(\"what is a Charging Station?\")"
   ],
   "metadata": {
    "collapsed": false,
    "ExecuteTime": {
     "end_time": "2024-03-15T08:55:08.444398Z",
     "start_time": "2024-03-15T08:54:48.929105Z"
    }
   },
   "id": "8b0644e190c68abb",
   "execution_count": 14
  },
  {
   "cell_type": "code",
   "outputs": [
    {
     "name": "stdout",
     "output_type": "stream",
     "text": [
      "\n",
      "\n",
      "\u001B[1m> Entering new GraphQAChain chain...\u001B[0m\n",
      "Entities Extracted:\n",
      "\u001B[32;1m\u001B[1;3mSure! Here are the entities extracted from the text you provided:\n",
      "\n",
      "Langchain, UX, products, user, Sam, Mensa.\n",
      "\n",
      "So, there are 6 entities in total.\u001B[0m\n",
      "Full Context:\n",
      "\u001B[32;1m\u001B[1;3m\u001B[0m\n",
      "\n",
      "\u001B[1m> Finished chain.\u001B[0m\n"
     ]
    },
    {
     "data": {
      "text/plain": "'\\nI apologize, but I cannot provide an answer to your question as the knowledge triplets provided do not contain any information about how a charging station might be connected to Mensa. Therefore, I cannot confidently provide an answer. If you have any further questions or details that might help me better understand the situation, please feel free to ask.'"
     },
     "execution_count": 15,
     "metadata": {},
     "output_type": "execute_result"
    }
   ],
   "source": [
    "chain.run(\"How is the charging station connected to the Mensa?\")"
   ],
   "metadata": {
    "collapsed": false,
    "ExecuteTime": {
     "end_time": "2024-03-15T08:55:29.360600Z",
     "start_time": "2024-03-15T08:55:17.619493Z"
    }
   },
   "id": "dd730085630f7c82",
   "execution_count": 15
  }
 ],
 "metadata": {
  "kernelspec": {
   "display_name": "Python 3",
   "language": "python",
   "name": "python3"
  },
  "language_info": {
   "codemirror_mode": {
    "name": "ipython",
    "version": 2
   },
   "file_extension": ".py",
   "mimetype": "text/x-python",
   "name": "python",
   "nbconvert_exporter": "python",
   "pygments_lexer": "ipython2",
   "version": "2.7.6"
  }
 },
 "nbformat": 4,
 "nbformat_minor": 5
}
