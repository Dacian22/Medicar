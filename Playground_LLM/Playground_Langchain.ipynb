{
 "cells": [
  {
   "cell_type": "code",
   "execution_count": 17,
   "id": "initial_id",
   "metadata": {
    "collapsed": true,
    "ExecuteTime": {
     "end_time": "2024-03-15T09:21:35.046006Z",
     "start_time": "2024-03-15T09:21:35.041136Z"
    }
   },
   "outputs": [],
   "source": [
    "from langchain.indexes import GraphIndexCreator\n",
    "# from langchain_openai import OpenAI\n",
    "from langchain_community.llms import Ollama\n",
    "\n",
    "import networkx as nx\n",
    "\n",
    "from langchain.chains import GraphQAChain\n",
    "\n",
    "from dotenv import load_dotenv\n",
    "\n",
    "from langchain_community.graphs.networkx_graph import NetworkxEntityGraph\n",
    "from langchain_community.graphs.networkx_graph import KnowledgeTriple"
   ]
  },
  {
   "cell_type": "code",
   "outputs": [
    {
     "data": {
      "text/plain": "True"
     },
     "execution_count": 18,
     "metadata": {},
     "output_type": "execute_result"
    }
   ],
   "source": [
    "load_dotenv()"
   ],
   "metadata": {
    "collapsed": false,
    "ExecuteTime": {
     "end_time": "2024-03-15T09:21:35.172842Z",
     "start_time": "2024-03-15T09:21:35.168519Z"
    }
   },
   "id": "d18b246ab8ef790f",
   "execution_count": 18
  },
  {
   "cell_type": "code",
   "outputs": [],
   "source": [
    "llm = Ollama(model=\"llama2\")"
   ],
   "metadata": {
    "collapsed": false,
    "ExecuteTime": {
     "end_time": "2024-03-15T09:21:35.315185Z",
     "start_time": "2024-03-15T09:21:35.313076Z"
    }
   },
   "id": "38bad20e058b5536",
   "execution_count": 19
  },
  {
   "cell_type": "code",
   "outputs": [],
   "source": [
    "# create graph\n",
    "# G = nx.DiGraph()"
   ],
   "metadata": {
    "collapsed": false,
    "ExecuteTime": {
     "end_time": "2024-03-15T09:21:35.442899Z",
     "start_time": "2024-03-15T09:21:35.441395Z"
    }
   },
   "id": "218d372facb9c695",
   "execution_count": 20
  },
  {
   "cell_type": "code",
   "outputs": [],
   "source": [
    "# add nodes\n",
    "# # G.add_nodes_from(['Charging Station', 'Mensa', 'Blood Storage', 'Waste Disposal',\n",
    "# #                   'N1', 'N2', 'N3', 'N4'])\n",
    "# add edges\n",
    "# # G.add_edges_from([('Charging Station', 'N1'), ('N1', 'Mensa'), ('N1', 'N2'), ('Mensa', 'N3'),\n",
    "#                   ('N2', 'N3'), ('N2', 'Blood Storage'), ('N2', 'N4'), ('N3', 'N4'),\n",
    "#                   ('N3','Waste Disposal')])"
   ],
   "metadata": {
    "collapsed": false,
    "ExecuteTime": {
     "end_time": "2024-03-15T09:21:35.526449Z",
     "start_time": "2024-03-15T09:21:35.524513Z"
    }
   },
   "id": "cf9e885d7d40d685",
   "execution_count": 21
  },
  {
   "cell_type": "code",
   "outputs": [],
   "source": [
    "# write graph to gml file\n",
    "# nx.write_gml(G, 'tmp.gml')"
   ],
   "metadata": {
    "collapsed": false,
    "ExecuteTime": {
     "end_time": "2024-03-15T09:21:35.634761Z",
     "start_time": "2024-03-15T09:21:35.633023Z"
    }
   },
   "id": "7a8ad6aa132982a3",
   "execution_count": 22
  },
  {
   "cell_type": "code",
   "outputs": [],
   "source": [
    "# read graph as entity graph\n",
    "G = NetworkxEntityGraph()"
   ],
   "metadata": {
    "collapsed": false,
    "ExecuteTime": {
     "end_time": "2024-03-15T09:21:35.866257Z",
     "start_time": "2024-03-15T09:21:35.864611Z"
    }
   },
   "id": "f0e70d55725b8e11",
   "execution_count": 23
  },
  {
   "cell_type": "code",
   "outputs": [],
   "source": [
    "G.add_triple(KnowledgeTriple('Charging Station', 'connects to', 'N1'))\n",
    "G.add_triple(KnowledgeTriple('N1', 'connects to', 'Mensa'))\n",
    "G.add_triple(KnowledgeTriple('N1', 'connects to', 'N2'))\n",
    "G.add_triple(KnowledgeTriple('Mensa', 'connects to', 'N3'))\n",
    "G.add_triple(KnowledgeTriple('N2', 'connects to', 'N3'))\n",
    "G.add_triple(KnowledgeTriple('N2', 'connects to', 'Blood Storage'))\n",
    "G.add_triple(KnowledgeTriple('N2', 'connects to', 'N4'))\n",
    "G.add_triple(KnowledgeTriple('N3', 'connects to', 'N4'))\n",
    "G.add_triple(KnowledgeTriple('N3', 'connects to', 'Waste Disposal'))"
   ],
   "metadata": {
    "collapsed": false,
    "ExecuteTime": {
     "end_time": "2024-03-15T09:21:36.064223Z",
     "start_time": "2024-03-15T09:21:36.060947Z"
    }
   },
   "id": "1140afab90c90b83",
   "execution_count": 24
  },
  {
   "cell_type": "code",
   "outputs": [],
   "source": [
    "# create index\n",
    "# index_creator = GraphIndexCreator(llm=llm, verbose=True)"
   ],
   "metadata": {
    "collapsed": false,
    "ExecuteTime": {
     "end_time": "2024-03-15T09:21:36.529543Z",
     "start_time": "2024-03-15T09:21:36.527608Z"
    }
   },
   "id": "aad2e7239106c67",
   "execution_count": 25
  },
  {
   "cell_type": "code",
   "outputs": [],
   "source": [
    "# nx_dict = nx.to_dict_of_dicts(G)"
   ],
   "metadata": {
    "collapsed": false,
    "ExecuteTime": {
     "end_time": "2024-03-15T09:21:36.658648Z",
     "start_time": "2024-03-15T09:21:36.656603Z"
    }
   },
   "id": "8a0ec12909680e2e",
   "execution_count": 26
  },
  {
   "cell_type": "code",
   "outputs": [],
   "source": [
    "# nx_dict"
   ],
   "metadata": {
    "collapsed": false,
    "ExecuteTime": {
     "end_time": "2024-03-15T09:21:36.802651Z",
     "start_time": "2024-03-15T09:21:36.800950Z"
    }
   },
   "id": "fc0ec9c22919df0e",
   "execution_count": 27
  },
  {
   "cell_type": "code",
   "outputs": [],
   "source": [
    "# graph = index_creator.from_text(nx_dict)"
   ],
   "metadata": {
    "collapsed": false,
    "ExecuteTime": {
     "end_time": "2024-03-15T09:21:36.960380Z",
     "start_time": "2024-03-15T09:21:36.958160Z"
    }
   },
   "id": "6a6021866a928988",
   "execution_count": 28
  },
  {
   "cell_type": "code",
   "outputs": [
    {
     "data": {
      "text/plain": "[('Charging Station', 'N1', 'connects to'),\n ('N1', 'Mensa', 'connects to'),\n ('N1', 'N2', 'connects to'),\n ('Mensa', 'N3', 'connects to'),\n ('N2', 'N3', 'connects to'),\n ('N2', 'Blood Storage', 'connects to'),\n ('N2', 'N4', 'connects to'),\n ('N3', 'N4', 'connects to'),\n ('N3', 'Waste Disposal', 'connects to')]"
     },
     "execution_count": 29,
     "metadata": {},
     "output_type": "execute_result"
    }
   ],
   "source": [
    "G.get_triples()"
   ],
   "metadata": {
    "collapsed": false,
    "ExecuteTime": {
     "end_time": "2024-03-15T09:21:37.167113Z",
     "start_time": "2024-03-15T09:21:37.163790Z"
    }
   },
   "id": "de7e8b0d72a5f9df",
   "execution_count": 29
  },
  {
   "cell_type": "code",
   "outputs": [],
   "source": [
    "chain = GraphQAChain.from_llm(llm, graph=G, verbose=True)"
   ],
   "metadata": {
    "collapsed": false,
    "ExecuteTime": {
     "end_time": "2024-03-15T09:21:38.368510Z",
     "start_time": "2024-03-15T09:21:38.365277Z"
    }
   },
   "id": "98dc2ea3cee0506e",
   "execution_count": 30
  },
  {
   "cell_type": "code",
   "outputs": [
    {
     "name": "stdout",
     "output_type": "stream",
     "text": [
      "\n",
      "\n",
      "\u001B[1m> Entering new GraphQAChain chain...\u001B[0m\n",
      "Entities Extracted:\n",
      "\u001B[32;1m\u001B[1;3mSure, I can help you with that! Here are the entities mentioned in the text:\n",
      "\n",
      "* Langchain\n",
      "* Sam\n",
      "* Charging Station\n",
      "* Mensa\n",
      "* N1\n",
      "* N2\n",
      "* N3\n",
      "* N4\n",
      "\n",
      "So the output is:\n",
      "\n",
      "Langchain, Sam, Charging Station, Mensa, N1, N2, N3, N4\u001B[0m\n",
      "Full Context:\n",
      "\u001B[32;1m\u001B[1;3mCharging Station connects to N1\n",
      "Mensa connects to N3\n",
      "N1 connects to Mensa\n",
      "N1 connects to N2\n",
      "N2 connects to N3\n",
      "N2 connects to Blood Storage\n",
      "N2 connects to N4\n",
      "N3 connects to N4\n",
      "N3 connects to Waste Disposal\u001B[0m\n",
      "\n",
      "\u001B[1m> Finished chain.\u001B[0m\n"
     ]
    },
    {
     "data": {
      "text/plain": "\"Thank you for providing the knowledge triplets! Based on the information provided, I cannot answer the question as there are multiple possible connections that could be made between the nodes after Mensa is broken. Without additional information or constraints, it's not possible to determine the correct new connections to make.\\n\\nHere are some examples of possible connections that could be made:\\n\\n* Charging Station could connect to N1 instead of Mensa.\\n* Mensa could connect to N4 instead of N3.\\n* N2 could connect to Blood Storage instead of Waste Disposal.\\n\\nPlease let me know if you have any additional information or constraints that can help me provide a more helpful answer.\""
     },
     "execution_count": 38,
     "metadata": {},
     "output_type": "execute_result"
    }
   ],
   "source": [
    "chain.run(str(G.get_triples()) + \"Mensa is broken. Please provide new connections to the other nodes?\")"
   ],
   "metadata": {
    "collapsed": false,
    "ExecuteTime": {
     "end_time": "2024-03-15T09:35:00.778646Z",
     "start_time": "2024-03-15T09:34:35.762153Z"
    }
   },
   "id": "8b0644e190c68abb",
   "execution_count": 38
  },
  {
   "cell_type": "code",
   "outputs": [
    {
     "name": "stdout",
     "output_type": "stream",
     "text": [
      "\n",
      "\n",
      "\u001B[1m> Entering new GraphQAChain chain...\u001B[0m\n",
      "Entities Extracted:\n",
      "\u001B[32;1m\u001B[1;3mSure! Based on your provided guidelines, here are the entities extracted from the text:\n",
      "\n",
      "Langchain, Sam, Mensa\n",
      "\n",
      "So, there are three entities in total: Langchain, Sam, and Mensa.\u001B[0m\n",
      "Full Context:\n",
      "\u001B[32;1m\u001B[1;3m\u001B[0m\n",
      "\n",
      "\u001B[1m> Finished chain.\u001B[0m\n"
     ]
    },
    {
     "data": {
      "text/plain": "'\\nSure, I\\'d be happy to help! Here are some knowledge triplets that may help answer the question \"Where does Mensa connect to?\"\\n\\n1. Mensa is a high IQ society.\\n2. Mensa has chapters in over 100 countries worldwide.\\n3. The headquarters of Mensa International is located in London, England.\\n\\nBased on these triplets, it seems that Mensa has a global presence with chapters in many countries, but the headquarters is located in London. Therefore, the answer to the question \"Where does Mensa connect to?\" is likely \"London\".'"
     },
     "execution_count": 33,
     "metadata": {},
     "output_type": "execute_result"
    }
   ],
   "source": [
    "chain.run(\"Where does Mensa connect to?\")"
   ],
   "metadata": {
    "collapsed": false,
    "ExecuteTime": {
     "end_time": "2024-03-15T09:30:13.659017Z",
     "start_time": "2024-03-15T09:29:54.270736Z"
    }
   },
   "id": "dd730085630f7c82",
   "execution_count": 33
  },
  {
   "cell_type": "code",
   "outputs": [],
   "source": [],
   "metadata": {
    "collapsed": false
   },
   "id": "13d9a11728ff2842"
  }
 ],
 "metadata": {
  "kernelspec": {
   "display_name": "Python 3",
   "language": "python",
   "name": "python3"
  },
  "language_info": {
   "codemirror_mode": {
    "name": "ipython",
    "version": 2
   },
   "file_extension": ".py",
   "mimetype": "text/x-python",
   "name": "python",
   "nbconvert_exporter": "python",
   "pygments_lexer": "ipython2",
   "version": "2.7.6"
  }
 },
 "nbformat": 4,
 "nbformat_minor": 5
}
