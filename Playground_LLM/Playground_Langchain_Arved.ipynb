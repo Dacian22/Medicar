{
 "cells": [
  {
   "cell_type": "markdown",
   "metadata": {},
   "source": [
    "https://python.langchain.com/docs/use_cases/graph/integrations/graph_networkx_qa#create-the-graph"
   ]
  },
  {
   "cell_type": "code",
   "execution_count": 79,
   "metadata": {},
   "outputs": [],
   "source": [
    "# import libraries\n",
    "from langchain.indexes import GraphIndexCreator\n",
    "from langchain.indexes.graph import NetworkxEntityGraph\n",
    "from langchain_community.llms import Ollama\n",
    "from langchain.chains import GraphQAChain\n",
    "import networkx as nx\n",
    "import pandas as pd"
   ]
  },
  {
   "cell_type": "code",
   "execution_count": 80,
   "metadata": {},
   "outputs": [
    {
     "data": {
      "text/html": [
       "<div>\n",
       "<style scoped>\n",
       "    .dataframe tbody tr th:only-of-type {\n",
       "        vertical-align: middle;\n",
       "    }\n",
       "\n",
       "    .dataframe tbody tr th {\n",
       "        vertical-align: top;\n",
       "    }\n",
       "\n",
       "    .dataframe thead th {\n",
       "        text-align: right;\n",
       "    }\n",
       "</style>\n",
       "<table border=\"1\" class=\"dataframe\">\n",
       "  <thead>\n",
       "    <tr style=\"text-align: right;\">\n",
       "      <th></th>\n",
       "      <th>highway type</th>\n",
       "      <th>startNode</th>\n",
       "      <th>endNode</th>\n",
       "    </tr>\n",
       "  </thead>\n",
       "  <tbody>\n",
       "    <tr>\n",
       "      <th>0</th>\n",
       "      <td>footway</td>\n",
       "      <td>31404364</td>\n",
       "      <td>313157654</td>\n",
       "    </tr>\n",
       "    <tr>\n",
       "      <th>1</th>\n",
       "      <td>footway</td>\n",
       "      <td>31404364</td>\n",
       "      <td>7112240026</td>\n",
       "    </tr>\n",
       "    <tr>\n",
       "      <th>2</th>\n",
       "      <td>service</td>\n",
       "      <td>31404364</td>\n",
       "      <td>7120224692</td>\n",
       "    </tr>\n",
       "    <tr>\n",
       "      <th>3</th>\n",
       "      <td>NaN</td>\n",
       "      <td>7120224687</td>\n",
       "      <td>7112240050</td>\n",
       "    </tr>\n",
       "    <tr>\n",
       "      <th>4</th>\n",
       "      <td>NaN</td>\n",
       "      <td>7112240050</td>\n",
       "      <td>7112240049</td>\n",
       "    </tr>\n",
       "  </tbody>\n",
       "</table>\n",
       "</div>"
      ],
      "text/plain": [
       "  highway type   startNode     endNode\n",
       "0      footway    31404364   313157654\n",
       "1      footway    31404364  7112240026\n",
       "2      service    31404364  7120224692\n",
       "3          NaN  7120224687  7112240050\n",
       "4          NaN  7112240050  7112240049"
      ]
     },
     "execution_count": 80,
     "metadata": {},
     "output_type": "execute_result"
    }
   ],
   "source": [
    "# read csv file and skip first row\n",
    "highway_type = pd.read_csv('edge_labels_highways.csv', header=None, skiprows=1,\n",
    "                 names=['edge', 'highway type'])\n",
    "# split the first column into two columns\n",
    "highway_type['edge'] = highway_type['edge'].apply(lambda x: eval(x))\n",
    "\n",
    "# Split the 'edge' column into two columns 'start' and 'end'\n",
    "highway_type[['startNode', 'endNode']] = highway_type['edge'].apply(pd.Series)\n",
    "# convert the values into strings\n",
    "highway_type['startNode'] = highway_type['startNode'].astype(str)\n",
    "highway_type['endNode'] = highway_type['endNode'].astype(str)\n",
    "# Drop the 'edge' column\n",
    "highway_type.drop('edge', axis=1, inplace=True)\n",
    "highway_type.head()"
   ]
  },
  {
   "cell_type": "code",
   "execution_count": 81,
   "metadata": {},
   "outputs": [],
   "source": [
    "# create networkx graph based on csv files\n",
    "G = nx.read_edgelist(\"edges_UH_Graph.csv\", delimiter=\",\", create_using=nx.DiGraph(), nodetype=str)\n",
    "# add labels to edges according to highway\n",
    "for u,v in G.edges():\n",
    "    if (u,v) in zip(highway_type['startNode'], highway_type['endNode']):\n",
    "        G[u][v]['relation'] = highway_type['highway type'].loc[(highway_type['startNode'] == u) & (highway_type['endNode'] == v)].values[0]\n",
    "    else:\n",
    "        G[u][v]['relation'] = 'unknown'"
   ]
  },
  {
   "cell_type": "code",
   "execution_count": 82,
   "metadata": {},
   "outputs": [],
   "source": [
    "# write the graph to a GML file\n",
    "nx.write_gml(G, \"UH_Graph.gml\")"
   ]
  },
  {
   "cell_type": "code",
   "execution_count": 83,
   "metadata": {},
   "outputs": [],
   "source": [
    "# read the graph from the GML file\n",
    "G = nx.read_gml(\"UH_Graph.gml\")"
   ]
  },
  {
   "cell_type": "code",
   "execution_count": 84,
   "metadata": {},
   "outputs": [],
   "source": [
    "# load gml graph as NetworkxEntityGraph\n",
    "G = nx.read_gml(\"UH_Graph.gml\")\n",
    "G_NX = NetworkxEntityGraph(G)"
   ]
  },
  {
   "cell_type": "code",
   "execution_count": 85,
   "metadata": {},
   "outputs": [],
   "source": [
    "# define the chain\n",
    "chain = GraphQAChain.from_llm(Ollama(model=\"llama2\"), graph = G_NX, verbose = False)"
   ]
  },
  {
   "cell_type": "code",
   "execution_count": 86,
   "metadata": {},
   "outputs": [],
   "source": [
    "chain.run('Are the lables of the edges different?')"
   ]
  }
 ],
 "metadata": {
  "kernelspec": {
   "display_name": "medicar",
   "language": "python",
   "name": "python3"
  },
  "language_info": {
   "codemirror_mode": {
    "name": "ipython",
    "version": 3
   },
   "file_extension": ".py",
   "mimetype": "text/x-python",
   "name": "python",
   "nbconvert_exporter": "python",
   "pygments_lexer": "ipython3",
   "version": "3.12.2"
  }
 },
 "nbformat": 4,
 "nbformat_minor": 2
}
