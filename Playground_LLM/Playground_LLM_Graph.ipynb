{
 "cells": [
  {
   "cell_type": "code",
   "execution_count": null,
   "metadata": {},
   "outputs": [],
   "source": [
    "import networkx as nx\n",
    "import openai\n",
    "from dotenv import load_dotenv\n",
    "from openai import OpenAI\n",
    "import os\n",
    "import json"
   ]
  },
  {
   "cell_type": "code",
   "execution_count": null,
   "metadata": {},
   "outputs": [],
   "source": [
    "import BuildGraph\n",
    "\n",
    "parameters = {\n",
    "    \"subgraph_params\": {\n",
    "        'special_nodes': ['Emmaus Kapelle', 'Apotheke des Universitätsklinikums',\n",
    "                 'Neurozentrum', 'Café am Ring', 'Die Andere Galerie', 'Augenklinik / HNO',\n",
    "                 'Tonus', 'Neurozentrum', 'Café am Eck', 'Bistro am Lorenzring',\n",
    "                 'Urologie', 'Luther Kindergarten', 'Kiosk Frauenklinik', 'Ernährungsmedizin',\n",
    "                 'Medienzentrum', '3SAM Tagespflege', 'Klinik für Onkologische Rehabilitation',\n",
    "                 'Stimme vom Berg', 'Klinik für Frauenheilkunde', 'Cafeteria im Casino',\n",
    "                 'Sympathy', 'Die Himmelsleiter', 'Zwischen den Räumen',\n",
    "                 'Terrakotta', 'Große Kugelkopfsäule', 'Freischwimmer', 'Notaufnahme', 'Gum',\n",
    "                 'Tripylon', 'Notfallpraxis der niedergelassenen Ärzte', 'Klinik für Palliativmedizin',\n",
    "                 'Lebensalter', 'Blutspende Freiburg', 'Christian Daniel Nussbaum','Das große Spiel',\n",
    "                 'Hippokrates von Kos', 'Theodor Billroth',\n",
    "                 'Adolf Lorenz', 'Universitätsklinikum Freiburg - Klinik für Innere Medizin'],\n",
    "        'allowed_highway_types': ['footway', 'unclassified', 'service', 'platform',\n",
    "                                  'steps', 'residential', 'construction', 'path', 'secondary_link',\n",
    "                                  'tertiary', 'pedestrian', 'secondary', 'cycleway'],\n",
    "        'allowed_surface_types': [None, 'grass_paver', 'paving_stones', 'asphalt', 'cobblestone', 'sett']},\n",
    "}\n",
    "\n",
    "\n",
    "G, edge_df, nodes_df = BuildGraph.build_nx_graph(\n",
    "        parameters['subgraph_params']['allowed_highway_types'],\n",
    "        parameters['subgraph_params']['allowed_surface_types'],\n",
    "        parameters['subgraph_params']['special_nodes'])"
   ]
  },
  {
   "cell_type": "code",
   "execution_count": null,
   "metadata": {},
   "outputs": [],
   "source": [
    "def get_neighbor_nodes(given_node):\n",
    "    \"\"\"Return the neighbors of the specified node in the graph.\"\"\"\n",
    "    \n",
    "    if given_node in G:\n",
    "        neighbor_nodes = {\n",
    "            \"neighbor_nodes\": list(G.neighbors(given_node)),\n",
    "        }             \n",
    "    else:\n",
    "        neighbor_nodes = {\n",
    "            \"neighbor_nodes\": \"\",\n",
    "        }\n",
    "\n",
    "    return json.dumps(neighbor_nodes)"
   ]
  },
  {
   "cell_type": "code",
   "execution_count": null,
   "metadata": {},
   "outputs": [],
   "source": [
    "function_descriptions = [\n",
    "    {\n",
    "        \"name\": \"get_neighbor_nodes\",\n",
    "        \"descripton\": \"Get the impacted nodes from a specific node in a graph.\",\n",
    "        \"parameters\": {\n",
    "            \"type\": \"object\",\n",
    "            \"properties\": {\n",
    "                \"given_node\": {\n",
    "                    \"type\": \"string\",\n",
    "                    \"description\": \"A specific node in a graph. \",\n",
    "                },\n",
    "            },\n",
    "        },\n",
    "    }\n",
    "]"
   ]
  },
  {
   "cell_type": "code",
   "execution_count": null,
   "metadata": {},
   "outputs": [],
   "source": [
    "\n",
    "user_prompt = \"\"\"There is a fire alarm going off at node 31451751.\"\"\"\n",
    "context = \"\"\"You are a graph expert and you are given the graph of a university hospital\n",
    "            campus. Nodes are the buildings in the graph and edges are the routes between\n",
    "            the buildings. You will be given some information that something is happening \n",
    "            at a specific node. You need to determine if what is happening impacts other buildings in \n",
    "            the graph. The event impacts other buildings if it causes the people that are\n",
    "            inside the given building to go outside of the building in case of an emergency, thus, \n",
    "            causing traffic in the edges. If the event does not cause traffic in the edges around \n",
    "            the given node, answer that the only impacted node is the given node. Otherwise, \n",
    "            give the impacted nodes. \"\"\"\n",
    "\n",
    "full_prompt = f\"{context} \\n {user_prompt}\"\n",
    "\n",
    "\n",
    "client = OpenAI(api_key = os.getenv(\"OPENAI_API_KEY\"))\n",
    "\n",
    "response1 = client.chat.completions.create(\n",
    "    model=\"gpt-3.5-turbo\",\n",
    "    messages = [{'role': 'user', 'content': full_prompt}],\n",
    "    max_tokens=300,\n",
    "    functions=function_descriptions,\n",
    "    function_call=\"auto\",\n",
    ")\n"
   ]
  },
  {
   "cell_type": "code",
   "execution_count": null,
   "metadata": {},
   "outputs": [],
   "source": [
    "output = response1.choices[0].message\n",
    "\n",
    "if output.function_call:\n",
    "    params = json.loads(output.function_call.arguments)\n",
    "    chosen_function = eval(output.function_call.name)\n",
    "    answer = chosen_function(**params)\n",
    "\n",
    "\n",
    "    response2 = client.chat.completions.create(\n",
    "        model=\"gpt-3.5-turbo\",\n",
    "        messages = [{'role': 'user', 'content': full_prompt},\n",
    "                    {'role': \"function\", \"name\": output.function_call.name, \"content\": answer},\n",
    "        ],\n",
    "        max_tokens=300,\n",
    "        functions=function_descriptions,\n",
    "    )\n",
    "\n",
    "    print(response2.choices[0].message.content)\n",
    "\n",
    "else:\n",
    "    print(output.content)"
   ]
  }
 ],
 "metadata": {
  "kernelspec": {
   "display_name": "base",
   "language": "python",
   "name": "python3"
  },
  "language_info": {
   "codemirror_mode": {
    "name": "ipython",
    "version": 3
   },
   "file_extension": ".py",
   "mimetype": "text/x-python",
   "name": "python",
   "nbconvert_exporter": "python",
   "pygments_lexer": "ipython3",
   "version": "3.9.12"
  }
 },
 "nbformat": 4,
 "nbformat_minor": 2
}
