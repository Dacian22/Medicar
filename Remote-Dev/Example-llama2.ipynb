{
 "cells": [
  {
   "cell_type": "code",
   "id": "d86e9cd80e73660f",
   "metadata": {
    "collapsed": true,
    "ExecuteTime": {
     "end_time": "2024-04-12T10:29:38.346300Z",
     "start_time": "2024-04-12T10:29:38.343153Z"
    }
   },
   "source": [
    "\n",
    "# from langchain.schema import SystemMessage, HumanMessage\n",
    "# from langchain.prompts import ChatPromptTemplate\n",
    "# from langchain.schema.runnable import RunnableMap\n",
    "from langserve import RemoteRunnable"
   ],
   "outputs": [],
   "execution_count": 42
  },
  {
   "metadata": {
    "ExecuteTime": {
     "end_time": "2024-04-12T10:29:51.207632Z",
     "start_time": "2024-04-12T10:29:51.205131Z"
    }
   },
   "cell_type": "code",
   "source": "# Look at the README for more information on how to connect to the langserve server",
   "id": "f47b6bc00f251523",
   "outputs": [],
   "execution_count": 44
  },
  {
   "metadata": {
    "ExecuteTime": {
     "end_time": "2024-04-12T10:29:38.890979Z",
     "start_time": "2024-04-12T10:29:38.513616Z"
    }
   },
   "cell_type": "code",
   "source": [
    "\n",
    "llama2 = RemoteRunnable(\"http://127.0.0.1:8489/llama2\")\n",
    "# llama2 = RemoteRunnable(\"http://134.155.203.252:8489/llama2\")\n",
    "                        \n",
    "llama2.invoke(\"HI!\")"
   ],
   "id": "b49324c5bcfe0556",
   "outputs": [
    {
     "data": {
      "text/plain": [
       "AIMessage(content=\"Hello! It's nice to meet you. How are you today?\", response_metadata={'model': 'llama2', 'created_at': '2024-04-12T10:29:38.946136717Z', 'message': {'role': 'assistant', 'content': ''}, 'done': True, 'total_duration': 284965611, 'load_duration': 6351112, 'prompt_eval_duration': 9602000, 'eval_count': 16, 'eval_duration': 133811000}, id='run-33603037-b8fd-442c-a54e-d5fbac480be1-0')"
      ]
     },
     "execution_count": 43,
     "metadata": {},
     "output_type": "execute_result"
    }
   ],
   "execution_count": 43
  },
  {
   "metadata": {
    "ExecuteTime": {
     "end_time": "2024-04-12T09:12:52.967750Z",
     "start_time": "2024-04-12T09:12:52.954607Z"
    }
   },
   "cell_type": "code",
   "source": [
    "\n",
    "# or async\n",
    "await joke_chain.ainvoke({\"topic\": \"parrots\"})\n",
    "\n",
    "prompt = [\n",
    "    SystemMessage(content='Act like either a cat or a parrot.'),\n",
    "    HumanMessage(content='Hello!')\n",
    "]\n",
    "\n",
    "# Supports astream\n",
    "async for msg in anthropic.astream(prompt):\n",
    "    print(msg, end=\"\", flush=True)\n",
    "\n",
    "prompt = ChatPromptTemplate.from_messages(\n",
    "    [(\"system\", \"Tell me a long story about {topic}\")]\n",
    ")\n",
    "\n",
    "# Can define custom chains\n",
    "chain = prompt | RunnableMap({\n",
    "    \"openai\": openai,\n",
    "    \"anthropic\": anthropic,\n",
    "})\n",
    "\n",
    "chain.batch([{\"topic\": \"parrots\"}, {\"topic\": \"cats\"}])\n",
    "\n"
   ],
   "id": "initial_id",
   "outputs": [
    {
     "ename": "NameError",
     "evalue": "name 'joke_chain' is not defined",
     "output_type": "error",
     "traceback": [
      "\u001B[0;31m---------------------------------------------------------------------------\u001B[0m",
      "\u001B[0;31mNameError\u001B[0m                                 Traceback (most recent call last)",
      "Cell \u001B[0;32mIn[5], line 2\u001B[0m\n\u001B[1;32m      1\u001B[0m \u001B[38;5;66;03m# or async\u001B[39;00m\n\u001B[0;32m----> 2\u001B[0m \u001B[38;5;28;01mawait\u001B[39;00m joke_chain\u001B[38;5;241m.\u001B[39mainvoke({\u001B[38;5;124m\"\u001B[39m\u001B[38;5;124mtopic\u001B[39m\u001B[38;5;124m\"\u001B[39m: \u001B[38;5;124m\"\u001B[39m\u001B[38;5;124mparrots\u001B[39m\u001B[38;5;124m\"\u001B[39m})\n\u001B[1;32m      4\u001B[0m prompt \u001B[38;5;241m=\u001B[39m [\n\u001B[1;32m      5\u001B[0m     SystemMessage(content\u001B[38;5;241m=\u001B[39m\u001B[38;5;124m'\u001B[39m\u001B[38;5;124mAct like either a cat or a parrot.\u001B[39m\u001B[38;5;124m'\u001B[39m),\n\u001B[1;32m      6\u001B[0m     HumanMessage(content\u001B[38;5;241m=\u001B[39m\u001B[38;5;124m'\u001B[39m\u001B[38;5;124mHello!\u001B[39m\u001B[38;5;124m'\u001B[39m)\n\u001B[1;32m      7\u001B[0m ]\n\u001B[1;32m      9\u001B[0m \u001B[38;5;66;03m# Supports astream\u001B[39;00m\n",
      "\u001B[0;31mNameError\u001B[0m: name 'joke_chain' is not defined"
     ]
    }
   ],
   "execution_count": 5
  },
  {
   "metadata": {},
   "cell_type": "code",
   "outputs": [],
   "execution_count": null,
   "source": "",
   "id": "c578721124462701"
  }
 ],
 "metadata": {
  "kernelspec": {
   "display_name": "Python 3",
   "language": "python",
   "name": "python3"
  },
  "language_info": {
   "codemirror_mode": {
    "name": "ipython",
    "version": 2
   },
   "file_extension": ".py",
   "mimetype": "text/x-python",
   "name": "python",
   "nbconvert_exporter": "python",
   "pygments_lexer": "ipython2",
   "version": "2.7.6"
  }
 },
 "nbformat": 4,
 "nbformat_minor": 5
}
