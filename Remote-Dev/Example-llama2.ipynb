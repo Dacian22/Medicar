{
 "cells": [
  {
   "cell_type": "code",
   "id": "d86e9cd80e73660f",
   "metadata": {
    "collapsed": true,
    "ExecuteTime": {
     "end_time": "2024-04-12T10:29:38.346300Z",
     "start_time": "2024-04-12T10:29:38.343153Z"
    }
   },
   "source": [
    "\n",
    "# from langchain.schema import SystemMessage, HumanMessage\n",
    "# from langchain.prompts import ChatPromptTemplate\n",
    "# from langchain.schema.runnable import RunnableMap\n",
    "from langserve import RemoteRunnable"
   ],
   "outputs": [],
   "execution_count": 42
  },
  {
   "metadata": {
    "ExecuteTime": {
     "end_time": "2024-04-12T10:29:51.207632Z",
     "start_time": "2024-04-12T10:29:51.205131Z"
    }
   },
   "cell_type": "code",
   "source": "# Look at the README for more information on how to connect to the langserve server",
   "id": "f47b6bc00f251523",
   "outputs": [],
   "execution_count": 44
  },
  {
   "metadata": {
    "ExecuteTime": {
     "end_time": "2024-04-12T10:29:38.890979Z",
     "start_time": "2024-04-12T10:29:38.513616Z"
    }
   },
   "cell_type": "code",
   "source": [
    "\n",
    "llama2 = RemoteRunnable(\"http://127.0.0.1:8489/llama2\")\n",
    "# llama2 = RemoteRunnable(\"http://134.155.203.252:8489/llama2\")\n",
    "                        \n",
    "llama2.invoke(\"HI!\")"
   ],
   "id": "b49324c5bcfe0556",
   "outputs": [
    {
     "data": {
      "text/plain": [
       "AIMessage(content=\"Hello! It's nice to meet you. How are you today?\", response_metadata={'model': 'llama2', 'created_at': '2024-04-12T10:29:38.946136717Z', 'message': {'role': 'assistant', 'content': ''}, 'done': True, 'total_duration': 284965611, 'load_duration': 6351112, 'prompt_eval_duration': 9602000, 'eval_count': 16, 'eval_duration': 133811000}, id='run-33603037-b8fd-442c-a54e-d5fbac480be1-0')"
      ]
     },
     "execution_count": 43,
     "metadata": {},
     "output_type": "execute_result"
    }
   ],
   "execution_count": 43
  }
 ],
 "metadata": {
  "kernelspec": {
   "display_name": "Python 3",
   "language": "python",
   "name": "python3"
  },
  "language_info": {
   "codemirror_mode": {
    "name": "ipython",
    "version": 2
   },
   "file_extension": ".py",
   "mimetype": "text/x-python",
   "name": "python",
   "nbconvert_exporter": "python",
   "pygments_lexer": "ipython2",
   "version": "2.7.6"
  }
 },
 "nbformat": 4,
 "nbformat_minor": 5
}
